{
  "nbformat": 4,
  "nbformat_minor": 0,
  "metadata": {
    "colab": {
      "name": "Project.ipynb",
      "provenance": [],
      "collapsed_sections": [
        "NLrWcRbZVe8S"
      ]
    },
    "kernelspec": {
      "name": "python3",
      "display_name": "Python 3"
    }
  },
  "cells": [
    {
      "cell_type": "markdown",
      "metadata": {
        "id": "-9ov3sXMVW4x"
      },
      "source": [
        "# MAT 328 - Final Project\r\n",
        "### Tony Lu\r\n",
        "\r\n",
        "---\r\n",
        "\r\n",
        "This project uses the [Motor Vehicle Collision](https://data.cityofnewyork.us/Public-Safety/Motor-Vehicle-Collisions-Crashes/h9gi-nx95) dataset offered by [NYC Open Data](http://opendata.cityofnewyork.us/).\r\n",
        "\r\n",
        "All data and values are dated March 2021 - the most recent date this notebook was executed. Executing this notebook at a later date may yield different results compared to what is already rendered in this notebook."
      ]
    },
    {
      "cell_type": "markdown",
      "metadata": {
        "id": "NLrWcRbZVe8S"
      },
      "source": [
        "# Project Setup"
      ]
    },
    {
      "cell_type": "markdown",
      "metadata": {
        "id": "r7MORp_yVhlL"
      },
      "source": [
        "### Import the necessary libraries"
      ]
    },
    {
      "cell_type": "code",
      "metadata": {
        "id": "wsPefb0IVf7E"
      },
      "source": [
        "import pandas as pd\r\n",
        "import numpy as np\r\n",
        "import seaborn as sns\r\n",
        "import matplotlib.pyplot as plt\r\n",
        "\r\n",
        "%matplotlib inline\r\n",
        "sns.set_theme(style='darkgrid')"
      ],
      "execution_count": null,
      "outputs": []
    },
    {
      "cell_type": "markdown",
      "metadata": {
        "id": "9irqsgc6VyPZ"
      },
      "source": [
        "### Download and load the data"
      ]
    },
    {
      "cell_type": "code",
      "metadata": {
        "colab": {
          "base_uri": "https://localhost:8080/"
        },
        "id": "2ZkMxdmHVz7r",
        "outputId": "a5c2bd87-8dbb-4005-a5ff-e88b26e2533f"
      },
      "source": [
        "# This might take awhile. It has 1.7 million rows after all.\r\n",
        "raw_data = pd.read_csv('https://data.cityofnewyork.us/api/views/h9gi-nx95/rows.csv?accessType=DOWNLOAD')"
      ],
      "execution_count": null,
      "outputs": [
        {
          "output_type": "stream",
          "text": [
            "/usr/local/lib/python3.7/dist-packages/IPython/core/interactiveshell.py:2718: DtypeWarning: Columns (3) have mixed types.Specify dtype option on import or set low_memory=False.\n",
            "  interactivity=interactivity, compiler=compiler, result=result)\n"
          ],
          "name": "stderr"
        }
      ]
    },
    {
      "cell_type": "code",
      "metadata": {
        "id": "qPOALH3vV5YB"
      },
      "source": [
        "df = raw_data.copy()"
      ],
      "execution_count": null,
      "outputs": []
    },
    {
      "cell_type": "markdown",
      "metadata": {
        "id": "Nr5wI7AzV_2V"
      },
      "source": [
        "### Show the data"
      ]
    },
    {
      "cell_type": "code",
      "metadata": {
        "colab": {
          "base_uri": "https://localhost:8080/"
        },
        "id": "PeyHsNyuV8k3",
        "outputId": "050a465d-6d84-471a-f8ba-67922650b7f9"
      },
      "source": [
        "df.head()"
      ],
      "execution_count": null,
      "outputs": [
        {
          "output_type": "execute_result",
          "data": {
            "text/html": [
              "<div>\n",
              "<style scoped>\n",
              "    .dataframe tbody tr th:only-of-type {\n",
              "        vertical-align: middle;\n",
              "    }\n",
              "\n",
              "    .dataframe tbody tr th {\n",
              "        vertical-align: top;\n",
              "    }\n",
              "\n",
              "    .dataframe thead th {\n",
              "        text-align: right;\n",
              "    }\n",
              "</style>\n",
              "<table border=\"1\" class=\"dataframe\">\n",
              "  <thead>\n",
              "    <tr style=\"text-align: right;\">\n",
              "      <th></th>\n",
              "      <th>CRASH DATE</th>\n",
              "      <th>CRASH TIME</th>\n",
              "      <th>BOROUGH</th>\n",
              "      <th>ZIP CODE</th>\n",
              "      <th>LATITUDE</th>\n",
              "      <th>LONGITUDE</th>\n",
              "      <th>LOCATION</th>\n",
              "      <th>ON STREET NAME</th>\n",
              "      <th>CROSS STREET NAME</th>\n",
              "      <th>OFF STREET NAME</th>\n",
              "      <th>NUMBER OF PERSONS INJURED</th>\n",
              "      <th>NUMBER OF PERSONS KILLED</th>\n",
              "      <th>NUMBER OF PEDESTRIANS INJURED</th>\n",
              "      <th>NUMBER OF PEDESTRIANS KILLED</th>\n",
              "      <th>NUMBER OF CYCLIST INJURED</th>\n",
              "      <th>NUMBER OF CYCLIST KILLED</th>\n",
              "      <th>NUMBER OF MOTORIST INJURED</th>\n",
              "      <th>NUMBER OF MOTORIST KILLED</th>\n",
              "      <th>CONTRIBUTING FACTOR VEHICLE 1</th>\n",
              "      <th>CONTRIBUTING FACTOR VEHICLE 2</th>\n",
              "      <th>CONTRIBUTING FACTOR VEHICLE 3</th>\n",
              "      <th>CONTRIBUTING FACTOR VEHICLE 4</th>\n",
              "      <th>CONTRIBUTING FACTOR VEHICLE 5</th>\n",
              "      <th>COLLISION_ID</th>\n",
              "      <th>VEHICLE TYPE CODE 1</th>\n",
              "      <th>VEHICLE TYPE CODE 2</th>\n",
              "      <th>VEHICLE TYPE CODE 3</th>\n",
              "      <th>VEHICLE TYPE CODE 4</th>\n",
              "      <th>VEHICLE TYPE CODE 5</th>\n",
              "    </tr>\n",
              "  </thead>\n",
              "  <tbody>\n",
              "    <tr>\n",
              "      <th>0</th>\n",
              "      <td>03/05/2020</td>\n",
              "      <td>20:30</td>\n",
              "      <td>MANHATTAN</td>\n",
              "      <td>10018</td>\n",
              "      <td>40.755730</td>\n",
              "      <td>-73.990906</td>\n",
              "      <td>(40.75573, -73.990906)</td>\n",
              "      <td>NaN</td>\n",
              "      <td>NaN</td>\n",
              "      <td>611       8 AVENUE</td>\n",
              "      <td>1.0</td>\n",
              "      <td>0.0</td>\n",
              "      <td>0</td>\n",
              "      <td>0</td>\n",
              "      <td>1</td>\n",
              "      <td>0</td>\n",
              "      <td>0</td>\n",
              "      <td>0</td>\n",
              "      <td>Unspecified</td>\n",
              "      <td>NaN</td>\n",
              "      <td>NaN</td>\n",
              "      <td>NaN</td>\n",
              "      <td>NaN</td>\n",
              "      <td>4299462</td>\n",
              "      <td>E-Scooter</td>\n",
              "      <td>NaN</td>\n",
              "      <td>NaN</td>\n",
              "      <td>NaN</td>\n",
              "      <td>NaN</td>\n",
              "    </tr>\n",
              "    <tr>\n",
              "      <th>1</th>\n",
              "      <td>03/07/2020</td>\n",
              "      <td>19:13</td>\n",
              "      <td>BROOKLYN</td>\n",
              "      <td>11203</td>\n",
              "      <td>40.655823</td>\n",
              "      <td>-73.929825</td>\n",
              "      <td>(40.655823, -73.929825)</td>\n",
              "      <td>NaN</td>\n",
              "      <td>NaN</td>\n",
              "      <td>256       EAST 51 STREET</td>\n",
              "      <td>0.0</td>\n",
              "      <td>0.0</td>\n",
              "      <td>0</td>\n",
              "      <td>0</td>\n",
              "      <td>0</td>\n",
              "      <td>0</td>\n",
              "      <td>0</td>\n",
              "      <td>0</td>\n",
              "      <td>Backing Unsafely</td>\n",
              "      <td>Unspecified</td>\n",
              "      <td>NaN</td>\n",
              "      <td>NaN</td>\n",
              "      <td>NaN</td>\n",
              "      <td>4305819</td>\n",
              "      <td>Station Wagon/Sport Utility Vehicle</td>\n",
              "      <td>Station Wagon/Sport Utility Vehicle</td>\n",
              "      <td>NaN</td>\n",
              "      <td>NaN</td>\n",
              "      <td>NaN</td>\n",
              "    </tr>\n",
              "    <tr>\n",
              "      <th>2</th>\n",
              "      <td>05/02/2020</td>\n",
              "      <td>14:00</td>\n",
              "      <td>MANHATTAN</td>\n",
              "      <td>10001</td>\n",
              "      <td>40.745697</td>\n",
              "      <td>-73.994510</td>\n",
              "      <td>(40.745697, -73.99451)</td>\n",
              "      <td>NaN</td>\n",
              "      <td>NaN</td>\n",
              "      <td>270       7 AVENUE</td>\n",
              "      <td>1.0</td>\n",
              "      <td>0.0</td>\n",
              "      <td>0</td>\n",
              "      <td>0</td>\n",
              "      <td>1</td>\n",
              "      <td>0</td>\n",
              "      <td>0</td>\n",
              "      <td>0</td>\n",
              "      <td>Pedestrian/Bicyclist/Other Pedestrian Error/Co...</td>\n",
              "      <td>Unspecified</td>\n",
              "      <td>NaN</td>\n",
              "      <td>NaN</td>\n",
              "      <td>NaN</td>\n",
              "      <td>4311485</td>\n",
              "      <td>Bike</td>\n",
              "      <td>Station Wagon/Sport Utility Vehicle</td>\n",
              "      <td>NaN</td>\n",
              "      <td>NaN</td>\n",
              "      <td>NaN</td>\n",
              "    </tr>\n",
              "    <tr>\n",
              "      <th>3</th>\n",
              "      <td>03/11/2020</td>\n",
              "      <td>17:22</td>\n",
              "      <td>NaN</td>\n",
              "      <td>NaN</td>\n",
              "      <td>40.633120</td>\n",
              "      <td>-74.136760</td>\n",
              "      <td>(40.63312, -74.13676)</td>\n",
              "      <td>NaN</td>\n",
              "      <td>NaN</td>\n",
              "      <td>357       PORT RICHMOND AVENUE</td>\n",
              "      <td>0.0</td>\n",
              "      <td>0.0</td>\n",
              "      <td>0</td>\n",
              "      <td>0</td>\n",
              "      <td>0</td>\n",
              "      <td>0</td>\n",
              "      <td>0</td>\n",
              "      <td>0</td>\n",
              "      <td>Unspecified</td>\n",
              "      <td>NaN</td>\n",
              "      <td>NaN</td>\n",
              "      <td>NaN</td>\n",
              "      <td>NaN</td>\n",
              "      <td>4299816</td>\n",
              "      <td>Sedan</td>\n",
              "      <td>NaN</td>\n",
              "      <td>NaN</td>\n",
              "      <td>NaN</td>\n",
              "      <td>NaN</td>\n",
              "    </tr>\n",
              "    <tr>\n",
              "      <th>4</th>\n",
              "      <td>04/03/2020</td>\n",
              "      <td>16:25</td>\n",
              "      <td>BROOKLYN</td>\n",
              "      <td>11236</td>\n",
              "      <td>40.633022</td>\n",
              "      <td>-73.906746</td>\n",
              "      <td>(40.633022, -73.906746)</td>\n",
              "      <td>NaN</td>\n",
              "      <td>NaN</td>\n",
              "      <td>1132      EAST 83 STREET</td>\n",
              "      <td>0.0</td>\n",
              "      <td>0.0</td>\n",
              "      <td>0</td>\n",
              "      <td>0</td>\n",
              "      <td>0</td>\n",
              "      <td>0</td>\n",
              "      <td>0</td>\n",
              "      <td>0</td>\n",
              "      <td>Unsafe Speed</td>\n",
              "      <td>Unspecified</td>\n",
              "      <td>Unspecified</td>\n",
              "      <td>Unspecified</td>\n",
              "      <td>NaN</td>\n",
              "      <td>4308309</td>\n",
              "      <td>Sedan</td>\n",
              "      <td>Station Wagon/Sport Utility Vehicle</td>\n",
              "      <td>Station Wagon/Sport Utility Vehicle</td>\n",
              "      <td>Sedan</td>\n",
              "      <td>NaN</td>\n",
              "    </tr>\n",
              "  </tbody>\n",
              "</table>\n",
              "</div>"
            ],
            "text/plain": [
              "   CRASH DATE CRASH TIME  ... VEHICLE TYPE CODE 4 VEHICLE TYPE CODE 5\n",
              "0  03/05/2020      20:30  ...                 NaN                 NaN\n",
              "1  03/07/2020      19:13  ...                 NaN                 NaN\n",
              "2  05/02/2020      14:00  ...                 NaN                 NaN\n",
              "3  03/11/2020      17:22  ...                 NaN                 NaN\n",
              "4  04/03/2020      16:25  ...               Sedan                 NaN\n",
              "\n",
              "[5 rows x 29 columns]"
            ]
          },
          "metadata": {
            "tags": []
          },
          "execution_count": 5
        }
      ]
    },
    {
      "cell_type": "code",
      "metadata": {
        "colab": {
          "base_uri": "https://localhost:8080/"
        },
        "id": "L-QslvyKWbD-",
        "outputId": "ed09a319-15cd-4d4a-f48f-45ef457b5ae6"
      },
      "source": [
        "# Show size of the data\r\n",
        "print(f'Rows: {df.shape[0]} | Columns: {df.shape[1]}')"
      ],
      "execution_count": null,
      "outputs": [
        {
          "output_type": "stream",
          "text": [
            "Rows: 1760597 | Columns: 29\n"
          ],
          "name": "stdout"
        }
      ]
    },
    {
      "cell_type": "code",
      "metadata": {
        "colab": {
          "base_uri": "https://localhost:8080/"
        },
        "id": "XCS2znFyWtRT",
        "outputId": "fe323383-0976-4507-a986-91c994da6750"
      },
      "source": [
        "df.describe(include='all')"
      ],
      "execution_count": null,
      "outputs": [
        {
          "output_type": "execute_result",
          "data": {
            "text/html": [
              "<div>\n",
              "<style scoped>\n",
              "    .dataframe tbody tr th:only-of-type {\n",
              "        vertical-align: middle;\n",
              "    }\n",
              "\n",
              "    .dataframe tbody tr th {\n",
              "        vertical-align: top;\n",
              "    }\n",
              "\n",
              "    .dataframe thead th {\n",
              "        text-align: right;\n",
              "    }\n",
              "</style>\n",
              "<table border=\"1\" class=\"dataframe\">\n",
              "  <thead>\n",
              "    <tr style=\"text-align: right;\">\n",
              "      <th></th>\n",
              "      <th>CRASH DATE</th>\n",
              "      <th>CRASH TIME</th>\n",
              "      <th>BOROUGH</th>\n",
              "      <th>ZIP CODE</th>\n",
              "      <th>LATITUDE</th>\n",
              "      <th>LONGITUDE</th>\n",
              "      <th>LOCATION</th>\n",
              "      <th>ON STREET NAME</th>\n",
              "      <th>CROSS STREET NAME</th>\n",
              "      <th>OFF STREET NAME</th>\n",
              "      <th>NUMBER OF PERSONS INJURED</th>\n",
              "      <th>NUMBER OF PERSONS KILLED</th>\n",
              "      <th>NUMBER OF PEDESTRIANS INJURED</th>\n",
              "      <th>NUMBER OF PEDESTRIANS KILLED</th>\n",
              "      <th>NUMBER OF CYCLIST INJURED</th>\n",
              "      <th>NUMBER OF CYCLIST KILLED</th>\n",
              "      <th>NUMBER OF MOTORIST INJURED</th>\n",
              "      <th>NUMBER OF MOTORIST KILLED</th>\n",
              "      <th>CONTRIBUTING FACTOR VEHICLE 1</th>\n",
              "      <th>CONTRIBUTING FACTOR VEHICLE 2</th>\n",
              "      <th>CONTRIBUTING FACTOR VEHICLE 3</th>\n",
              "      <th>CONTRIBUTING FACTOR VEHICLE 4</th>\n",
              "      <th>CONTRIBUTING FACTOR VEHICLE 5</th>\n",
              "      <th>COLLISION_ID</th>\n",
              "      <th>VEHICLE TYPE CODE 1</th>\n",
              "      <th>VEHICLE TYPE CODE 2</th>\n",
              "      <th>VEHICLE TYPE CODE 3</th>\n",
              "      <th>VEHICLE TYPE CODE 4</th>\n",
              "      <th>VEHICLE TYPE CODE 5</th>\n",
              "    </tr>\n",
              "  </thead>\n",
              "  <tbody>\n",
              "    <tr>\n",
              "      <th>count</th>\n",
              "      <td>1760597</td>\n",
              "      <td>1760597</td>\n",
              "      <td>1219887</td>\n",
              "      <td>1219676.0</td>\n",
              "      <td>1.551949e+06</td>\n",
              "      <td>1.551949e+06</td>\n",
              "      <td>1551949</td>\n",
              "      <td>1405864</td>\n",
              "      <td>1141847</td>\n",
              "      <td>262365</td>\n",
              "      <td>1.760579e+06</td>\n",
              "      <td>1.760566e+06</td>\n",
              "      <td>1.760597e+06</td>\n",
              "      <td>1.760597e+06</td>\n",
              "      <td>1.760597e+06</td>\n",
              "      <td>1.760597e+06</td>\n",
              "      <td>1.760597e+06</td>\n",
              "      <td>1.760597e+06</td>\n",
              "      <td>1755646</td>\n",
              "      <td>1511494</td>\n",
              "      <td>117888</td>\n",
              "      <td>25344</td>\n",
              "      <td>6621</td>\n",
              "      <td>1.760597e+06</td>\n",
              "      <td>1751337</td>\n",
              "      <td>1469595</td>\n",
              "      <td>114698</td>\n",
              "      <td>24632</td>\n",
              "      <td>6447</td>\n",
              "    </tr>\n",
              "    <tr>\n",
              "      <th>unique</th>\n",
              "      <td>3171</td>\n",
              "      <td>1440</td>\n",
              "      <td>5</td>\n",
              "      <td>422.0</td>\n",
              "      <td>NaN</td>\n",
              "      <td>NaN</td>\n",
              "      <td>228291</td>\n",
              "      <td>12099</td>\n",
              "      <td>18871</td>\n",
              "      <td>160632</td>\n",
              "      <td>NaN</td>\n",
              "      <td>NaN</td>\n",
              "      <td>NaN</td>\n",
              "      <td>NaN</td>\n",
              "      <td>NaN</td>\n",
              "      <td>NaN</td>\n",
              "      <td>NaN</td>\n",
              "      <td>NaN</td>\n",
              "      <td>61</td>\n",
              "      <td>61</td>\n",
              "      <td>50</td>\n",
              "      <td>39</td>\n",
              "      <td>29</td>\n",
              "      <td>NaN</td>\n",
              "      <td>1200</td>\n",
              "      <td>1293</td>\n",
              "      <td>184</td>\n",
              "      <td>74</td>\n",
              "      <td>53</td>\n",
              "    </tr>\n",
              "    <tr>\n",
              "      <th>top</th>\n",
              "      <td>01/21/2014</td>\n",
              "      <td>16:00</td>\n",
              "      <td>BROOKLYN</td>\n",
              "      <td>11207.0</td>\n",
              "      <td>NaN</td>\n",
              "      <td>NaN</td>\n",
              "      <td>(0.0, 0.0)</td>\n",
              "      <td>BROADWAY</td>\n",
              "      <td>3 AVENUE</td>\n",
              "      <td>772       EDGEWATER ROAD</td>\n",
              "      <td>NaN</td>\n",
              "      <td>NaN</td>\n",
              "      <td>NaN</td>\n",
              "      <td>NaN</td>\n",
              "      <td>NaN</td>\n",
              "      <td>NaN</td>\n",
              "      <td>NaN</td>\n",
              "      <td>NaN</td>\n",
              "      <td>Unspecified</td>\n",
              "      <td>Unspecified</td>\n",
              "      <td>Unspecified</td>\n",
              "      <td>Unspecified</td>\n",
              "      <td>Unspecified</td>\n",
              "      <td>NaN</td>\n",
              "      <td>Sedan</td>\n",
              "      <td>PASSENGER VEHICLE</td>\n",
              "      <td>Sedan</td>\n",
              "      <td>Sedan</td>\n",
              "      <td>Sedan</td>\n",
              "    </tr>\n",
              "    <tr>\n",
              "      <th>freq</th>\n",
              "      <td>1161</td>\n",
              "      <td>25452</td>\n",
              "      <td>382270</td>\n",
              "      <td>15498.0</td>\n",
              "      <td>NaN</td>\n",
              "      <td>NaN</td>\n",
              "      <td>1280</td>\n",
              "      <td>17203</td>\n",
              "      <td>9843</td>\n",
              "      <td>402</td>\n",
              "      <td>NaN</td>\n",
              "      <td>NaN</td>\n",
              "      <td>NaN</td>\n",
              "      <td>NaN</td>\n",
              "      <td>NaN</td>\n",
              "      <td>NaN</td>\n",
              "      <td>NaN</td>\n",
              "      <td>NaN</td>\n",
              "      <td>630647</td>\n",
              "      <td>1270825</td>\n",
              "      <td>109698</td>\n",
              "      <td>23892</td>\n",
              "      <td>6235</td>\n",
              "      <td>NaN</td>\n",
              "      <td>429851</td>\n",
              "      <td>318607</td>\n",
              "      <td>30593</td>\n",
              "      <td>7047</td>\n",
              "      <td>1905</td>\n",
              "    </tr>\n",
              "    <tr>\n",
              "      <th>mean</th>\n",
              "      <td>NaN</td>\n",
              "      <td>NaN</td>\n",
              "      <td>NaN</td>\n",
              "      <td>NaN</td>\n",
              "      <td>4.069058e+01</td>\n",
              "      <td>-7.386787e+01</td>\n",
              "      <td>NaN</td>\n",
              "      <td>NaN</td>\n",
              "      <td>NaN</td>\n",
              "      <td>NaN</td>\n",
              "      <td>2.727404e-01</td>\n",
              "      <td>1.258118e-03</td>\n",
              "      <td>5.147515e-02</td>\n",
              "      <td>6.622754e-04</td>\n",
              "      <td>2.281385e-02</td>\n",
              "      <td>9.542218e-05</td>\n",
              "      <td>1.982867e-01</td>\n",
              "      <td>4.992625e-04</td>\n",
              "      <td>NaN</td>\n",
              "      <td>NaN</td>\n",
              "      <td>NaN</td>\n",
              "      <td>NaN</td>\n",
              "      <td>NaN</td>\n",
              "      <td>2.910184e+06</td>\n",
              "      <td>NaN</td>\n",
              "      <td>NaN</td>\n",
              "      <td>NaN</td>\n",
              "      <td>NaN</td>\n",
              "      <td>NaN</td>\n",
              "    </tr>\n",
              "    <tr>\n",
              "      <th>std</th>\n",
              "      <td>NaN</td>\n",
              "      <td>NaN</td>\n",
              "      <td>NaN</td>\n",
              "      <td>NaN</td>\n",
              "      <td>1.171749e+00</td>\n",
              "      <td>2.374386e+00</td>\n",
              "      <td>NaN</td>\n",
              "      <td>NaN</td>\n",
              "      <td>NaN</td>\n",
              "      <td>NaN</td>\n",
              "      <td>6.680392e-01</td>\n",
              "      <td>3.751831e-02</td>\n",
              "      <td>2.334128e-01</td>\n",
              "      <td>2.627235e-02</td>\n",
              "      <td>1.509028e-01</td>\n",
              "      <td>9.825940e-03</td>\n",
              "      <td>6.297944e-01</td>\n",
              "      <td>2.445084e-02</td>\n",
              "      <td>NaN</td>\n",
              "      <td>NaN</td>\n",
              "      <td>NaN</td>\n",
              "      <td>NaN</td>\n",
              "      <td>NaN</td>\n",
              "      <td>1.502974e+06</td>\n",
              "      <td>NaN</td>\n",
              "      <td>NaN</td>\n",
              "      <td>NaN</td>\n",
              "      <td>NaN</td>\n",
              "      <td>NaN</td>\n",
              "    </tr>\n",
              "    <tr>\n",
              "      <th>min</th>\n",
              "      <td>NaN</td>\n",
              "      <td>NaN</td>\n",
              "      <td>NaN</td>\n",
              "      <td>NaN</td>\n",
              "      <td>0.000000e+00</td>\n",
              "      <td>-2.013600e+02</td>\n",
              "      <td>NaN</td>\n",
              "      <td>NaN</td>\n",
              "      <td>NaN</td>\n",
              "      <td>NaN</td>\n",
              "      <td>0.000000e+00</td>\n",
              "      <td>0.000000e+00</td>\n",
              "      <td>0.000000e+00</td>\n",
              "      <td>0.000000e+00</td>\n",
              "      <td>0.000000e+00</td>\n",
              "      <td>0.000000e+00</td>\n",
              "      <td>0.000000e+00</td>\n",
              "      <td>0.000000e+00</td>\n",
              "      <td>NaN</td>\n",
              "      <td>NaN</td>\n",
              "      <td>NaN</td>\n",
              "      <td>NaN</td>\n",
              "      <td>NaN</td>\n",
              "      <td>2.200000e+01</td>\n",
              "      <td>NaN</td>\n",
              "      <td>NaN</td>\n",
              "      <td>NaN</td>\n",
              "      <td>NaN</td>\n",
              "      <td>NaN</td>\n",
              "    </tr>\n",
              "    <tr>\n",
              "      <th>25%</th>\n",
              "      <td>NaN</td>\n",
              "      <td>NaN</td>\n",
              "      <td>NaN</td>\n",
              "      <td>NaN</td>\n",
              "      <td>4.066861e+01</td>\n",
              "      <td>-7.397605e+01</td>\n",
              "      <td>NaN</td>\n",
              "      <td>NaN</td>\n",
              "      <td>NaN</td>\n",
              "      <td>NaN</td>\n",
              "      <td>0.000000e+00</td>\n",
              "      <td>0.000000e+00</td>\n",
              "      <td>0.000000e+00</td>\n",
              "      <td>0.000000e+00</td>\n",
              "      <td>0.000000e+00</td>\n",
              "      <td>0.000000e+00</td>\n",
              "      <td>0.000000e+00</td>\n",
              "      <td>0.000000e+00</td>\n",
              "      <td>NaN</td>\n",
              "      <td>NaN</td>\n",
              "      <td>NaN</td>\n",
              "      <td>NaN</td>\n",
              "      <td>NaN</td>\n",
              "      <td>2.867247e+06</td>\n",
              "      <td>NaN</td>\n",
              "      <td>NaN</td>\n",
              "      <td>NaN</td>\n",
              "      <td>NaN</td>\n",
              "      <td>NaN</td>\n",
              "    </tr>\n",
              "    <tr>\n",
              "      <th>50%</th>\n",
              "      <td>NaN</td>\n",
              "      <td>NaN</td>\n",
              "      <td>NaN</td>\n",
              "      <td>NaN</td>\n",
              "      <td>4.072216e+01</td>\n",
              "      <td>-7.392844e+01</td>\n",
              "      <td>NaN</td>\n",
              "      <td>NaN</td>\n",
              "      <td>NaN</td>\n",
              "      <td>NaN</td>\n",
              "      <td>0.000000e+00</td>\n",
              "      <td>0.000000e+00</td>\n",
              "      <td>0.000000e+00</td>\n",
              "      <td>0.000000e+00</td>\n",
              "      <td>0.000000e+00</td>\n",
              "      <td>0.000000e+00</td>\n",
              "      <td>0.000000e+00</td>\n",
              "      <td>0.000000e+00</td>\n",
              "      <td>NaN</td>\n",
              "      <td>NaN</td>\n",
              "      <td>NaN</td>\n",
              "      <td>NaN</td>\n",
              "      <td>NaN</td>\n",
              "      <td>3.516456e+06</td>\n",
              "      <td>NaN</td>\n",
              "      <td>NaN</td>\n",
              "      <td>NaN</td>\n",
              "      <td>NaN</td>\n",
              "      <td>NaN</td>\n",
              "    </tr>\n",
              "    <tr>\n",
              "      <th>75%</th>\n",
              "      <td>NaN</td>\n",
              "      <td>NaN</td>\n",
              "      <td>NaN</td>\n",
              "      <td>NaN</td>\n",
              "      <td>4.076881e+01</td>\n",
              "      <td>-7.386667e+01</td>\n",
              "      <td>NaN</td>\n",
              "      <td>NaN</td>\n",
              "      <td>NaN</td>\n",
              "      <td>NaN</td>\n",
              "      <td>0.000000e+00</td>\n",
              "      <td>0.000000e+00</td>\n",
              "      <td>0.000000e+00</td>\n",
              "      <td>0.000000e+00</td>\n",
              "      <td>0.000000e+00</td>\n",
              "      <td>0.000000e+00</td>\n",
              "      <td>0.000000e+00</td>\n",
              "      <td>0.000000e+00</td>\n",
              "      <td>NaN</td>\n",
              "      <td>NaN</td>\n",
              "      <td>NaN</td>\n",
              "      <td>NaN</td>\n",
              "      <td>NaN</td>\n",
              "      <td>3.956843e+06</td>\n",
              "      <td>NaN</td>\n",
              "      <td>NaN</td>\n",
              "      <td>NaN</td>\n",
              "      <td>NaN</td>\n",
              "      <td>NaN</td>\n",
              "    </tr>\n",
              "    <tr>\n",
              "      <th>max</th>\n",
              "      <td>NaN</td>\n",
              "      <td>NaN</td>\n",
              "      <td>NaN</td>\n",
              "      <td>NaN</td>\n",
              "      <td>4.334444e+01</td>\n",
              "      <td>0.000000e+00</td>\n",
              "      <td>NaN</td>\n",
              "      <td>NaN</td>\n",
              "      <td>NaN</td>\n",
              "      <td>NaN</td>\n",
              "      <td>4.300000e+01</td>\n",
              "      <td>8.000000e+00</td>\n",
              "      <td>2.700000e+01</td>\n",
              "      <td>6.000000e+00</td>\n",
              "      <td>4.000000e+00</td>\n",
              "      <td>2.000000e+00</td>\n",
              "      <td>4.300000e+01</td>\n",
              "      <td>5.000000e+00</td>\n",
              "      <td>NaN</td>\n",
              "      <td>NaN</td>\n",
              "      <td>NaN</td>\n",
              "      <td>NaN</td>\n",
              "      <td>NaN</td>\n",
              "      <td>4.397407e+06</td>\n",
              "      <td>NaN</td>\n",
              "      <td>NaN</td>\n",
              "      <td>NaN</td>\n",
              "      <td>NaN</td>\n",
              "      <td>NaN</td>\n",
              "    </tr>\n",
              "  </tbody>\n",
              "</table>\n",
              "</div>"
            ],
            "text/plain": [
              "        CRASH DATE CRASH TIME  ... VEHICLE TYPE CODE 4  VEHICLE TYPE CODE 5\n",
              "count      1760597    1760597  ...               24632                 6447\n",
              "unique        3171       1440  ...                  74                   53\n",
              "top     01/21/2014      16:00  ...               Sedan                Sedan\n",
              "freq          1161      25452  ...                7047                 1905\n",
              "mean           NaN        NaN  ...                 NaN                  NaN\n",
              "std            NaN        NaN  ...                 NaN                  NaN\n",
              "min            NaN        NaN  ...                 NaN                  NaN\n",
              "25%            NaN        NaN  ...                 NaN                  NaN\n",
              "50%            NaN        NaN  ...                 NaN                  NaN\n",
              "75%            NaN        NaN  ...                 NaN                  NaN\n",
              "max            NaN        NaN  ...                 NaN                  NaN\n",
              "\n",
              "[11 rows x 29 columns]"
            ]
          },
          "metadata": {
            "tags": []
          },
          "execution_count": 7
        }
      ]
    },
    {
      "cell_type": "markdown",
      "metadata": {
        "id": "cjmXeJXnkEL3"
      },
      "source": [
        "### Data Handling\r\n",
        "- Clean up unneeded data\r\n",
        "- Make sure the correct dtypes are being used\r\n",
        "- Handle missing data"
      ]
    },
    {
      "cell_type": "markdown",
      "metadata": {
        "id": "dVZfSzcDlqxZ"
      },
      "source": [
        "#### Unneeded data"
      ]
    },
    {
      "cell_type": "code",
      "metadata": {
        "id": "ZENlInJkkFrX"
      },
      "source": [
        "# We don't need COLLISION_ID as its more of a unique identifier for internal use\r\n",
        "# LOCATION is just a combination of LONGITUDE and LATITUDE, having either is fine\r\n",
        "df.drop(['COLLISION_ID', 'LOCATION'], axis=1, inplace=True)"
      ],
      "execution_count": null,
      "outputs": []
    },
    {
      "cell_type": "markdown",
      "metadata": {
        "id": "WZDGxKLllsUJ"
      },
      "source": [
        "#### Check and handle missing values"
      ]
    },
    {
      "cell_type": "code",
      "metadata": {
        "colab": {
          "base_uri": "https://localhost:8080/"
        },
        "id": "m280eI0fliT-",
        "outputId": "ff7fd96e-24f9-4923-ea70-dde70209a311"
      },
      "source": [
        "# Check which columns have missing values\r\n",
        "nulls = df.isnull().sum()\r\n",
        "nulls[nulls > 0]"
      ],
      "execution_count": null,
      "outputs": [
        {
          "output_type": "execute_result",
          "data": {
            "text/plain": [
              "BOROUGH                           540710\n",
              "ZIP CODE                          540921\n",
              "LATITUDE                          208648\n",
              "LONGITUDE                         208648\n",
              "ON STREET NAME                    354733\n",
              "CROSS STREET NAME                 618750\n",
              "OFF STREET NAME                  1498232\n",
              "NUMBER OF PERSONS INJURED             18\n",
              "NUMBER OF PERSONS KILLED              31\n",
              "CONTRIBUTING FACTOR VEHICLE 1       4951\n",
              "CONTRIBUTING FACTOR VEHICLE 2     249103\n",
              "CONTRIBUTING FACTOR VEHICLE 3    1642709\n",
              "CONTRIBUTING FACTOR VEHICLE 4    1735253\n",
              "CONTRIBUTING FACTOR VEHICLE 5    1753976\n",
              "VEHICLE TYPE CODE 1                 9260\n",
              "VEHICLE TYPE CODE 2               291002\n",
              "VEHICLE TYPE CODE 3              1645899\n",
              "VEHICLE TYPE CODE 4              1735965\n",
              "VEHICLE TYPE CODE 5              1754150\n",
              "dtype: int64"
            ]
          },
          "metadata": {
            "tags": []
          },
          "execution_count": 9
        }
      ]
    },
    {
      "cell_type": "markdown",
      "metadata": {
        "id": "UE6Psj53lvVm"
      },
      "source": [
        "`CONTRIBUTING FACTOR VEHICLE` and `VEHICLE TYPE CODE` are used to identify the vehicle involved in the collision as well as the vehicle's role in the collision. \r\n",
        "\r\n",
        "`CONTRIBUTING FACTOR VEHICLE` and `VEHICLE TYPE CODE` can be kept as null. For a particular collision with 2 vehicles, The data should include information for these two vehicles but vehicles 3, 4, and 5 should be empty - it would make sense that values are missing from these columns."
      ]
    },
    {
      "cell_type": "code",
      "metadata": {
        "id": "tYS6CcFTlnea"
      },
      "source": [
        "# Drop missing values\r\n",
        "# OFF STREET NAME has too many missing values for us to take care of.\r\n",
        "# With over 1.4 million missing values, it's over 80% of the data.\r\n",
        "df.drop('OFF STREET NAME', axis=1, inplace=True)\r\n",
        "\r\n",
        "# The data serves us no purpose if the geo-coordinates are missing.\r\n",
        "# The coords can be used to retrieve info about borough, street, ZIP code\r\n",
        "df.dropna(how='any', subset=['LATITUDE', 'LONGITUDE'], inplace=True)"
      ],
      "execution_count": null,
      "outputs": []
    },
    {
      "cell_type": "code",
      "metadata": {
        "id": "MteJ8OMglyt0"
      },
      "source": [
        "# Impute missing values\r\n",
        "\r\n",
        "# For \"NUMBER OF PERSONS INJURED\" and \"NUMBER OF PERSONS KILLED\",\r\n",
        "# There is only a small amount of values missing which makes it easy for us to impute it\r\n",
        "\r\n",
        "# Impute \"NUMBER OF PERSONS INJURED\" via mean\r\n",
        "injured_mean = df['NUMBER OF PERSONS INJURED'].mean()\r\n",
        "df['NUMBER OF PERSONS INJURED'].replace(np.nan, injured_mean, inplace=True)\r\n",
        "\r\n",
        "# Impute \"NUMBER OF PERSONS KILLED\" via mean\r\n",
        "killed_mean = df['NUMBER OF PERSONS KILLED'].mean()\r\n",
        "df['NUMBER OF PERSONS KILLED'].replace(np.nan, killed_mean, inplace=True)"
      ],
      "execution_count": null,
      "outputs": []
    },
    {
      "cell_type": "markdown",
      "metadata": {
        "id": "tgl7O933mNLD"
      },
      "source": [
        "The next few columns to worry about are `ZIP CODE`, `BOROUGH`, and `ON STREET NAME`. If we check the number of records with values missing in any of the 3 columns, we will see that there is about 600,000 values missing in total. Or about 35% of the total data - which is a big chunk of the total data but not enough to leave a huge impact if we drop them. By dropping them, we'll still have about 1 million left."
      ]
    },
    {
      "cell_type": "code",
      "metadata": {
        "colab": {
          "base_uri": "https://localhost:8080/"
        },
        "id": "JPCJO4YpIC1e",
        "outputId": "db4ea5af-bbdf-46a8-e99d-fd4bb822f1ec"
      },
      "source": [
        "filter = df[['ZIP CODE', 'BOROUGH', 'ON STREET NAME']].isnull().any(1)\r\n",
        "df[filter].shape"
      ],
      "execution_count": null,
      "outputs": [
        {
          "output_type": "execute_result",
          "data": {
            "text/plain": [
              "(590134, 26)"
            ]
          },
          "metadata": {
            "tags": []
          },
          "execution_count": 12
        }
      ]
    },
    {
      "cell_type": "code",
      "metadata": {
        "colab": {
          "base_uri": "https://localhost:8080/"
        },
        "id": "Md8lPFKemOEU",
        "outputId": "feaf5b0b-fdc0-4efc-89b1-ce29c748a4c8"
      },
      "source": [
        "df.dropna(how='any', subset=['ZIP CODE', 'BOROUGH', 'ON STREET NAME'], inplace=True)\r\n",
        "df.shape"
      ],
      "execution_count": null,
      "outputs": [
        {
          "output_type": "execute_result",
          "data": {
            "text/plain": [
              "(961815, 26)"
            ]
          },
          "metadata": {
            "tags": []
          },
          "execution_count": 13
        }
      ]
    },
    {
      "cell_type": "markdown",
      "metadata": {
        "id": "moy2A6VBiIu7"
      },
      "source": [
        "#### Check dtypes"
      ]
    },
    {
      "cell_type": "code",
      "metadata": {
        "colab": {
          "base_uri": "https://localhost:8080/"
        },
        "id": "zcxzzArQiMfS",
        "outputId": "0e48d37c-5f2a-45df-d5d8-7292a97a782d"
      },
      "source": [
        "df.dtypes"
      ],
      "execution_count": null,
      "outputs": [
        {
          "output_type": "execute_result",
          "data": {
            "text/plain": [
              "CRASH DATE                        object\n",
              "CRASH TIME                        object\n",
              "BOROUGH                           object\n",
              "ZIP CODE                          object\n",
              "LATITUDE                         float64\n",
              "LONGITUDE                        float64\n",
              "ON STREET NAME                    object\n",
              "CROSS STREET NAME                 object\n",
              "NUMBER OF PERSONS INJURED        float64\n",
              "NUMBER OF PERSONS KILLED         float64\n",
              "NUMBER OF PEDESTRIANS INJURED      int64\n",
              "NUMBER OF PEDESTRIANS KILLED       int64\n",
              "NUMBER OF CYCLIST INJURED          int64\n",
              "NUMBER OF CYCLIST KILLED           int64\n",
              "NUMBER OF MOTORIST INJURED         int64\n",
              "NUMBER OF MOTORIST KILLED          int64\n",
              "CONTRIBUTING FACTOR VEHICLE 1     object\n",
              "CONTRIBUTING FACTOR VEHICLE 2     object\n",
              "CONTRIBUTING FACTOR VEHICLE 3     object\n",
              "CONTRIBUTING FACTOR VEHICLE 4     object\n",
              "CONTRIBUTING FACTOR VEHICLE 5     object\n",
              "VEHICLE TYPE CODE 1               object\n",
              "VEHICLE TYPE CODE 2               object\n",
              "VEHICLE TYPE CODE 3               object\n",
              "VEHICLE TYPE CODE 4               object\n",
              "VEHICLE TYPE CODE 5               object\n",
              "dtype: object"
            ]
          },
          "metadata": {
            "tags": []
          },
          "execution_count": 14
        }
      ]
    },
    {
      "cell_type": "code",
      "metadata": {
        "id": "KECRApJGRYu4"
      },
      "source": [
        "# Fix the dtypes\r\n",
        "\r\n",
        "df['CRASH DATE'] = pd.to_datetime(df['CRASH DATE'])\r\n",
        "df['CRASH TIME'] = pd.to_datetime(df['CRASH TIME'])\r\n",
        "\r\n",
        "# These should be ints, not floats - can't have half a person dead\r\n",
        "df['NUMBER OF PERSONS INJURED'] = df['NUMBER OF PERSONS INJURED'].astype(int)\r\n",
        "df['NUMBER OF PERSONS KILLED'] = df['NUMBER OF PERSONS KILLED'].astype(int)"
      ],
      "execution_count": null,
      "outputs": []
    },
    {
      "cell_type": "markdown",
      "metadata": {
        "id": "N_mC9r6KrHB7"
      },
      "source": [
        "#### Miscellaneous Cleanup"
      ]
    },
    {
      "cell_type": "code",
      "metadata": {
        "colab": {
          "base_uri": "https://localhost:8080/"
        },
        "id": "zlodg4cgq8TX",
        "outputId": "dc966f34-cfe2-4619-ced8-40f1ea243692"
      },
      "source": [
        "# Convert everything to uppercase to be consistent\r\n",
        "# This might take a few seconds or minutes depending on system\r\n",
        "# Took about ~10 seconds via Google Colab\r\n",
        "df = df.applymap(lambda s:s.upper() if type(s) == str else s)\r\n",
        "df.head()"
      ],
      "execution_count": null,
      "outputs": [
        {
          "output_type": "execute_result",
          "data": {
            "text/html": [
              "<div>\n",
              "<style scoped>\n",
              "    .dataframe tbody tr th:only-of-type {\n",
              "        vertical-align: middle;\n",
              "    }\n",
              "\n",
              "    .dataframe tbody tr th {\n",
              "        vertical-align: top;\n",
              "    }\n",
              "\n",
              "    .dataframe thead th {\n",
              "        text-align: right;\n",
              "    }\n",
              "</style>\n",
              "<table border=\"1\" class=\"dataframe\">\n",
              "  <thead>\n",
              "    <tr style=\"text-align: right;\">\n",
              "      <th></th>\n",
              "      <th>CRASH DATE</th>\n",
              "      <th>CRASH TIME</th>\n",
              "      <th>BOROUGH</th>\n",
              "      <th>ZIP CODE</th>\n",
              "      <th>LATITUDE</th>\n",
              "      <th>LONGITUDE</th>\n",
              "      <th>ON STREET NAME</th>\n",
              "      <th>CROSS STREET NAME</th>\n",
              "      <th>NUMBER OF PERSONS INJURED</th>\n",
              "      <th>NUMBER OF PERSONS KILLED</th>\n",
              "      <th>NUMBER OF PEDESTRIANS INJURED</th>\n",
              "      <th>NUMBER OF PEDESTRIANS KILLED</th>\n",
              "      <th>NUMBER OF CYCLIST INJURED</th>\n",
              "      <th>NUMBER OF CYCLIST KILLED</th>\n",
              "      <th>NUMBER OF MOTORIST INJURED</th>\n",
              "      <th>NUMBER OF MOTORIST KILLED</th>\n",
              "      <th>CONTRIBUTING FACTOR VEHICLE 1</th>\n",
              "      <th>CONTRIBUTING FACTOR VEHICLE 2</th>\n",
              "      <th>CONTRIBUTING FACTOR VEHICLE 3</th>\n",
              "      <th>CONTRIBUTING FACTOR VEHICLE 4</th>\n",
              "      <th>CONTRIBUTING FACTOR VEHICLE 5</th>\n",
              "      <th>VEHICLE TYPE CODE 1</th>\n",
              "      <th>VEHICLE TYPE CODE 2</th>\n",
              "      <th>VEHICLE TYPE CODE 3</th>\n",
              "      <th>VEHICLE TYPE CODE 4</th>\n",
              "      <th>VEHICLE TYPE CODE 5</th>\n",
              "    </tr>\n",
              "  </thead>\n",
              "  <tbody>\n",
              "    <tr>\n",
              "      <th>7</th>\n",
              "      <td>2020-04-16</td>\n",
              "      <td>2021-03-14 12:55:00</td>\n",
              "      <td>QUEENS</td>\n",
              "      <td>11101</td>\n",
              "      <td>40.753265</td>\n",
              "      <td>-73.94668</td>\n",
              "      <td>QUEENS PLAZA SOUTH</td>\n",
              "      <td>11 STREET</td>\n",
              "      <td>0</td>\n",
              "      <td>0</td>\n",
              "      <td>0</td>\n",
              "      <td>0</td>\n",
              "      <td>0</td>\n",
              "      <td>0</td>\n",
              "      <td>0</td>\n",
              "      <td>0</td>\n",
              "      <td>DRIVER INATTENTION/DISTRACTION</td>\n",
              "      <td>DRIVER INATTENTION/DISTRACTION</td>\n",
              "      <td>NaN</td>\n",
              "      <td>NaN</td>\n",
              "      <td>NaN</td>\n",
              "      <td>SEDAN</td>\n",
              "      <td>PICK-UP TRUCK</td>\n",
              "      <td>NaN</td>\n",
              "      <td>NaN</td>\n",
              "      <td>NaN</td>\n",
              "    </tr>\n",
              "    <tr>\n",
              "      <th>12</th>\n",
              "      <td>2020-04-22</td>\n",
              "      <td>2021-03-14 18:33:00</td>\n",
              "      <td>BROOKLYN</td>\n",
              "      <td>11218</td>\n",
              "      <td>40.635983</td>\n",
              "      <td>-73.97411</td>\n",
              "      <td>DITMAS AVENUE</td>\n",
              "      <td>EAST 5 STREET</td>\n",
              "      <td>1</td>\n",
              "      <td>0</td>\n",
              "      <td>0</td>\n",
              "      <td>0</td>\n",
              "      <td>0</td>\n",
              "      <td>0</td>\n",
              "      <td>1</td>\n",
              "      <td>0</td>\n",
              "      <td>UNSPECIFIED</td>\n",
              "      <td>UNSPECIFIED</td>\n",
              "      <td>NaN</td>\n",
              "      <td>NaN</td>\n",
              "      <td>NaN</td>\n",
              "      <td>SEDAN</td>\n",
              "      <td>SEDAN</td>\n",
              "      <td>NaN</td>\n",
              "      <td>NaN</td>\n",
              "      <td>NaN</td>\n",
              "    </tr>\n",
              "    <tr>\n",
              "      <th>13</th>\n",
              "      <td>2020-03-12</td>\n",
              "      <td>2021-03-14 20:50:00</td>\n",
              "      <td>QUEENS</td>\n",
              "      <td>11368</td>\n",
              "      <td>40.758305</td>\n",
              "      <td>-73.85561</td>\n",
              "      <td>NORTHERN BOULEVARD</td>\n",
              "      <td>114 STREET</td>\n",
              "      <td>0</td>\n",
              "      <td>0</td>\n",
              "      <td>0</td>\n",
              "      <td>0</td>\n",
              "      <td>0</td>\n",
              "      <td>0</td>\n",
              "      <td>0</td>\n",
              "      <td>0</td>\n",
              "      <td>VIEW OBSTRUCTED/LIMITED</td>\n",
              "      <td>UNSPECIFIED</td>\n",
              "      <td>NaN</td>\n",
              "      <td>NaN</td>\n",
              "      <td>NaN</td>\n",
              "      <td>STATION WAGON/SPORT UTILITY VEHICLE</td>\n",
              "      <td>STATION WAGON/SPORT UTILITY VEHICLE</td>\n",
              "      <td>NaN</td>\n",
              "      <td>NaN</td>\n",
              "      <td>NaN</td>\n",
              "    </tr>\n",
              "    <tr>\n",
              "      <th>18</th>\n",
              "      <td>2020-05-13</td>\n",
              "      <td>2021-03-14 21:25:00</td>\n",
              "      <td>QUEENS</td>\n",
              "      <td>11421</td>\n",
              "      <td>40.686447</td>\n",
              "      <td>-73.85485</td>\n",
              "      <td>ATLANTIC AVENUE</td>\n",
              "      <td>87 STREET</td>\n",
              "      <td>1</td>\n",
              "      <td>0</td>\n",
              "      <td>0</td>\n",
              "      <td>0</td>\n",
              "      <td>1</td>\n",
              "      <td>0</td>\n",
              "      <td>0</td>\n",
              "      <td>0</td>\n",
              "      <td>FAILURE TO YIELD RIGHT-OF-WAY</td>\n",
              "      <td>UNSPECIFIED</td>\n",
              "      <td>NaN</td>\n",
              "      <td>NaN</td>\n",
              "      <td>NaN</td>\n",
              "      <td>STATION WAGON/SPORT UTILITY VEHICLE</td>\n",
              "      <td>BIKE</td>\n",
              "      <td>NaN</td>\n",
              "      <td>NaN</td>\n",
              "      <td>NaN</td>\n",
              "    </tr>\n",
              "    <tr>\n",
              "      <th>19</th>\n",
              "      <td>2020-05-15</td>\n",
              "      <td>2021-03-14 15:00:00</td>\n",
              "      <td>BRONX</td>\n",
              "      <td>10456</td>\n",
              "      <td>40.829140</td>\n",
              "      <td>-73.90811</td>\n",
              "      <td>GOUVERNEUR PLACE</td>\n",
              "      <td>WASHINGTON AVENUE</td>\n",
              "      <td>0</td>\n",
              "      <td>0</td>\n",
              "      <td>0</td>\n",
              "      <td>0</td>\n",
              "      <td>0</td>\n",
              "      <td>0</td>\n",
              "      <td>0</td>\n",
              "      <td>0</td>\n",
              "      <td>UNSPECIFIED</td>\n",
              "      <td>NaN</td>\n",
              "      <td>NaN</td>\n",
              "      <td>NaN</td>\n",
              "      <td>NaN</td>\n",
              "      <td>SEDAN</td>\n",
              "      <td>NaN</td>\n",
              "      <td>NaN</td>\n",
              "      <td>NaN</td>\n",
              "      <td>NaN</td>\n",
              "    </tr>\n",
              "  </tbody>\n",
              "</table>\n",
              "</div>"
            ],
            "text/plain": [
              "   CRASH DATE          CRASH TIME  ... VEHICLE TYPE CODE 4 VEHICLE TYPE CODE 5\n",
              "7  2020-04-16 2021-03-14 12:55:00  ...                 NaN                 NaN\n",
              "12 2020-04-22 2021-03-14 18:33:00  ...                 NaN                 NaN\n",
              "13 2020-03-12 2021-03-14 20:50:00  ...                 NaN                 NaN\n",
              "18 2020-05-13 2021-03-14 21:25:00  ...                 NaN                 NaN\n",
              "19 2020-05-15 2021-03-14 15:00:00  ...                 NaN                 NaN\n",
              "\n",
              "[5 rows x 26 columns]"
            ]
          },
          "metadata": {
            "tags": []
          },
          "execution_count": 16
        }
      ]
    },
    {
      "cell_type": "markdown",
      "metadata": {
        "id": "ykhIDnxjXqxt"
      },
      "source": [
        "# Explore the Data"
      ]
    },
    {
      "cell_type": "markdown",
      "metadata": {
        "id": "jPKo7bGLXutv"
      },
      "source": [
        "Now that our data is formatted and a bit cleaned up, let's see what it can tell us.\r\n",
        "\r\n",
        "Here we have a few questions the data might help answer:\r\n",
        "- When and where do collisions occur?\r\n",
        "- Who's involved?\r\n",
        "- What's the most common reason behind a collision?\r\n",
        "- Could a particular vehicle be the cause of most collisions?\r\n",
        "- Are there hotspots that may cause more collisions/deaths?"
      ]
    },
    {
      "cell_type": "markdown",
      "metadata": {
        "id": "Y1W7H_eRd6Bn"
      },
      "source": [
        "## Single Variable Plots"
      ]
    },
    {
      "cell_type": "markdown",
      "metadata": {
        "id": "DD9EKVUfYEfG"
      },
      "source": [
        "#### Collisions by Region"
      ]
    },
    {
      "cell_type": "markdown",
      "metadata": {
        "id": "N_6uY2dWYKv7"
      },
      "source": [
        "With Manhattan being such a hotspot for NYC residents and tourists, one might believe Manhattan would have the most collisions. But in the following chart, we can see that isn't true. Brooklyn leads the all-time collision count at about 300,000 and Queens follows closely at a little over 250,000."
      ]
    },
    {
      "cell_type": "code",
      "metadata": {
        "id": "ZkEFBbDIK_We",
        "colab": {
          "base_uri": "https://localhost:8080/",
          "height": 372
        },
        "outputId": "65ef07de-1517-4add-ce6d-b15008650c85"
      },
      "source": [
        "fig, ax = plt.subplots(figsize=(10, 5))\r\n",
        "\r\n",
        "sns.countplot(data=df, x='BOROUGH')\r\n",
        "plt.title('Total Collisions by Borough')\r\n",
        "plt.xlabel('Borough')\r\n",
        "plt.ylabel('Total Collisions')"
      ],
      "execution_count": null,
      "outputs": [
        {
          "output_type": "execute_result",
          "data": {
            "text/plain": [
              "Text(0, 0.5, 'Total Collisions')"
            ]
          },
          "metadata": {
            "tags": []
          },
          "execution_count": 17
        },
        {
          "output_type": "display_data",
          "data": {
            "image/png": "[encoded data removed]",
            "text/plain": [
              "<Figure size 720x360 with 1 Axes>"
            ]
          },
          "metadata": {
            "tags": []
          }
        }
      ]
    },
    {
      "cell_type": "markdown",
      "metadata": {
        "id": "2DItyWXpkcDs"
      },
      "source": [
        "#### Collisions Over Time\r\n",
        "\r\n",
        "Another good metric to explore is time. In the following graph, we can see the total collision reports per month, spanning from the data's inception of 2012."
      ]
    },
    {
      "cell_type": "markdown",
      "metadata": {
        "id": "ABfy2Fv50nmF"
      },
      "source": [
        "Now that we're looking at the monthly collisions, we'll notice that all the years collectively have a relatively low amount of collision reports in the first half of the year, especially the month of April. However, interestingly, as the summer begins to approach, the number of collisions start to drastically increase and plateau until the year ends."
      ]
    },
    {
      "cell_type": "code",
      "metadata": {
        "colab": {
          "base_uri": "https://localhost:8080/",
          "height": 372
        },
        "id": "zJV_gQzIqCvR",
        "outputId": "20e9ecde-0f9e-46c8-a698-3b982765d844"
      },
      "source": [
        "fig, ax = plt.subplots(figsize=(15, 5))\r\n",
        "\r\n",
        "# Extract the month from all collisions\r\n",
        "df_monthly = df['CRASH DATE'].dt.month_name().value_counts().to_frame('total')\r\n",
        "\r\n",
        "# Re-order the rows by month\r\n",
        "months_inorder = ['January', 'February', 'March', 'April', 'May', 'June', 'July', 'August', 'September', 'October', 'November', 'December']\r\n",
        "df_monthly = df_monthly.reindex(months_inorder, axis=0)\r\n",
        "\r\n",
        "# Display it\r\n",
        "sns.lineplot(data=df_monthly, x=df_monthly.index, y='total')\r\n",
        "plt.title('Total Collisions per Month')\r\n",
        "plt.xlabel('Month')\r\n",
        "plt.ylabel('Total Collisions')"
      ],
      "execution_count": null,
      "outputs": [
        {
          "output_type": "execute_result",
          "data": {
            "text/plain": [
              "Text(0, 0.5, 'Total Collisions')"
            ]
          },
          "metadata": {
            "tags": []
          },
          "execution_count": 18
        },
        {
          "output_type": "display_data",
          "data": {
            "image/png": "[encoded data removed]",
            "text/plain": [
              "<Figure size 1080x360 with 1 Axes>"
            ]
          },
          "metadata": {
            "tags": []
          }
        }
      ]
    },
    {
      "cell_type": "markdown",
      "metadata": {
        "id": "MNG1VRQl0c3i"
      },
      "source": [
        "#### Persons Involved\r\n",
        "\r\n",
        "Paying attention to the road is likely the most important aspect to master for anyone piloting a vehicle as lack of experience here can cause fatal consequences - like the victims reported in these collisions. But that skill doesn't apply only to the drivers but the pedestrians as well."
      ]
    },
    {
      "cell_type": "markdown",
      "metadata": {
        "id": "VD6vvppP1liO"
      },
      "source": [
        "In the following, we will be looking at the people involved during collisions. How many are injured? How many suffered a lethal consequence?"
      ]
    },
    {
      "cell_type": "code",
      "metadata": {
        "colab": {
          "base_uri": "https://localhost:8080/",
          "height": 481
        },
        "id": "FeqYUxOi0ha8",
        "outputId": "cdc5ac2a-debf-4072-c12e-32637446829b"
      },
      "source": [
        "fig, ax = plt.subplots(figsize=(7, 7))\r\n",
        "\r\n",
        "sns.countplot(data=df, x='NUMBER OF PERSONS INJURED')\r\n",
        "plt.title('Number of Persons Injured per Collision')\r\n",
        "plt.xlabel('Number of Persons Injured')\r\n",
        "plt.ylabel('Count')"
      ],
      "execution_count": null,
      "outputs": [
        {
          "output_type": "execute_result",
          "data": {
            "text/plain": [
              "Text(0, 0.5, 'Count')"
            ]
          },
          "metadata": {
            "tags": []
          },
          "execution_count": 19
        },
        {
          "output_type": "display_data",
          "data": {
            "image/png": "[encoded data removed]",
            "text/plain": [
              "<Figure size 504x504 with 1 Axes>"
            ]
          },
          "metadata": {
            "tags": []
          }
        }
      ]
    },
    {
      "cell_type": "code",
      "metadata": {
        "colab": {
          "base_uri": "https://localhost:8080/",
          "height": 481
        },
        "id": "MZeH8wtL2-JE",
        "outputId": "21103fb4-f87d-4ea4-e853-1cf376ae9654"
      },
      "source": [
        "fig, ax = plt.subplots(figsize=(7, 7))\r\n",
        "\r\n",
        "sns.countplot(data=df, x='NUMBER OF PERSONS KILLED')\r\n",
        "\r\n",
        "plt.title('Number of Persons Killed per Collision')\r\n",
        "plt.xlabel('Number of Persons Killed')\r\n",
        "plt.ylabel('Count')"
      ],
      "execution_count": null,
      "outputs": [
        {
          "output_type": "execute_result",
          "data": {
            "text/plain": [
              "Text(0, 0.5, 'Count')"
            ]
          },
          "metadata": {
            "tags": []
          },
          "execution_count": 20
        },
        {
          "output_type": "display_data",
          "data": {
            "image/png": "[encoded data removed]",
            "text/plain": [
              "<Figure size 504x504 with 1 Axes>"
            ]
          },
          "metadata": {
            "tags": []
          }
        }
      ]
    },
    {
      "cell_type": "markdown",
      "metadata": {
        "id": "_TTeTflkIXTS"
      },
      "source": [
        "The above plots give us information on how many people are involved in the collisions and whether or not they suffered injuries and/or deaths. As it's noticeable, both plots have a large bar at zero which thankfully means a large portion of collisions involve no one being injured or dead. However, that doesn't mean it doesn't happen. In the plot representing individuals who were injured, we can see a couple hundred-thousand instances where one or more people are injured. As for the plot representing individuals who suffered fatality, the bars are not even visible due to \"zero\" being so large, almost reaching one million instances."
      ]
    },
    {
      "cell_type": "markdown",
      "metadata": {
        "id": "FNyLD2Axd-3c"
      },
      "source": [
        "## Multivariable Plots"
      ]
    },
    {
      "cell_type": "markdown",
      "metadata": {
        "id": "W5jmrQZ-eDJI"
      },
      "source": [
        "Now let's look at the relationships between multiple variables."
      ]
    },
    {
      "cell_type": "code",
      "metadata": {
        "colab": {
          "base_uri": "https://localhost:8080/",
          "height": 372
        },
        "id": "P1c_7gLpeJji",
        "outputId": "a8e5579a-fbc7-4402-8055-a1d8e04d526f"
      },
      "source": [
        "fig, ax = plt.subplots(figsize=(10, 5))\r\n",
        "\r\n",
        "sns.countplot(data=df, x=df['CRASH DATE'].dt.year, hue='BOROUGH', palette='bright')\r\n",
        "plt.title('Collisions per Year by Borough')\r\n",
        "plt.xlabel('Year')\r\n",
        "plt.ylabel('Number of Collisions')"
      ],
      "execution_count": null,
      "outputs": [
        {
          "output_type": "execute_result",
          "data": {
            "text/plain": [
              "Text(0, 0.5, 'Number of Collisions')"
            ]
          },
          "metadata": {
            "tags": []
          },
          "execution_count": 25
        },
        {
          "output_type": "display_data",
          "data": {
            "image/png": "[encoded data removed]",
            "text/plain": [
              "<Figure size 720x360 with 1 Axes>"
            ]
          },
          "metadata": {
            "tags": []
          }
        }
      ]
    },
    {
      "cell_type": "markdown",
      "metadata": {
        "id": "DNcDex3Fh-xG"
      },
      "source": [
        "The figure above shows the number of collision reports per year in each borough. If we look at this closely, we’ll notice that each borough had a drastic increase in collisions starting from 2012 up until 2015. After that year, each borough began its overall decline in collisions. The decrease in collisions after 2015 might even be at the credit of the city government’s Vision Zero Campaign - a citywide initiative aimed to protect the public and reduce traffic accidents. "
      ]
    },
    {
      "cell_type": "code",
      "metadata": {
        "colab": {
          "base_uri": "https://localhost:8080/",
          "height": 590
        },
        "id": "5S-NiSPfyqHS",
        "outputId": "374cd09e-65a2-4c67-a1ff-70bf295d0260"
      },
      "source": [
        "month_year = pd.DataFrame()\r\n",
        "month_year['CRASH YEAR'] = df['CRASH DATE'].dt.year\r\n",
        "month_year['CRASH MONTH'] = df['CRASH DATE'].dt.month\r\n",
        "month_year = month_year.value_counts().to_frame('TOTAL COLLISIONS').sort_index(ascending=True)\r\n",
        "\r\n",
        "fig, ax = plt.subplots(figsize=(15, 9))\r\n",
        "sns.lineplot(data=month_year, x='CRASH MONTH', y='TOTAL COLLISIONS', hue='CRASH YEAR', palette='bright')\r\n",
        "plt.title('Total Collisions per Month by Year')\r\n",
        "plt.legend(title='Year')\r\n",
        "plt.xlabel('Month')\r\n",
        "plt.ylabel('Total Collisions')"
      ],
      "execution_count": null,
      "outputs": [
        {
          "output_type": "execute_result",
          "data": {
            "text/plain": [
              "Text(0, 0.5, 'Total Collisions')"
            ]
          },
          "metadata": {
            "tags": []
          },
          "execution_count": 181
        },
        {
          "output_type": "display_data",
          "data": {
            "image/png": "[encoded data removed]",
            "text/plain": [
              "<Figure size 1080x648 with 1 Axes>"
            ]
          },
          "metadata": {
            "tags": []
          }
        }
      ]
    },
    {
      "cell_type": "markdown",
      "metadata": {
        "id": "sjvrpxwqswaK"
      },
      "source": [
        "We found out earlier that Brooklyn was the leader amongst the 5 boroughs for the most collisions, let's take a look into that. In the following figure, we can see the top ten streets in Brooklyn with collisions. According to that plot, it seems Atlantic Ave, Flatbush Ave and Linden Boulevard are the most accident-prone areas of Brooklyn, with about 21,000 collisions since 2012 - that's roughly 2,600 collisions per year. Maybe it's a good idea to travel with caution the next time you enter these areas."
      ]
    },
    {
      "cell_type": "code",
      "metadata": {
        "colab": {
          "base_uri": "https://localhost:8080/",
          "height": 335
        },
        "id": "tMVtJJYvsuyU",
        "outputId": "2fd84760-6dd6-4a9c-b311-20440228a488"
      },
      "source": [
        "brooklyndf = df[df['BOROUGH'] == 'BROOKLYN']\r\n",
        "\r\n",
        "brooklyndf = brooklyndf['ON STREET NAME'].value_counts()[:10].to_frame('total').reset_index()\r\n",
        "brooklyndf.rename(columns={'index': 'street'}, inplace=True)\r\n",
        "\r\n",
        "print(f\"Sum of Top 3 Streets: {brooklyndf['total'].loc[:2].sum()}\")\r\n",
        "\r\n",
        "sns.barplot(x='total', y='street', data=brooklyndf, palette='colorblind')\r\n",
        "plt.title('Brooklyn\\'s 10 Most Collision-Prone Streets')\r\n",
        "plt.xlabel('Total')\r\n",
        "plt.ylabel('Street Name')"
      ],
      "execution_count": null,
      "outputs": [
        {
          "output_type": "stream",
          "text": [
            "Sum of Top 3 Streets: 20970\n"
          ],
          "name": "stdout"
        },
        {
          "output_type": "execute_result",
          "data": {
            "text/plain": [
              "Text(0, 0.5, 'Street Name')"
            ]
          },
          "metadata": {
            "tags": []
          },
          "execution_count": 182
        },
        {
          "output_type": "display_data",
          "data": {
            "image/png": "[encoded data removed]",
            "text/plain": [
              "<Figure size 432x288 with 1 Axes>"
            ]
          },
          "metadata": {
            "tags": []
          }
        }
      ]
    },
    {
      "cell_type": "markdown",
      "metadata": {
        "id": "MQ5ujOtTHIUF"
      },
      "source": [
        "If we look at the yearly collisions and how people are affected, the dataset shows injuries due to collisions have luckily decreased overall."
      ]
    },
    {
      "cell_type": "code",
      "metadata": {
        "colab": {
          "base_uri": "https://localhost:8080/",
          "height": 372
        },
        "id": "yUFE52iq2XbI",
        "outputId": "72e9abe7-5125-4566-f64f-a9ed01ae424f"
      },
      "source": [
        "injured_cols = ['CRASH DATE', 'NUMBER OF PERSONS INJURED', 'NUMBER OF PEDESTRIANS INJURED', 'NUMBER OF CYCLIST INJURED', 'NUMBER OF MOTORIST INJURED']\r\n",
        "yearly_injured_df = df[injured_cols]\r\n",
        "yearly_injured_df = yearly_injured_df.groupby(yearly_injured_df['CRASH DATE'].dt.year).sum()\r\n",
        "\r\n",
        "fig, ax = plt.subplots(figsize=(10, 5))\r\n",
        "sns.lineplot(data=yearly_injured_df)\r\n",
        "plt.legend(['Total', 'Pedestrians', 'Cyclists', 'Motorist'])\r\n",
        "plt.title('Yearly Number of Injured')\r\n",
        "plt.xlabel('Year')\r\n",
        "plt.ylabel('Number of Injured')"
      ],
      "execution_count": null,
      "outputs": [
        {
          "output_type": "execute_result",
          "data": {
            "text/plain": [
              "Text(0, 0.5, 'Number of Injured')"
            ]
          },
          "metadata": {
            "tags": []
          },
          "execution_count": 199
        },
        {
          "output_type": "display_data",
          "data": {
            "image/png": "[encoded data removed]",
            "text/plain": [
              "<Figure size 720x360 with 1 Axes>"
            ]
          },
          "metadata": {
            "tags": []
          }
        }
      ]
    }
  ]
}