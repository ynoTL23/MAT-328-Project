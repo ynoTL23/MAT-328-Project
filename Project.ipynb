{
  "nbformat": 4,
  "nbformat_minor": 0,
  "metadata": {
    "colab": {
      "name": "Project.ipynb",
      "provenance": [],
      "collapsed_sections": [
        "-9ov3sXMVW4x",
        "NLrWcRbZVe8S",
        "r7MORp_yVhlL",
        "9irqsgc6VyPZ",
        "Nr5wI7AzV_2V",
        "cjmXeJXnkEL3",
        "dVZfSzcDlqxZ",
        "WZDGxKLllsUJ",
        "moy2A6VBiIu7",
        "N_mC9r6KrHB7",
        "ykhIDnxjXqxt",
        "Y1W7H_eRd6Bn",
        "DD9EKVUfYEfG",
        "2DItyWXpkcDs",
        "MNG1VRQl0c3i",
        "FNyLD2Axd-3c"
      ]
    },
    "kernelspec": {
      "display_name": "Python 3",
      "name": "python3"
    }
  },
  "cells": [
    {
      "cell_type": "markdown",
      "metadata": {
        "id": "-9ov3sXMVW4x"
      },
      "source": [
        "# MAT 328 - Final Project\n",
        "### Tony Lu\n",
        "\n",
        "---\n",
        "\n",
        "This project uses the [Motor Vehicle Collision](https://data.cityofnewyork.us/Public-Safety/Motor-Vehicle-Collisions-Crashes/h9gi-nx95) dataset offered by [NYC Open Data](http://opendata.cityofnewyork.us/).\n",
        "\n",
        "All data and values are dated March 2021 - the most recent date this notebook was executed. Executing this notebook at a later date may yield different results compared to what is already rendered in this notebook."
      ]
    },
    {
      "cell_type": "markdown",
      "metadata": {
        "id": "NLrWcRbZVe8S"
      },
      "source": [
        "# Project Setup"
      ]
    },
    {
      "cell_type": "markdown",
      "metadata": {
        "id": "r7MORp_yVhlL"
      },
      "source": [
        "### Import the necessary libraries"
      ]
    },
    {
      "cell_type": "code",
      "metadata": {
        "id": "wsPefb0IVf7E"
      },
      "source": [
        "import pandas as pd\n",
        "import numpy as np\n",
        "import seaborn as sns\n",
        "import matplotlib.pyplot as plt\n",
        "import graphviz\n",
        "\n",
        "from sklearn.model_selection import train_test_split\n",
        "\n",
        "from sklearn.neighbors import KNeighborsRegressor\n",
        "from sklearn.tree import DecisionTreeRegressor\n",
        "from sklearn.metrics import mean_squared_error\n",
        "\n",
        "from sklearn.tree import plot_tree\n",
        "\n",
        "%matplotlib inline\n",
        "sns.set_theme(style='darkgrid')"
      ],
      "execution_count": 1,
      "outputs": []
    },
    {
      "cell_type": "markdown",
      "metadata": {
        "id": "9irqsgc6VyPZ"
      },
      "source": [
        "### Download and load the data"
      ]
    },
    {
      "cell_type": "code",
      "metadata": {
        "colab": {
          "base_uri": "https://localhost:8080/"
        },
        "id": "2ZkMxdmHVz7r",
        "outputId": "885d31d4-ec3b-416c-daf0-40d5bd1627f1"
      },
      "source": [
        "# This might take awhile. It has 1.7 million rows after all.\n",
        "raw_data = pd.read_csv('https://data.cityofnewyork.us/api/views/h9gi-nx95/rows.csv?accessType=DOWNLOAD')"
      ],
      "execution_count": 2,
      "outputs": [
        {
          "output_type": "stream",
          "text": [
            "/usr/local/lib/python3.7/dist-packages/IPython/core/interactiveshell.py:2718: DtypeWarning: Columns (3,22,28) have mixed types.Specify dtype option on import or set low_memory=False.\n",
            "  interactivity=interactivity, compiler=compiler, result=result)\n"
          ],
          "name": "stderr"
        }
      ]
    },
    {
      "cell_type": "code",
      "metadata": {
        "id": "qPOALH3vV5YB"
      },
      "source": [
        "df = raw_data.copy()"
      ],
      "execution_count": 3,
      "outputs": []
    },
    {
      "cell_type": "markdown",
      "metadata": {
        "id": "Nr5wI7AzV_2V"
      },
      "source": [
        "### Show the data"
      ]
    },
    {
      "cell_type": "code",
      "metadata": {
        "colab": {
          "base_uri": "https://localhost:8080/",
          "height": 0
        },
        "id": "PeyHsNyuV8k3",
        "outputId": "0a824e82-77bd-41f4-cafa-cdbabb542522"
      },
      "source": [
        "df.head()"
      ],
      "execution_count": 4,
      "outputs": [
        {
          "output_type": "execute_result",
          "data": {
            "text/html": [
              "<div>\n",
              "<style scoped>\n",
              "    .dataframe tbody tr th:only-of-type {\n",
              "        vertical-align: middle;\n",
              "    }\n",
              "\n",
              "    .dataframe tbody tr th {\n",
              "        vertical-align: top;\n",
              "    }\n",
              "\n",
              "    .dataframe thead th {\n",
              "        text-align: right;\n",
              "    }\n",
              "</style>\n",
              "<table border=\"1\" class=\"dataframe\">\n",
              "  <thead>\n",
              "    <tr style=\"text-align: right;\">\n",
              "      <th></th>\n",
              "      <th>CRASH DATE</th>\n",
              "      <th>CRASH TIME</th>\n",
              "      <th>BOROUGH</th>\n",
              "      <th>ZIP CODE</th>\n",
              "      <th>LATITUDE</th>\n",
              "      <th>LONGITUDE</th>\n",
              "      <th>LOCATION</th>\n",
              "      <th>ON STREET NAME</th>\n",
              "      <th>CROSS STREET NAME</th>\n",
              "      <th>OFF STREET NAME</th>\n",
              "      <th>NUMBER OF PERSONS INJURED</th>\n",
              "      <th>NUMBER OF PERSONS KILLED</th>\n",
              "      <th>NUMBER OF PEDESTRIANS INJURED</th>\n",
              "      <th>NUMBER OF PEDESTRIANS KILLED</th>\n",
              "      <th>NUMBER OF CYCLIST INJURED</th>\n",
              "      <th>NUMBER OF CYCLIST KILLED</th>\n",
              "      <th>NUMBER OF MOTORIST INJURED</th>\n",
              "      <th>NUMBER OF MOTORIST KILLED</th>\n",
              "      <th>CONTRIBUTING FACTOR VEHICLE 1</th>\n",
              "      <th>CONTRIBUTING FACTOR VEHICLE 2</th>\n",
              "      <th>CONTRIBUTING FACTOR VEHICLE 3</th>\n",
              "      <th>CONTRIBUTING FACTOR VEHICLE 4</th>\n",
              "      <th>CONTRIBUTING FACTOR VEHICLE 5</th>\n",
              "      <th>COLLISION_ID</th>\n",
              "      <th>VEHICLE TYPE CODE 1</th>\n",
              "      <th>VEHICLE TYPE CODE 2</th>\n",
              "      <th>VEHICLE TYPE CODE 3</th>\n",
              "      <th>VEHICLE TYPE CODE 4</th>\n",
              "      <th>VEHICLE TYPE CODE 5</th>\n",
              "    </tr>\n",
              "  </thead>\n",
              "  <tbody>\n",
              "    <tr>\n",
              "      <th>0</th>\n",
              "      <td>08/23/2020</td>\n",
              "      <td>14:25</td>\n",
              "      <td>QUEENS</td>\n",
              "      <td>11434</td>\n",
              "      <td>40.672382</td>\n",
              "      <td>-73.78574</td>\n",
              "      <td>(40.672382, -73.78574)</td>\n",
              "      <td>ROCKAWAY BOULEVARD</td>\n",
              "      <td>BAISLEY BOULEVARD</td>\n",
              "      <td>NaN</td>\n",
              "      <td>1.0</td>\n",
              "      <td>0.0</td>\n",
              "      <td>0</td>\n",
              "      <td>0</td>\n",
              "      <td>0</td>\n",
              "      <td>0</td>\n",
              "      <td>1</td>\n",
              "      <td>0</td>\n",
              "      <td>Driver Inattention/Distraction</td>\n",
              "      <td>Unspecified</td>\n",
              "      <td>NaN</td>\n",
              "      <td>NaN</td>\n",
              "      <td>NaN</td>\n",
              "      <td>4341417</td>\n",
              "      <td>Sedan</td>\n",
              "      <td>Sedan</td>\n",
              "      <td>NaN</td>\n",
              "      <td>NaN</td>\n",
              "      <td>NaN</td>\n",
              "    </tr>\n",
              "    <tr>\n",
              "      <th>1</th>\n",
              "      <td>09/30/2020</td>\n",
              "      <td>13:35</td>\n",
              "      <td>NaN</td>\n",
              "      <td>NaN</td>\n",
              "      <td>40.584250</td>\n",
              "      <td>-73.96380</td>\n",
              "      <td>(40.58425, -73.9638)</td>\n",
              "      <td>BELT PARKWAY</td>\n",
              "      <td>NaN</td>\n",
              "      <td>NaN</td>\n",
              "      <td>1.0</td>\n",
              "      <td>0.0</td>\n",
              "      <td>0</td>\n",
              "      <td>0</td>\n",
              "      <td>0</td>\n",
              "      <td>0</td>\n",
              "      <td>1</td>\n",
              "      <td>0</td>\n",
              "      <td>Other Vehicular</td>\n",
              "      <td>NaN</td>\n",
              "      <td>NaN</td>\n",
              "      <td>NaN</td>\n",
              "      <td>NaN</td>\n",
              "      <td>4353423</td>\n",
              "      <td>Sedan</td>\n",
              "      <td>NaN</td>\n",
              "      <td>NaN</td>\n",
              "      <td>NaN</td>\n",
              "      <td>NaN</td>\n",
              "    </tr>\n",
              "    <tr>\n",
              "      <th>2</th>\n",
              "      <td>09/10/2020</td>\n",
              "      <td>22:07</td>\n",
              "      <td>NaN</td>\n",
              "      <td>NaN</td>\n",
              "      <td>40.790417</td>\n",
              "      <td>-73.95184</td>\n",
              "      <td>(40.790417, -73.95184)</td>\n",
              "      <td>EAST 101 STREET</td>\n",
              "      <td>NaN</td>\n",
              "      <td>NaN</td>\n",
              "      <td>0.0</td>\n",
              "      <td>0.0</td>\n",
              "      <td>0</td>\n",
              "      <td>0</td>\n",
              "      <td>0</td>\n",
              "      <td>0</td>\n",
              "      <td>0</td>\n",
              "      <td>0</td>\n",
              "      <td>Passing Too Closely</td>\n",
              "      <td>Unspecified</td>\n",
              "      <td>NaN</td>\n",
              "      <td>NaN</td>\n",
              "      <td>NaN</td>\n",
              "      <td>4347736</td>\n",
              "      <td>Sedan</td>\n",
              "      <td>NaN</td>\n",
              "      <td>NaN</td>\n",
              "      <td>NaN</td>\n",
              "      <td>NaN</td>\n",
              "    </tr>\n",
              "    <tr>\n",
              "      <th>3</th>\n",
              "      <td>10/05/2020</td>\n",
              "      <td>16:42</td>\n",
              "      <td>BRONX</td>\n",
              "      <td>10460</td>\n",
              "      <td>40.838390</td>\n",
              "      <td>-73.88606</td>\n",
              "      <td>(40.83839, -73.88606)</td>\n",
              "      <td>BOSTON ROAD</td>\n",
              "      <td>HOE AVENUE</td>\n",
              "      <td>NaN</td>\n",
              "      <td>0.0</td>\n",
              "      <td>0.0</td>\n",
              "      <td>0</td>\n",
              "      <td>0</td>\n",
              "      <td>0</td>\n",
              "      <td>0</td>\n",
              "      <td>0</td>\n",
              "      <td>0</td>\n",
              "      <td>Driver Inattention/Distraction</td>\n",
              "      <td>Driver Inattention/Distraction</td>\n",
              "      <td>NaN</td>\n",
              "      <td>NaN</td>\n",
              "      <td>NaN</td>\n",
              "      <td>4355042</td>\n",
              "      <td>Sedan</td>\n",
              "      <td>Station Wagon/Sport Utility Vehicle</td>\n",
              "      <td>NaN</td>\n",
              "      <td>NaN</td>\n",
              "      <td>NaN</td>\n",
              "    </tr>\n",
              "    <tr>\n",
              "      <th>4</th>\n",
              "      <td>08/24/2020</td>\n",
              "      <td>16:08</td>\n",
              "      <td>BRONX</td>\n",
              "      <td>10466</td>\n",
              "      <td>40.899517</td>\n",
              "      <td>-73.84716</td>\n",
              "      <td>(40.899517, -73.84716)</td>\n",
              "      <td>NaN</td>\n",
              "      <td>NaN</td>\n",
              "      <td>4413      EDSON AVENUE</td>\n",
              "      <td>1.0</td>\n",
              "      <td>0.0</td>\n",
              "      <td>1</td>\n",
              "      <td>0</td>\n",
              "      <td>0</td>\n",
              "      <td>0</td>\n",
              "      <td>0</td>\n",
              "      <td>0</td>\n",
              "      <td>Unspecified</td>\n",
              "      <td>NaN</td>\n",
              "      <td>NaN</td>\n",
              "      <td>NaN</td>\n",
              "      <td>NaN</td>\n",
              "      <td>4342909</td>\n",
              "      <td>Sedan</td>\n",
              "      <td>NaN</td>\n",
              "      <td>NaN</td>\n",
              "      <td>NaN</td>\n",
              "      <td>NaN</td>\n",
              "    </tr>\n",
              "  </tbody>\n",
              "</table>\n",
              "</div>"
            ],
            "text/plain": [
              "   CRASH DATE CRASH TIME  ... VEHICLE TYPE CODE 4 VEHICLE TYPE CODE 5\n",
              "0  08/23/2020      14:25  ...                 NaN                 NaN\n",
              "1  09/30/2020      13:35  ...                 NaN                 NaN\n",
              "2  09/10/2020      22:07  ...                 NaN                 NaN\n",
              "3  10/05/2020      16:42  ...                 NaN                 NaN\n",
              "4  08/24/2020      16:08  ...                 NaN                 NaN\n",
              "\n",
              "[5 rows x 29 columns]"
            ]
          },
          "metadata": {
            "tags": []
          },
          "execution_count": 4
        }
      ]
    },
    {
      "cell_type": "code",
      "metadata": {
        "colab": {
          "base_uri": "https://localhost:8080/"
        },
        "id": "L-QslvyKWbD-",
        "outputId": "5b35d360-7bf7-4c77-c4ff-653a17dd326f"
      },
      "source": [
        "# Show size of the data\n",
        "print(f'Rows: {df.shape[0]} | Columns: {df.shape[1]}')"
      ],
      "execution_count": 5,
      "outputs": [
        {
          "output_type": "stream",
          "text": [
            "Rows: 1769702 | Columns: 29\n"
          ],
          "name": "stdout"
        }
      ]
    },
    {
      "cell_type": "code",
      "metadata": {
        "colab": {
          "base_uri": "https://localhost:8080/",
          "height": 0
        },
        "id": "XCS2znFyWtRT",
        "outputId": "768a327b-4aa6-4722-ef14-860c6e6e16fb"
      },
      "source": [
        "df.describe(include='all')"
      ],
      "execution_count": 6,
      "outputs": [
        {
          "output_type": "execute_result",
          "data": {
            "text/html": [
              "<div>\n",
              "<style scoped>\n",
              "    .dataframe tbody tr th:only-of-type {\n",
              "        vertical-align: middle;\n",
              "    }\n",
              "\n",
              "    .dataframe tbody tr th {\n",
              "        vertical-align: top;\n",
              "    }\n",
              "\n",
              "    .dataframe thead th {\n",
              "        text-align: right;\n",
              "    }\n",
              "</style>\n",
              "<table border=\"1\" class=\"dataframe\">\n",
              "  <thead>\n",
              "    <tr style=\"text-align: right;\">\n",
              "      <th></th>\n",
              "      <th>CRASH DATE</th>\n",
              "      <th>CRASH TIME</th>\n",
              "      <th>BOROUGH</th>\n",
              "      <th>ZIP CODE</th>\n",
              "      <th>LATITUDE</th>\n",
              "      <th>LONGITUDE</th>\n",
              "      <th>LOCATION</th>\n",
              "      <th>ON STREET NAME</th>\n",
              "      <th>CROSS STREET NAME</th>\n",
              "      <th>OFF STREET NAME</th>\n",
              "      <th>NUMBER OF PERSONS INJURED</th>\n",
              "      <th>NUMBER OF PERSONS KILLED</th>\n",
              "      <th>NUMBER OF PEDESTRIANS INJURED</th>\n",
              "      <th>NUMBER OF PEDESTRIANS KILLED</th>\n",
              "      <th>NUMBER OF CYCLIST INJURED</th>\n",
              "      <th>NUMBER OF CYCLIST KILLED</th>\n",
              "      <th>NUMBER OF MOTORIST INJURED</th>\n",
              "      <th>NUMBER OF MOTORIST KILLED</th>\n",
              "      <th>CONTRIBUTING FACTOR VEHICLE 1</th>\n",
              "      <th>CONTRIBUTING FACTOR VEHICLE 2</th>\n",
              "      <th>CONTRIBUTING FACTOR VEHICLE 3</th>\n",
              "      <th>CONTRIBUTING FACTOR VEHICLE 4</th>\n",
              "      <th>CONTRIBUTING FACTOR VEHICLE 5</th>\n",
              "      <th>COLLISION_ID</th>\n",
              "      <th>VEHICLE TYPE CODE 1</th>\n",
              "      <th>VEHICLE TYPE CODE 2</th>\n",
              "      <th>VEHICLE TYPE CODE 3</th>\n",
              "      <th>VEHICLE TYPE CODE 4</th>\n",
              "      <th>VEHICLE TYPE CODE 5</th>\n",
              "    </tr>\n",
              "  </thead>\n",
              "  <tbody>\n",
              "    <tr>\n",
              "      <th>count</th>\n",
              "      <td>1769702</td>\n",
              "      <td>1769702</td>\n",
              "      <td>1225740</td>\n",
              "      <td>1225528.0</td>\n",
              "      <td>1.560337e+06</td>\n",
              "      <td>1.560337e+06</td>\n",
              "      <td>1560337</td>\n",
              "      <td>1412598</td>\n",
              "      <td>1146027</td>\n",
              "      <td>264736</td>\n",
              "      <td>1.769684e+06</td>\n",
              "      <td>1.769671e+06</td>\n",
              "      <td>1.769702e+06</td>\n",
              "      <td>1.769702e+06</td>\n",
              "      <td>1.769702e+06</td>\n",
              "      <td>1.769702e+06</td>\n",
              "      <td>1.769702e+06</td>\n",
              "      <td>1.769702e+06</td>\n",
              "      <td>1764715</td>\n",
              "      <td>1518624</td>\n",
              "      <td>118838</td>\n",
              "      <td>25618</td>\n",
              "      <td>6706</td>\n",
              "      <td>1.769702e+06</td>\n",
              "      <td>1760347</td>\n",
              "      <td>1475806</td>\n",
              "      <td>115583</td>\n",
              "      <td>24902</td>\n",
              "      <td>6530</td>\n",
              "    </tr>\n",
              "    <tr>\n",
              "      <th>unique</th>\n",
              "      <td>3205</td>\n",
              "      <td>1440</td>\n",
              "      <td>5</td>\n",
              "      <td>431.0</td>\n",
              "      <td>NaN</td>\n",
              "      <td>NaN</td>\n",
              "      <td>229264</td>\n",
              "      <td>12115</td>\n",
              "      <td>18901</td>\n",
              "      <td>161790</td>\n",
              "      <td>NaN</td>\n",
              "      <td>NaN</td>\n",
              "      <td>NaN</td>\n",
              "      <td>NaN</td>\n",
              "      <td>NaN</td>\n",
              "      <td>NaN</td>\n",
              "      <td>NaN</td>\n",
              "      <td>NaN</td>\n",
              "      <td>61</td>\n",
              "      <td>61</td>\n",
              "      <td>50</td>\n",
              "      <td>39</td>\n",
              "      <td>29</td>\n",
              "      <td>NaN</td>\n",
              "      <td>1219</td>\n",
              "      <td>1313</td>\n",
              "      <td>186</td>\n",
              "      <td>76</td>\n",
              "      <td>54</td>\n",
              "    </tr>\n",
              "    <tr>\n",
              "      <th>top</th>\n",
              "      <td>01/21/2014</td>\n",
              "      <td>16:00</td>\n",
              "      <td>BROOKLYN</td>\n",
              "      <td>11207.0</td>\n",
              "      <td>NaN</td>\n",
              "      <td>NaN</td>\n",
              "      <td>(0.0, 0.0)</td>\n",
              "      <td>BROADWAY</td>\n",
              "      <td>3 AVENUE</td>\n",
              "      <td>772       EDGEWATER ROAD</td>\n",
              "      <td>NaN</td>\n",
              "      <td>NaN</td>\n",
              "      <td>NaN</td>\n",
              "      <td>NaN</td>\n",
              "      <td>NaN</td>\n",
              "      <td>NaN</td>\n",
              "      <td>NaN</td>\n",
              "      <td>NaN</td>\n",
              "      <td>Unspecified</td>\n",
              "      <td>Unspecified</td>\n",
              "      <td>Unspecified</td>\n",
              "      <td>Unspecified</td>\n",
              "      <td>Unspecified</td>\n",
              "      <td>NaN</td>\n",
              "      <td>Sedan</td>\n",
              "      <td>Sedan</td>\n",
              "      <td>Sedan</td>\n",
              "      <td>Sedan</td>\n",
              "      <td>Sedan</td>\n",
              "    </tr>\n",
              "    <tr>\n",
              "      <th>freq</th>\n",
              "      <td>1161</td>\n",
              "      <td>25551</td>\n",
              "      <td>384373</td>\n",
              "      <td>15085.0</td>\n",
              "      <td>NaN</td>\n",
              "      <td>NaN</td>\n",
              "      <td>1766</td>\n",
              "      <td>17269</td>\n",
              "      <td>9843</td>\n",
              "      <td>402</td>\n",
              "      <td>NaN</td>\n",
              "      <td>NaN</td>\n",
              "      <td>NaN</td>\n",
              "      <td>NaN</td>\n",
              "      <td>NaN</td>\n",
              "      <td>NaN</td>\n",
              "      <td>NaN</td>\n",
              "      <td>NaN</td>\n",
              "      <td>632901</td>\n",
              "      <td>1276959</td>\n",
              "      <td>110593</td>\n",
              "      <td>24157</td>\n",
              "      <td>6315</td>\n",
              "      <td>NaN</td>\n",
              "      <td>434189</td>\n",
              "      <td>319640</td>\n",
              "      <td>31040</td>\n",
              "      <td>7179</td>\n",
              "      <td>1942</td>\n",
              "    </tr>\n",
              "    <tr>\n",
              "      <th>mean</th>\n",
              "      <td>NaN</td>\n",
              "      <td>NaN</td>\n",
              "      <td>NaN</td>\n",
              "      <td>NaN</td>\n",
              "      <td>4.067809e+01</td>\n",
              "      <td>-7.384509e+01</td>\n",
              "      <td>NaN</td>\n",
              "      <td>NaN</td>\n",
              "      <td>NaN</td>\n",
              "      <td>NaN</td>\n",
              "      <td>2.736144e-01</td>\n",
              "      <td>1.260121e-03</td>\n",
              "      <td>5.153184e-02</td>\n",
              "      <td>6.633885e-04</td>\n",
              "      <td>2.291911e-02</td>\n",
              "      <td>9.493124e-05</td>\n",
              "      <td>1.989996e-01</td>\n",
              "      <td>5.006493e-04</td>\n",
              "      <td>NaN</td>\n",
              "      <td>NaN</td>\n",
              "      <td>NaN</td>\n",
              "      <td>NaN</td>\n",
              "      <td>NaN</td>\n",
              "      <td>2.917858e+06</td>\n",
              "      <td>NaN</td>\n",
              "      <td>NaN</td>\n",
              "      <td>NaN</td>\n",
              "      <td>NaN</td>\n",
              "      <td>NaN</td>\n",
              "    </tr>\n",
              "    <tr>\n",
              "      <th>std</th>\n",
              "      <td>NaN</td>\n",
              "      <td>NaN</td>\n",
              "      <td>NaN</td>\n",
              "      <td>NaN</td>\n",
              "      <td>1.371572e+00</td>\n",
              "      <td>2.703046e+00</td>\n",
              "      <td>NaN</td>\n",
              "      <td>NaN</td>\n",
              "      <td>NaN</td>\n",
              "      <td>NaN</td>\n",
              "      <td>6.687317e-01</td>\n",
              "      <td>3.753458e-02</td>\n",
              "      <td>2.335054e-01</td>\n",
              "      <td>2.629072e-02</td>\n",
              "      <td>1.513429e-01</td>\n",
              "      <td>9.800633e-03</td>\n",
              "      <td>6.305173e-01</td>\n",
              "      <td>2.446877e-02</td>\n",
              "      <td>NaN</td>\n",
              "      <td>NaN</td>\n",
              "      <td>NaN</td>\n",
              "      <td>NaN</td>\n",
              "      <td>NaN</td>\n",
              "      <td>1.502896e+06</td>\n",
              "      <td>NaN</td>\n",
              "      <td>NaN</td>\n",
              "      <td>NaN</td>\n",
              "      <td>NaN</td>\n",
              "      <td>NaN</td>\n",
              "    </tr>\n",
              "    <tr>\n",
              "      <th>min</th>\n",
              "      <td>NaN</td>\n",
              "      <td>NaN</td>\n",
              "      <td>NaN</td>\n",
              "      <td>NaN</td>\n",
              "      <td>0.000000e+00</td>\n",
              "      <td>-2.013600e+02</td>\n",
              "      <td>NaN</td>\n",
              "      <td>NaN</td>\n",
              "      <td>NaN</td>\n",
              "      <td>NaN</td>\n",
              "      <td>0.000000e+00</td>\n",
              "      <td>0.000000e+00</td>\n",
              "      <td>0.000000e+00</td>\n",
              "      <td>0.000000e+00</td>\n",
              "      <td>0.000000e+00</td>\n",
              "      <td>0.000000e+00</td>\n",
              "      <td>0.000000e+00</td>\n",
              "      <td>0.000000e+00</td>\n",
              "      <td>NaN</td>\n",
              "      <td>NaN</td>\n",
              "      <td>NaN</td>\n",
              "      <td>NaN</td>\n",
              "      <td>NaN</td>\n",
              "      <td>2.200000e+01</td>\n",
              "      <td>NaN</td>\n",
              "      <td>NaN</td>\n",
              "      <td>NaN</td>\n",
              "      <td>NaN</td>\n",
              "      <td>NaN</td>\n",
              "    </tr>\n",
              "    <tr>\n",
              "      <th>25%</th>\n",
              "      <td>NaN</td>\n",
              "      <td>NaN</td>\n",
              "      <td>NaN</td>\n",
              "      <td>NaN</td>\n",
              "      <td>4.066854e+01</td>\n",
              "      <td>-7.397596e+01</td>\n",
              "      <td>NaN</td>\n",
              "      <td>NaN</td>\n",
              "      <td>NaN</td>\n",
              "      <td>NaN</td>\n",
              "      <td>0.000000e+00</td>\n",
              "      <td>0.000000e+00</td>\n",
              "      <td>0.000000e+00</td>\n",
              "      <td>0.000000e+00</td>\n",
              "      <td>0.000000e+00</td>\n",
              "      <td>0.000000e+00</td>\n",
              "      <td>0.000000e+00</td>\n",
              "      <td>0.000000e+00</td>\n",
              "      <td>NaN</td>\n",
              "      <td>NaN</td>\n",
              "      <td>NaN</td>\n",
              "      <td>NaN</td>\n",
              "      <td>NaN</td>\n",
              "      <td>2.879737e+06</td>\n",
              "      <td>NaN</td>\n",
              "      <td>NaN</td>\n",
              "      <td>NaN</td>\n",
              "      <td>NaN</td>\n",
              "      <td>NaN</td>\n",
              "    </tr>\n",
              "    <tr>\n",
              "      <th>50%</th>\n",
              "      <td>NaN</td>\n",
              "      <td>NaN</td>\n",
              "      <td>NaN</td>\n",
              "      <td>NaN</td>\n",
              "      <td>4.072210e+01</td>\n",
              "      <td>-7.392835e+01</td>\n",
              "      <td>NaN</td>\n",
              "      <td>NaN</td>\n",
              "      <td>NaN</td>\n",
              "      <td>NaN</td>\n",
              "      <td>0.000000e+00</td>\n",
              "      <td>0.000000e+00</td>\n",
              "      <td>0.000000e+00</td>\n",
              "      <td>0.000000e+00</td>\n",
              "      <td>0.000000e+00</td>\n",
              "      <td>0.000000e+00</td>\n",
              "      <td>0.000000e+00</td>\n",
              "      <td>0.000000e+00</td>\n",
              "      <td>NaN</td>\n",
              "      <td>NaN</td>\n",
              "      <td>NaN</td>\n",
              "      <td>NaN</td>\n",
              "      <td>NaN</td>\n",
              "      <td>3.521010e+06</td>\n",
              "      <td>NaN</td>\n",
              "      <td>NaN</td>\n",
              "      <td>NaN</td>\n",
              "      <td>NaN</td>\n",
              "      <td>NaN</td>\n",
              "    </tr>\n",
              "    <tr>\n",
              "      <th>75%</th>\n",
              "      <td>NaN</td>\n",
              "      <td>NaN</td>\n",
              "      <td>NaN</td>\n",
              "      <td>NaN</td>\n",
              "      <td>4.076888e+01</td>\n",
              "      <td>-7.386663e+01</td>\n",
              "      <td>NaN</td>\n",
              "      <td>NaN</td>\n",
              "      <td>NaN</td>\n",
              "      <td>NaN</td>\n",
              "      <td>0.000000e+00</td>\n",
              "      <td>0.000000e+00</td>\n",
              "      <td>0.000000e+00</td>\n",
              "      <td>0.000000e+00</td>\n",
              "      <td>0.000000e+00</td>\n",
              "      <td>0.000000e+00</td>\n",
              "      <td>0.000000e+00</td>\n",
              "      <td>0.000000e+00</td>\n",
              "      <td>NaN</td>\n",
              "      <td>NaN</td>\n",
              "      <td>NaN</td>\n",
              "      <td>NaN</td>\n",
              "      <td>NaN</td>\n",
              "      <td>3.963676e+06</td>\n",
              "      <td>NaN</td>\n",
              "      <td>NaN</td>\n",
              "      <td>NaN</td>\n",
              "      <td>NaN</td>\n",
              "      <td>NaN</td>\n",
              "    </tr>\n",
              "    <tr>\n",
              "      <th>max</th>\n",
              "      <td>NaN</td>\n",
              "      <td>NaN</td>\n",
              "      <td>NaN</td>\n",
              "      <td>NaN</td>\n",
              "      <td>4.334444e+01</td>\n",
              "      <td>0.000000e+00</td>\n",
              "      <td>NaN</td>\n",
              "      <td>NaN</td>\n",
              "      <td>NaN</td>\n",
              "      <td>NaN</td>\n",
              "      <td>4.300000e+01</td>\n",
              "      <td>8.000000e+00</td>\n",
              "      <td>2.700000e+01</td>\n",
              "      <td>6.000000e+00</td>\n",
              "      <td>7.000000e+00</td>\n",
              "      <td>2.000000e+00</td>\n",
              "      <td>4.300000e+01</td>\n",
              "      <td>5.000000e+00</td>\n",
              "      <td>NaN</td>\n",
              "      <td>NaN</td>\n",
              "      <td>NaN</td>\n",
              "      <td>NaN</td>\n",
              "      <td>NaN</td>\n",
              "      <td>4.406495e+06</td>\n",
              "      <td>NaN</td>\n",
              "      <td>NaN</td>\n",
              "      <td>NaN</td>\n",
              "      <td>NaN</td>\n",
              "      <td>NaN</td>\n",
              "    </tr>\n",
              "  </tbody>\n",
              "</table>\n",
              "</div>"
            ],
            "text/plain": [
              "        CRASH DATE CRASH TIME  ... VEHICLE TYPE CODE 4  VEHICLE TYPE CODE 5\n",
              "count      1769702    1769702  ...               24902                 6530\n",
              "unique        3205       1440  ...                  76                   54\n",
              "top     01/21/2014      16:00  ...               Sedan                Sedan\n",
              "freq          1161      25551  ...                7179                 1942\n",
              "mean           NaN        NaN  ...                 NaN                  NaN\n",
              "std            NaN        NaN  ...                 NaN                  NaN\n",
              "min            NaN        NaN  ...                 NaN                  NaN\n",
              "25%            NaN        NaN  ...                 NaN                  NaN\n",
              "50%            NaN        NaN  ...                 NaN                  NaN\n",
              "75%            NaN        NaN  ...                 NaN                  NaN\n",
              "max            NaN        NaN  ...                 NaN                  NaN\n",
              "\n",
              "[11 rows x 29 columns]"
            ]
          },
          "metadata": {
            "tags": []
          },
          "execution_count": 6
        }
      ]
    },
    {
      "cell_type": "markdown",
      "metadata": {
        "id": "cjmXeJXnkEL3"
      },
      "source": [
        "### Data Handling\n",
        "- Clean up unneeded data\n",
        "- Make sure the correct dtypes are being used\n",
        "- Handle missing data"
      ]
    },
    {
      "cell_type": "markdown",
      "metadata": {
        "id": "dVZfSzcDlqxZ"
      },
      "source": [
        "#### Unneeded data"
      ]
    },
    {
      "cell_type": "code",
      "metadata": {
        "id": "ZENlInJkkFrX"
      },
      "source": [
        "# We don't need COLLISION_ID as its more of a unique identifier for internal use\n",
        "# LOCATION is just a combination of LONGITUDE and LATITUDE, having either is fine\n",
        "df.drop(['COLLISION_ID', 'LOCATION'], axis=1, inplace=True)"
      ],
      "execution_count": 7,
      "outputs": []
    },
    {
      "cell_type": "markdown",
      "metadata": {
        "id": "WZDGxKLllsUJ"
      },
      "source": [
        "#### Check and handle missing values"
      ]
    },
    {
      "cell_type": "code",
      "metadata": {
        "colab": {
          "base_uri": "https://localhost:8080/"
        },
        "id": "m280eI0fliT-",
        "outputId": "9d702669-6895-4925-cc04-c68e0520e47e"
      },
      "source": [
        "# Check which columns have missing values\n",
        "nulls = df.isnull().sum()\n",
        "nulls[nulls > 0]"
      ],
      "execution_count": 8,
      "outputs": [
        {
          "output_type": "execute_result",
          "data": {
            "text/plain": [
              "BOROUGH                           543962\n",
              "ZIP CODE                          544174\n",
              "LATITUDE                          209365\n",
              "LONGITUDE                         209365\n",
              "ON STREET NAME                    357104\n",
              "CROSS STREET NAME                 623675\n",
              "OFF STREET NAME                  1504966\n",
              "NUMBER OF PERSONS INJURED             18\n",
              "NUMBER OF PERSONS KILLED              31\n",
              "CONTRIBUTING FACTOR VEHICLE 1       4987\n",
              "CONTRIBUTING FACTOR VEHICLE 2     251078\n",
              "CONTRIBUTING FACTOR VEHICLE 3    1650864\n",
              "CONTRIBUTING FACTOR VEHICLE 4    1744084\n",
              "CONTRIBUTING FACTOR VEHICLE 5    1762996\n",
              "VEHICLE TYPE CODE 1                 9355\n",
              "VEHICLE TYPE CODE 2               293896\n",
              "VEHICLE TYPE CODE 3              1654119\n",
              "VEHICLE TYPE CODE 4              1744800\n",
              "VEHICLE TYPE CODE 5              1763172\n",
              "dtype: int64"
            ]
          },
          "metadata": {
            "tags": []
          },
          "execution_count": 8
        }
      ]
    },
    {
      "cell_type": "markdown",
      "metadata": {
        "id": "UE6Psj53lvVm"
      },
      "source": [
        "`CONTRIBUTING FACTOR VEHICLE` and `VEHICLE TYPE CODE` are used to identify the vehicle involved in the collision as well as the vehicle's role in the collision. \n",
        "\n",
        "`CONTRIBUTING FACTOR VEHICLE` and `VEHICLE TYPE CODE` can be kept as null. For a particular collision with 2 vehicles, The data should include information for these two vehicles but vehicles 3, 4, and 5 should be empty - it would make sense that values are missing from these columns."
      ]
    },
    {
      "cell_type": "code",
      "metadata": {
        "id": "tYS6CcFTlnea"
      },
      "source": [
        "# Drop missing values\n",
        "# OFF STREET NAME has too many missing values for us to take care of.\n",
        "# With over 1.4 million missing values, it's over 80% of the data.\n",
        "df.drop('OFF STREET NAME', axis=1, inplace=True)\n",
        "\n",
        "# The data serves us no purpose if the geo-coordinates are missing.\n",
        "# The coords can be used to retrieve info about borough, street, ZIP code\n",
        "df.dropna(how='any', subset=['LATITUDE', 'LONGITUDE'], inplace=True)"
      ],
      "execution_count": 9,
      "outputs": []
    },
    {
      "cell_type": "code",
      "metadata": {
        "id": "MteJ8OMglyt0"
      },
      "source": [
        "# Impute missing values\n",
        "\n",
        "# For \"NUMBER OF PERSONS INJURED\" and \"NUMBER OF PERSONS KILLED\",\n",
        "# There is only a small amount of values missing which makes it easy for us to impute it\n",
        "\n",
        "# Impute \"NUMBER OF PERSONS INJURED\" via mean\n",
        "injured_mean = df['NUMBER OF PERSONS INJURED'].mean()\n",
        "df['NUMBER OF PERSONS INJURED'].replace(np.nan, injured_mean, inplace=True)\n",
        "\n",
        "# Impute \"NUMBER OF PERSONS KILLED\" via mean\n",
        "killed_mean = df['NUMBER OF PERSONS KILLED'].mean()\n",
        "df['NUMBER OF PERSONS KILLED'].replace(np.nan, killed_mean, inplace=True)"
      ],
      "execution_count": 10,
      "outputs": []
    },
    {
      "cell_type": "markdown",
      "metadata": {
        "id": "tgl7O933mNLD"
      },
      "source": [
        "The next few columns to worry about are `ZIP CODE`, `BOROUGH`, and `ON STREET NAME`. If we check the number of records with values missing in any of the 3 columns, we will see that there is about 600,000 values missing in total. Or about 35% of the total data - which is a big chunk of the total data but not enough to leave a huge impact if we drop them. By dropping them, we'll still have about 1 million left."
      ]
    },
    {
      "cell_type": "code",
      "metadata": {
        "colab": {
          "base_uri": "https://localhost:8080/"
        },
        "id": "JPCJO4YpIC1e",
        "outputId": "6885acd1-758f-4863-edf3-0d8e72f0355a"
      },
      "source": [
        "filter = df[['ZIP CODE', 'BOROUGH', 'ON STREET NAME']].isnull().any(1)\n",
        "df[filter].shape"
      ],
      "execution_count": 11,
      "outputs": [
        {
          "output_type": "execute_result",
          "data": {
            "text/plain": [
              "(595061, 26)"
            ]
          },
          "metadata": {
            "tags": []
          },
          "execution_count": 11
        }
      ]
    },
    {
      "cell_type": "code",
      "metadata": {
        "colab": {
          "base_uri": "https://localhost:8080/"
        },
        "id": "Md8lPFKemOEU",
        "outputId": "620c242f-99be-4e01-baff-2a325ae6a333"
      },
      "source": [
        "df.dropna(how='any', subset=['ZIP CODE', 'BOROUGH', 'ON STREET NAME'], inplace=True)\n",
        "df.shape"
      ],
      "execution_count": 12,
      "outputs": [
        {
          "output_type": "execute_result",
          "data": {
            "text/plain": [
              "(965276, 26)"
            ]
          },
          "metadata": {
            "tags": []
          },
          "execution_count": 12
        }
      ]
    },
    {
      "cell_type": "markdown",
      "metadata": {
        "id": "moy2A6VBiIu7"
      },
      "source": [
        "#### Check dtypes"
      ]
    },
    {
      "cell_type": "code",
      "metadata": {
        "colab": {
          "base_uri": "https://localhost:8080/"
        },
        "id": "zcxzzArQiMfS",
        "outputId": "f2966835-02f7-477a-8b72-24ae0535cf8e"
      },
      "source": [
        "df.dtypes"
      ],
      "execution_count": 13,
      "outputs": [
        {
          "output_type": "execute_result",
          "data": {
            "text/plain": [
              "CRASH DATE                        object\n",
              "CRASH TIME                        object\n",
              "BOROUGH                           object\n",
              "ZIP CODE                          object\n",
              "LATITUDE                         float64\n",
              "LONGITUDE                        float64\n",
              "ON STREET NAME                    object\n",
              "CROSS STREET NAME                 object\n",
              "NUMBER OF PERSONS INJURED        float64\n",
              "NUMBER OF PERSONS KILLED         float64\n",
              "NUMBER OF PEDESTRIANS INJURED      int64\n",
              "NUMBER OF PEDESTRIANS KILLED       int64\n",
              "NUMBER OF CYCLIST INJURED          int64\n",
              "NUMBER OF CYCLIST KILLED           int64\n",
              "NUMBER OF MOTORIST INJURED         int64\n",
              "NUMBER OF MOTORIST KILLED          int64\n",
              "CONTRIBUTING FACTOR VEHICLE 1     object\n",
              "CONTRIBUTING FACTOR VEHICLE 2     object\n",
              "CONTRIBUTING FACTOR VEHICLE 3     object\n",
              "CONTRIBUTING FACTOR VEHICLE 4     object\n",
              "CONTRIBUTING FACTOR VEHICLE 5     object\n",
              "VEHICLE TYPE CODE 1               object\n",
              "VEHICLE TYPE CODE 2               object\n",
              "VEHICLE TYPE CODE 3               object\n",
              "VEHICLE TYPE CODE 4               object\n",
              "VEHICLE TYPE CODE 5               object\n",
              "dtype: object"
            ]
          },
          "metadata": {
            "tags": []
          },
          "execution_count": 13
        }
      ]
    },
    {
      "cell_type": "code",
      "metadata": {
        "id": "KECRApJGRYu4"
      },
      "source": [
        "# Fix the dtypes\n",
        "\n",
        "df['CRASH DATE'] = pd.to_datetime(df['CRASH DATE'])\n",
        "df['CRASH TIME'] = pd.to_datetime(df['CRASH TIME'])\n",
        "\n",
        "# These should be ints, not floats - can't have half a person dead\n",
        "df['NUMBER OF PERSONS INJURED'] = df['NUMBER OF PERSONS INJURED'].astype(int)\n",
        "df['NUMBER OF PERSONS KILLED'] = df['NUMBER OF PERSONS KILLED'].astype(int)"
      ],
      "execution_count": 14,
      "outputs": []
    },
    {
      "cell_type": "markdown",
      "metadata": {
        "id": "N_mC9r6KrHB7"
      },
      "source": [
        "#### Miscellaneous Cleanup"
      ]
    },
    {
      "cell_type": "code",
      "metadata": {
        "colab": {
          "base_uri": "https://localhost:8080/",
          "height": 0
        },
        "id": "zlodg4cgq8TX",
        "outputId": "8d456181-6fe7-4480-d722-ce44732af077"
      },
      "source": [
        "# Convert everything to uppercase to be consistent\n",
        "# This might take a few seconds or minutes depending on system\n",
        "# Took about ~10 seconds via Google Colab\n",
        "df = df.applymap(lambda s:s.upper() if type(s) == str else s)\n",
        "df.head()"
      ],
      "execution_count": 15,
      "outputs": [
        {
          "output_type": "execute_result",
          "data": {
            "text/html": [
              "<div>\n",
              "<style scoped>\n",
              "    .dataframe tbody tr th:only-of-type {\n",
              "        vertical-align: middle;\n",
              "    }\n",
              "\n",
              "    .dataframe tbody tr th {\n",
              "        vertical-align: top;\n",
              "    }\n",
              "\n",
              "    .dataframe thead th {\n",
              "        text-align: right;\n",
              "    }\n",
              "</style>\n",
              "<table border=\"1\" class=\"dataframe\">\n",
              "  <thead>\n",
              "    <tr style=\"text-align: right;\">\n",
              "      <th></th>\n",
              "      <th>CRASH DATE</th>\n",
              "      <th>CRASH TIME</th>\n",
              "      <th>BOROUGH</th>\n",
              "      <th>ZIP CODE</th>\n",
              "      <th>LATITUDE</th>\n",
              "      <th>LONGITUDE</th>\n",
              "      <th>ON STREET NAME</th>\n",
              "      <th>CROSS STREET NAME</th>\n",
              "      <th>NUMBER OF PERSONS INJURED</th>\n",
              "      <th>NUMBER OF PERSONS KILLED</th>\n",
              "      <th>NUMBER OF PEDESTRIANS INJURED</th>\n",
              "      <th>NUMBER OF PEDESTRIANS KILLED</th>\n",
              "      <th>NUMBER OF CYCLIST INJURED</th>\n",
              "      <th>NUMBER OF CYCLIST KILLED</th>\n",
              "      <th>NUMBER OF MOTORIST INJURED</th>\n",
              "      <th>NUMBER OF MOTORIST KILLED</th>\n",
              "      <th>CONTRIBUTING FACTOR VEHICLE 1</th>\n",
              "      <th>CONTRIBUTING FACTOR VEHICLE 2</th>\n",
              "      <th>CONTRIBUTING FACTOR VEHICLE 3</th>\n",
              "      <th>CONTRIBUTING FACTOR VEHICLE 4</th>\n",
              "      <th>CONTRIBUTING FACTOR VEHICLE 5</th>\n",
              "      <th>VEHICLE TYPE CODE 1</th>\n",
              "      <th>VEHICLE TYPE CODE 2</th>\n",
              "      <th>VEHICLE TYPE CODE 3</th>\n",
              "      <th>VEHICLE TYPE CODE 4</th>\n",
              "      <th>VEHICLE TYPE CODE 5</th>\n",
              "    </tr>\n",
              "  </thead>\n",
              "  <tbody>\n",
              "    <tr>\n",
              "      <th>0</th>\n",
              "      <td>2020-08-23</td>\n",
              "      <td>2021-04-13 14:25:00</td>\n",
              "      <td>QUEENS</td>\n",
              "      <td>11434</td>\n",
              "      <td>40.672382</td>\n",
              "      <td>-73.785740</td>\n",
              "      <td>ROCKAWAY BOULEVARD</td>\n",
              "      <td>BAISLEY BOULEVARD</td>\n",
              "      <td>1</td>\n",
              "      <td>0</td>\n",
              "      <td>0</td>\n",
              "      <td>0</td>\n",
              "      <td>0</td>\n",
              "      <td>0</td>\n",
              "      <td>1</td>\n",
              "      <td>0</td>\n",
              "      <td>DRIVER INATTENTION/DISTRACTION</td>\n",
              "      <td>UNSPECIFIED</td>\n",
              "      <td>NaN</td>\n",
              "      <td>NaN</td>\n",
              "      <td>NaN</td>\n",
              "      <td>SEDAN</td>\n",
              "      <td>SEDAN</td>\n",
              "      <td>NaN</td>\n",
              "      <td>NaN</td>\n",
              "      <td>NaN</td>\n",
              "    </tr>\n",
              "    <tr>\n",
              "      <th>3</th>\n",
              "      <td>2020-10-05</td>\n",
              "      <td>2021-04-13 16:42:00</td>\n",
              "      <td>BRONX</td>\n",
              "      <td>10460</td>\n",
              "      <td>40.838390</td>\n",
              "      <td>-73.886060</td>\n",
              "      <td>BOSTON ROAD</td>\n",
              "      <td>HOE AVENUE</td>\n",
              "      <td>0</td>\n",
              "      <td>0</td>\n",
              "      <td>0</td>\n",
              "      <td>0</td>\n",
              "      <td>0</td>\n",
              "      <td>0</td>\n",
              "      <td>0</td>\n",
              "      <td>0</td>\n",
              "      <td>DRIVER INATTENTION/DISTRACTION</td>\n",
              "      <td>DRIVER INATTENTION/DISTRACTION</td>\n",
              "      <td>NaN</td>\n",
              "      <td>NaN</td>\n",
              "      <td>NaN</td>\n",
              "      <td>SEDAN</td>\n",
              "      <td>STATION WAGON/SPORT UTILITY VEHICLE</td>\n",
              "      <td>NaN</td>\n",
              "      <td>NaN</td>\n",
              "      <td>NaN</td>\n",
              "    </tr>\n",
              "    <tr>\n",
              "      <th>7</th>\n",
              "      <td>2020-09-03</td>\n",
              "      <td>2021-04-13 16:45:00</td>\n",
              "      <td>QUEENS</td>\n",
              "      <td>11364</td>\n",
              "      <td>40.745540</td>\n",
              "      <td>-73.776800</td>\n",
              "      <td>FRANCIS LEWIS BOULEVARD</td>\n",
              "      <td>58 AVENUE</td>\n",
              "      <td>1</td>\n",
              "      <td>0</td>\n",
              "      <td>0</td>\n",
              "      <td>0</td>\n",
              "      <td>0</td>\n",
              "      <td>0</td>\n",
              "      <td>1</td>\n",
              "      <td>0</td>\n",
              "      <td>FOLLOWING TOO CLOSELY</td>\n",
              "      <td>UNSPECIFIED</td>\n",
              "      <td>NaN</td>\n",
              "      <td>NaN</td>\n",
              "      <td>NaN</td>\n",
              "      <td>STATION WAGON/SPORT UTILITY VEHICLE</td>\n",
              "      <td>SEDAN</td>\n",
              "      <td>NaN</td>\n",
              "      <td>NaN</td>\n",
              "      <td>NaN</td>\n",
              "    </tr>\n",
              "    <tr>\n",
              "      <th>10</th>\n",
              "      <td>2020-09-19</td>\n",
              "      <td>2021-04-13 21:09:00</td>\n",
              "      <td>QUEENS</td>\n",
              "      <td>11368</td>\n",
              "      <td>40.751545</td>\n",
              "      <td>-73.870850</td>\n",
              "      <td>JUNCTION BOULEVARD</td>\n",
              "      <td>37 AVENUE</td>\n",
              "      <td>0</td>\n",
              "      <td>0</td>\n",
              "      <td>0</td>\n",
              "      <td>0</td>\n",
              "      <td>0</td>\n",
              "      <td>0</td>\n",
              "      <td>0</td>\n",
              "      <td>0</td>\n",
              "      <td>PASSING OR LANE USAGE IMPROPER</td>\n",
              "      <td>UNSPECIFIED</td>\n",
              "      <td>NaN</td>\n",
              "      <td>NaN</td>\n",
              "      <td>NaN</td>\n",
              "      <td>STATION WAGON/SPORT UTILITY VEHICLE</td>\n",
              "      <td>SEDAN</td>\n",
              "      <td>NaN</td>\n",
              "      <td>NaN</td>\n",
              "      <td>NaN</td>\n",
              "    </tr>\n",
              "    <tr>\n",
              "      <th>12</th>\n",
              "      <td>2020-09-19</td>\n",
              "      <td>2021-04-13 14:30:00</td>\n",
              "      <td>BRONX</td>\n",
              "      <td>10462</td>\n",
              "      <td>40.854504</td>\n",
              "      <td>-73.867714</td>\n",
              "      <td>WHITE PLAINS ROAD</td>\n",
              "      <td>LYDIG AVENUE</td>\n",
              "      <td>1</td>\n",
              "      <td>0</td>\n",
              "      <td>1</td>\n",
              "      <td>0</td>\n",
              "      <td>0</td>\n",
              "      <td>0</td>\n",
              "      <td>0</td>\n",
              "      <td>0</td>\n",
              "      <td>UNSPECIFIED</td>\n",
              "      <td>NaN</td>\n",
              "      <td>NaN</td>\n",
              "      <td>NaN</td>\n",
              "      <td>NaN</td>\n",
              "      <td>NaN</td>\n",
              "      <td>NaN</td>\n",
              "      <td>NaN</td>\n",
              "      <td>NaN</td>\n",
              "      <td>NaN</td>\n",
              "    </tr>\n",
              "  </tbody>\n",
              "</table>\n",
              "</div>"
            ],
            "text/plain": [
              "   CRASH DATE          CRASH TIME  ... VEHICLE TYPE CODE 4 VEHICLE TYPE CODE 5\n",
              "0  2020-08-23 2021-04-13 14:25:00  ...                 NaN                 NaN\n",
              "3  2020-10-05 2021-04-13 16:42:00  ...                 NaN                 NaN\n",
              "7  2020-09-03 2021-04-13 16:45:00  ...                 NaN                 NaN\n",
              "10 2020-09-19 2021-04-13 21:09:00  ...                 NaN                 NaN\n",
              "12 2020-09-19 2021-04-13 14:30:00  ...                 NaN                 NaN\n",
              "\n",
              "[5 rows x 26 columns]"
            ]
          },
          "metadata": {
            "tags": []
          },
          "execution_count": 15
        }
      ]
    },
    {
      "cell_type": "markdown",
      "metadata": {
        "id": "ykhIDnxjXqxt"
      },
      "source": [
        "# Explore the Data"
      ]
    },
    {
      "cell_type": "markdown",
      "metadata": {
        "id": "jPKo7bGLXutv"
      },
      "source": [
        "Now that our data is formatted and a bit cleaned up, let's see what it can tell us.\n",
        "\n",
        "Here we have a few questions the data might help answer:\n",
        "- When and where do collisions occur?\n",
        "- Who's involved?\n",
        "- What's the most common reason behind a collision?\n",
        "- Could a particular vehicle be the cause of most collisions?\n",
        "- Are there hotspots that may cause more collisions/deaths?"
      ]
    },
    {
      "cell_type": "markdown",
      "metadata": {
        "id": "Y1W7H_eRd6Bn"
      },
      "source": [
        "## Single Variable Plots"
      ]
    },
    {
      "cell_type": "markdown",
      "metadata": {
        "id": "DD9EKVUfYEfG"
      },
      "source": [
        "#### Collisions by Region"
      ]
    },
    {
      "cell_type": "markdown",
      "metadata": {
        "id": "N_6uY2dWYKv7"
      },
      "source": [
        "With Manhattan being such a hotspot for NYC residents and tourists, one might believe Manhattan would have the most collisions. But in the following chart, we can see that isn't true. Brooklyn leads the all-time collision count at about 300,000 and Queens follows closely at a little over 250,000."
      ]
    },
    {
      "cell_type": "code",
      "metadata": {
        "colab": {
          "base_uri": "https://localhost:8080/",
          "height": 0
        },
        "id": "ZkEFBbDIK_We",
        "outputId": "9a1f79fc-1a20-4d2c-e88e-6ad0bca552f8"
      },
      "source": [
        "fig, ax = plt.subplots(figsize=(10, 5))\n",
        "\n",
        "sns.countplot(data=df, x='BOROUGH')\n",
        "plt.title('Total Collisions by Borough')\n",
        "plt.xlabel('Borough')\n",
        "plt.ylabel('Total Collisions')"
      ],
      "execution_count": 16,
      "outputs": [
        {
          "output_type": "execute_result",
          "data": {
            "text/plain": [
              "Text(0, 0.5, 'Total Collisions')"
            ]
          },
          "metadata": {
            "tags": []
          },
          "execution_count": 16
        },
        {
          "output_type": "display_data",
          "data": {
            "image/png": "[encoded data removed]",
            "text/plain": [
              "<Figure size 720x360 with 1 Axes>"
            ]
          },
          "metadata": {
            "tags": [],
            "needs_background": "light"
          }
        }
      ]
    },
    {
      "cell_type": "markdown",
      "metadata": {
        "id": "2DItyWXpkcDs"
      },
      "source": [
        "#### Collisions Over Time\n",
        "\n",
        "Another good metric to explore is time. In the following graph, we can see the total collision reports per month, spanning from the data's inception of 2012."
      ]
    },
    {
      "cell_type": "markdown",
      "metadata": {
        "id": "ABfy2Fv50nmF"
      },
      "source": [
        "Now that we're looking at the monthly collisions, we'll notice that all the years collectively have a relatively low amount of collision reports in the first half of the year, especially the month of April. However, interestingly, as the summer begins to approach, the number of collisions start to drastically increase and plateau until the year ends."
      ]
    },
    {
      "cell_type": "code",
      "metadata": {
        "colab": {
          "base_uri": "https://localhost:8080/",
          "height": 0
        },
        "id": "zJV_gQzIqCvR",
        "outputId": "077153c7-0a93-412b-9fd9-047060c6b788"
      },
      "source": [
        "fig, ax = plt.subplots(figsize=(15, 5))\n",
        "\n",
        "# Extract the month from all collisions\n",
        "df_monthly = df['CRASH DATE'].dt.month_name().value_counts().to_frame('total')\n",
        "\n",
        "# Re-order the rows by month\n",
        "months_inorder = ['January', 'February', 'March', 'April', 'May', 'June', 'July', 'August', 'September', 'October', 'November', 'December']\n",
        "df_monthly = df_monthly.reindex(months_inorder, axis=0)\n",
        "\n",
        "# Display it\n",
        "sns.lineplot(data=df_monthly, x=df_monthly.index, y='total')\n",
        "plt.title('Total Collisions per Month')\n",
        "plt.xlabel('Month')\n",
        "plt.ylabel('Total Collisions')"
      ],
      "execution_count": 17,
      "outputs": [
        {
          "output_type": "execute_result",
          "data": {
            "text/plain": [
              "Text(0, 0.5, 'Total Collisions')"
            ]
          },
          "metadata": {
            "tags": []
          },
          "execution_count": 17
        },
        {
          "output_type": "display_data",
          "data": {
            "image/png": "[encoded data removed]",
            "text/plain": [
              "<Figure size 1080x360 with 1 Axes>"
            ]
          },
          "metadata": {
            "tags": [],
            "needs_background": "light"
          }
        }
      ]
    },
    {
      "cell_type": "markdown",
      "metadata": {
        "id": "MNG1VRQl0c3i"
      },
      "source": [
        "#### Persons Involved\n",
        "\n",
        "Paying attention to the road is likely the most important aspect to master for anyone piloting a vehicle as lack of experience here can cause fatal consequences - like the victims reported in these collisions. But that skill doesn't apply only to the drivers but the pedestrians as well."
      ]
    },
    {
      "cell_type": "markdown",
      "metadata": {
        "id": "VD6vvppP1liO"
      },
      "source": [
        "In the following, we will be looking at the people involved during collisions. How many are injured? How many suffered a lethal consequence?"
      ]
    },
    {
      "cell_type": "code",
      "metadata": {
        "colab": {
          "base_uri": "https://localhost:8080/",
          "height": 0
        },
        "id": "FeqYUxOi0ha8",
        "outputId": "ca2d6a03-3d2e-457d-8f8a-5a2168ca9a8f"
      },
      "source": [
        "fig, ax = plt.subplots(figsize=(7, 7))\n",
        "\n",
        "sns.countplot(data=df, x='NUMBER OF PERSONS INJURED')\n",
        "plt.title('Number of Persons Injured per Collision')\n",
        "plt.xlabel('Number of Persons Injured')\n",
        "plt.ylabel('Count')"
      ],
      "execution_count": 18,
      "outputs": [
        {
          "output_type": "execute_result",
          "data": {
            "text/plain": [
              "Text(0, 0.5, 'Count')"
            ]
          },
          "metadata": {
            "tags": []
          },
          "execution_count": 18
        },
        {
          "output_type": "display_data",
          "data": {
            "image/png": "[encoded data removed]",
            "text/plain": [
              "<Figure size 504x504 with 1 Axes>"
            ]
          },
          "metadata": {
            "tags": [],
            "needs_background": "light"
          }
        }
      ]
    },
    {
      "cell_type": "code",
      "metadata": {
        "colab": {
          "base_uri": "https://localhost:8080/",
          "height": 0
        },
        "id": "MZeH8wtL2-JE",
        "outputId": "dfd38869-efd7-44de-fcf2-c0d116950355"
      },
      "source": [
        "fig, ax = plt.subplots(figsize=(7, 7))\n",
        "\n",
        "sns.countplot(data=df, x='NUMBER OF PERSONS KILLED')\n",
        "\n",
        "plt.title('Number of Persons Killed per Collision')\n",
        "plt.xlabel('Number of Persons Killed')\n",
        "plt.ylabel('Count')"
      ],
      "execution_count": 19,
      "outputs": [
        {
          "output_type": "execute_result",
          "data": {
            "text/plain": [
              "Text(0, 0.5, 'Count')"
            ]
          },
          "metadata": {
            "tags": []
          },
          "execution_count": 19
        },
        {
          "output_type": "display_data",
          "data": {
            "image/png": "[encoded data removed]",
            "text/plain": [
              "<Figure size 504x504 with 1 Axes>"
            ]
          },
          "metadata": {
            "tags": [],
            "needs_background": "light"
          }
        }
      ]
    },
    {
      "cell_type": "markdown",
      "metadata": {
        "id": "_TTeTflkIXTS"
      },
      "source": [
        "The above plots give us information on how many people are involved in the collisions and whether or not they suffered injuries and/or deaths. As it's noticeable, both plots have a large bar at zero which thankfully means a large portion of collisions involve no one being injured or dead. However, that doesn't mean it doesn't happen. In the plot representing individuals who were injured, we can see a couple hundred-thousand instances where one or more people are injured. As for the plot representing individuals who suffered fatality, the bars are not even visible due to \"zero\" being so large, almost reaching one million instances."
      ]
    },
    {
      "cell_type": "markdown",
      "metadata": {
        "id": "FNyLD2Axd-3c"
      },
      "source": [
        "## Multivariable Plots"
      ]
    },
    {
      "cell_type": "markdown",
      "metadata": {
        "id": "W5jmrQZ-eDJI"
      },
      "source": [
        "Now let's look at the relationships between multiple variables."
      ]
    },
    {
      "cell_type": "code",
      "metadata": {
        "colab": {
          "base_uri": "https://localhost:8080/",
          "height": 0
        },
        "id": "P1c_7gLpeJji",
        "outputId": "66d1e6c0-be93-497a-8508-8b8633240fa6"
      },
      "source": [
        "fig, ax = plt.subplots(figsize=(10, 5))\n",
        "\n",
        "sns.countplot(data=df, x=df['CRASH DATE'].dt.year, hue='BOROUGH', palette='bright')\n",
        "plt.title('Collisions per Year by Borough')\n",
        "plt.xlabel('Year')\n",
        "plt.ylabel('Number of Collisions')"
      ],
      "execution_count": 20,
      "outputs": [
        {
          "output_type": "execute_result",
          "data": {
            "text/plain": [
              "Text(0, 0.5, 'Number of Collisions')"
            ]
          },
          "metadata": {
            "tags": []
          },
          "execution_count": 20
        },
        {
          "output_type": "display_data",
          "data": {
            "image/png": "[encoded data removed]",
            "text/plain": [
              "<Figure size 720x360 with 1 Axes>"
            ]
          },
          "metadata": {
            "tags": [],
            "needs_background": "light"
          }
        }
      ]
    },
    {
      "cell_type": "markdown",
      "metadata": {
        "id": "DNcDex3Fh-xG"
      },
      "source": [
        "The figure above shows the number of collision reports per year in each borough. If we look at this closely, we’ll notice that each borough had a drastic increase in collisions starting from 2012 up until 2015. After that year, each borough began its overall decline in collisions. The decrease in collisions after 2015 might even be at the credit of the city government’s Vision Zero Campaign - a citywide initiative aimed to protect the public and reduce traffic accidents. "
      ]
    },
    {
      "cell_type": "code",
      "metadata": {
        "colab": {
          "base_uri": "https://localhost:8080/",
          "height": 0
        },
        "id": "5S-NiSPfyqHS",
        "outputId": "18d338c3-581f-441b-943b-92fe476919ec"
      },
      "source": [
        "month_year = pd.DataFrame()\n",
        "month_year['CRASH YEAR'] = df['CRASH DATE'].dt.year\n",
        "month_year['CRASH MONTH'] = df['CRASH DATE'].dt.month\n",
        "month_year = month_year.value_counts().to_frame('TOTAL COLLISIONS').sort_index(ascending=True)\n",
        "\n",
        "fig, ax = plt.subplots(figsize=(15, 9))\n",
        "sns.lineplot(data=month_year, x='CRASH MONTH', y='TOTAL COLLISIONS', hue='CRASH YEAR', palette='bright')\n",
        "plt.title('Total Collisions per Month by Year')\n",
        "plt.legend(title='Year')\n",
        "plt.xlabel('Month')\n",
        "plt.ylabel('Total Collisions')"
      ],
      "execution_count": 21,
      "outputs": [
        {
          "output_type": "execute_result",
          "data": {
            "text/plain": [
              "Text(0, 0.5, 'Total Collisions')"
            ]
          },
          "metadata": {
            "tags": []
          },
          "execution_count": 21
        },
        {
          "output_type": "display_data",
          "data": {
            "image/png": "[encoded data removed]",
            "text/plain": [
              "<Figure size 1080x648 with 1 Axes>"
            ]
          },
          "metadata": {
            "tags": [],
            "needs_background": "light"
          }
        }
      ]
    },
    {
      "cell_type": "markdown",
      "metadata": {
        "id": "sjvrpxwqswaK"
      },
      "source": [
        "We found out earlier that Brooklyn was the leader amongst the 5 boroughs for the most collisions, let's take a look into that. In the following figure, we can see the top ten streets in Brooklyn with collisions. According to that plot, it seems Atlantic Ave, Flatbush Ave and Linden Boulevard are the most accident-prone areas of Brooklyn, with about 21,000 collisions since 2012 - that's roughly 2,600 collisions per year. Maybe it's a good idea to travel with caution the next time you enter these areas."
      ]
    },
    {
      "cell_type": "code",
      "metadata": {
        "colab": {
          "base_uri": "https://localhost:8080/",
          "height": 0
        },
        "id": "tMVtJJYvsuyU",
        "outputId": "aaddcde7-fc8e-422d-99ec-034f33a29599"
      },
      "source": [
        "brooklyndf = df[df['BOROUGH'] == 'BROOKLYN']\n",
        "\n",
        "brooklyndf = brooklyndf['ON STREET NAME'].value_counts()[:10].to_frame('total').reset_index()\n",
        "brooklyndf.rename(columns={'index': 'street'}, inplace=True)\n",
        "\n",
        "print(f\"Sum of Top 3 Streets: {brooklyndf['total'].loc[:2].sum()}\")\n",
        "\n",
        "sns.barplot(x='total', y='street', data=brooklyndf, palette='colorblind')\n",
        "plt.title('Brooklyn\\'s 10 Most Collision-Prone Streets')\n",
        "plt.xlabel('Total')\n",
        "plt.ylabel('Street Name')"
      ],
      "execution_count": 22,
      "outputs": [
        {
          "output_type": "stream",
          "text": [
            "Sum of Top 3 Streets: 21061\n"
          ],
          "name": "stdout"
        },
        {
          "output_type": "execute_result",
          "data": {
            "text/plain": [
              "Text(0, 0.5, 'Street Name')"
            ]
          },
          "metadata": {
            "tags": []
          },
          "execution_count": 22
        },
        {
          "output_type": "display_data",
          "data": {
            "image/png": "[encoded data removed]",
            "text/plain": [
              "<Figure size 432x288 with 1 Axes>"
            ]
          },
          "metadata": {
            "tags": [],
            "needs_background": "light"
          }
        }
      ]
    },
    {
      "cell_type": "markdown",
      "metadata": {
        "id": "MQ5ujOtTHIUF"
      },
      "source": [
        "If we look at the yearly collisions and how people are affected, the dataset shows injuries due to collisions have luckily decreased overall."
      ]
    },
    {
      "cell_type": "code",
      "metadata": {
        "colab": {
          "base_uri": "https://localhost:8080/",
          "height": 0
        },
        "id": "yUFE52iq2XbI",
        "outputId": "8b4519a9-8b69-46dc-dc98-881cbf90cc33"
      },
      "source": [
        "injured_cols = ['CRASH DATE', 'NUMBER OF PERSONS INJURED', 'NUMBER OF PEDESTRIANS INJURED', 'NUMBER OF CYCLIST INJURED', 'NUMBER OF MOTORIST INJURED']\n",
        "yearly_injured_df = df[injured_cols]\n",
        "yearly_injured_df = yearly_injured_df.groupby(yearly_injured_df['CRASH DATE'].dt.year).sum()\n",
        "\n",
        "fig, ax = plt.subplots(figsize=(10, 5))\n",
        "sns.lineplot(data=yearly_injured_df)\n",
        "plt.legend(['Total', 'Pedestrians', 'Cyclists', 'Motorist'])\n",
        "plt.title('Yearly Number of Injured')\n",
        "plt.xlabel('Year')\n",
        "plt.ylabel('Number of Injured')"
      ],
      "execution_count": 23,
      "outputs": [
        {
          "output_type": "execute_result",
          "data": {
            "text/plain": [
              "Text(0, 0.5, 'Number of Injured')"
            ]
          },
          "metadata": {
            "tags": []
          },
          "execution_count": 23
        },
        {
          "output_type": "display_data",
          "data": {
            "image/png": "[encoded data removed]",
            "text/plain": [
              "<Figure size 720x360 with 1 Axes>"
            ]
          },
          "metadata": {
            "tags": [],
            "needs_background": "light"
          }
        }
      ]
    },
    {
      "cell_type": "markdown",
      "metadata": {
        "id": "zag-O0sWZowh"
      },
      "source": [
        "# Prediction Models"
      ]
    },
    {
      "cell_type": "markdown",
      "metadata": {
        "id": "tGf-i1DWZzTy"
      },
      "source": [
        "## Predicting the Number of Injured via K-Nearest Neighbor"
      ]
    },
    {
      "cell_type": "markdown",
      "metadata": {
        "id": "TVKETBTJeyPu"
      },
      "source": [
        "Given our previous graphs, charts and values, we can see that there are many collisions throughout a year. It's hard to prevent these sorts of accidents as we don't control the lives of these people. The best we can do is initiate awareness programs and advertise around the city to remind drivers, cyclists, or whoever, to stay safe - like the Vision Zero Campaign mentioned earlier.\n",
        "\n",
        "However, with the help of data science models such as linear regression, polynomial regression, and other classifications, we can use the data we have to predict future accidents - or least in this case, predict what we can expect from future accidents.\n",
        "\n",
        "Unfortunately, emergency services are limited. Therefore the distribution of aid must be overseen and managed efficiently. Managing these services can become easier if we know what to expect from an incident. In this example, we will be using the K-Nearest Neighbor model to predict the number of injured individuals in any given collision report. That way, when responding to an emergency, we aren't sending ten ambulances for a small collision involving two cyclists. "
      ]
    },
    {
      "cell_type": "code",
      "metadata": {
        "colab": {
          "base_uri": "https://localhost:8080/",
          "height": 289
        },
        "id": "BIe2LGF_Z5Ir",
        "outputId": "a9b6a341-625d-4f08-9196-a3fa78a4f1e7"
      },
      "source": [
        "# Remove all the columns we don't need\n",
        "prediction_df = df.drop(columns=['CRASH DATE', 'CRASH TIME', 'ZIP CODE', 'LATITUDE', 'LONGITUDE', 'CROSS STREET NAME', 'ON STREET NAME', 'NUMBER OF PERSONS KILLED', 'NUMBER OF PEDESTRIANS INJURED', 'NUMBER OF PEDESTRIANS KILLED',\t'NUMBER OF CYCLIST INJURED', 'NUMBER OF CYCLIST KILLED',\t'NUMBER OF MOTORIST INJURED', 'NUMBER OF MOTORIST KILLED'])\n",
        "prediction_df.head()"
      ],
      "execution_count": 24,
      "outputs": [
        {
          "output_type": "execute_result",
          "data": {
            "text/html": [
              "<div>\n",
              "<style scoped>\n",
              "    .dataframe tbody tr th:only-of-type {\n",
              "        vertical-align: middle;\n",
              "    }\n",
              "\n",
              "    .dataframe tbody tr th {\n",
              "        vertical-align: top;\n",
              "    }\n",
              "\n",
              "    .dataframe thead th {\n",
              "        text-align: right;\n",
              "    }\n",
              "</style>\n",
              "<table border=\"1\" class=\"dataframe\">\n",
              "  <thead>\n",
              "    <tr style=\"text-align: right;\">\n",
              "      <th></th>\n",
              "      <th>BOROUGH</th>\n",
              "      <th>NUMBER OF PERSONS INJURED</th>\n",
              "      <th>CONTRIBUTING FACTOR VEHICLE 1</th>\n",
              "      <th>CONTRIBUTING FACTOR VEHICLE 2</th>\n",
              "      <th>CONTRIBUTING FACTOR VEHICLE 3</th>\n",
              "      <th>CONTRIBUTING FACTOR VEHICLE 4</th>\n",
              "      <th>CONTRIBUTING FACTOR VEHICLE 5</th>\n",
              "      <th>VEHICLE TYPE CODE 1</th>\n",
              "      <th>VEHICLE TYPE CODE 2</th>\n",
              "      <th>VEHICLE TYPE CODE 3</th>\n",
              "      <th>VEHICLE TYPE CODE 4</th>\n",
              "      <th>VEHICLE TYPE CODE 5</th>\n",
              "    </tr>\n",
              "  </thead>\n",
              "  <tbody>\n",
              "    <tr>\n",
              "      <th>0</th>\n",
              "      <td>QUEENS</td>\n",
              "      <td>1</td>\n",
              "      <td>DRIVER INATTENTION/DISTRACTION</td>\n",
              "      <td>UNSPECIFIED</td>\n",
              "      <td>NaN</td>\n",
              "      <td>NaN</td>\n",
              "      <td>NaN</td>\n",
              "      <td>SEDAN</td>\n",
              "      <td>SEDAN</td>\n",
              "      <td>NaN</td>\n",
              "      <td>NaN</td>\n",
              "      <td>NaN</td>\n",
              "    </tr>\n",
              "    <tr>\n",
              "      <th>3</th>\n",
              "      <td>BRONX</td>\n",
              "      <td>0</td>\n",
              "      <td>DRIVER INATTENTION/DISTRACTION</td>\n",
              "      <td>DRIVER INATTENTION/DISTRACTION</td>\n",
              "      <td>NaN</td>\n",
              "      <td>NaN</td>\n",
              "      <td>NaN</td>\n",
              "      <td>SEDAN</td>\n",
              "      <td>STATION WAGON/SPORT UTILITY VEHICLE</td>\n",
              "      <td>NaN</td>\n",
              "      <td>NaN</td>\n",
              "      <td>NaN</td>\n",
              "    </tr>\n",
              "    <tr>\n",
              "      <th>7</th>\n",
              "      <td>QUEENS</td>\n",
              "      <td>1</td>\n",
              "      <td>FOLLOWING TOO CLOSELY</td>\n",
              "      <td>UNSPECIFIED</td>\n",
              "      <td>NaN</td>\n",
              "      <td>NaN</td>\n",
              "      <td>NaN</td>\n",
              "      <td>STATION WAGON/SPORT UTILITY VEHICLE</td>\n",
              "      <td>SEDAN</td>\n",
              "      <td>NaN</td>\n",
              "      <td>NaN</td>\n",
              "      <td>NaN</td>\n",
              "    </tr>\n",
              "    <tr>\n",
              "      <th>10</th>\n",
              "      <td>QUEENS</td>\n",
              "      <td>0</td>\n",
              "      <td>PASSING OR LANE USAGE IMPROPER</td>\n",
              "      <td>UNSPECIFIED</td>\n",
              "      <td>NaN</td>\n",
              "      <td>NaN</td>\n",
              "      <td>NaN</td>\n",
              "      <td>STATION WAGON/SPORT UTILITY VEHICLE</td>\n",
              "      <td>SEDAN</td>\n",
              "      <td>NaN</td>\n",
              "      <td>NaN</td>\n",
              "      <td>NaN</td>\n",
              "    </tr>\n",
              "    <tr>\n",
              "      <th>12</th>\n",
              "      <td>BRONX</td>\n",
              "      <td>1</td>\n",
              "      <td>UNSPECIFIED</td>\n",
              "      <td>NaN</td>\n",
              "      <td>NaN</td>\n",
              "      <td>NaN</td>\n",
              "      <td>NaN</td>\n",
              "      <td>NaN</td>\n",
              "      <td>NaN</td>\n",
              "      <td>NaN</td>\n",
              "      <td>NaN</td>\n",
              "      <td>NaN</td>\n",
              "    </tr>\n",
              "  </tbody>\n",
              "</table>\n",
              "</div>"
            ],
            "text/plain": [
              "   BOROUGH  NUMBER OF PERSONS INJURED  ... VEHICLE TYPE CODE 4 VEHICLE TYPE CODE 5\n",
              "0   QUEENS                          1  ...                 NaN                 NaN\n",
              "3    BRONX                          0  ...                 NaN                 NaN\n",
              "7   QUEENS                          1  ...                 NaN                 NaN\n",
              "10  QUEENS                          0  ...                 NaN                 NaN\n",
              "12   BRONX                          1  ...                 NaN                 NaN\n",
              "\n",
              "[5 rows x 12 columns]"
            ]
          },
          "metadata": {
            "tags": []
          },
          "execution_count": 24
        }
      ]
    },
    {
      "cell_type": "code",
      "metadata": {
        "colab": {
          "base_uri": "https://localhost:8080/",
          "height": 372
        },
        "id": "6UAyUx2edJLm",
        "outputId": "a71dfa6a-6b24-4116-b3d0-cdbece22a8e6"
      },
      "source": [
        "# Create dummy variables from our categorical columns\n",
        "prediction2 = pd.get_dummies(prediction_df, columns=['BOROUGH', 'CONTRIBUTING FACTOR VEHICLE 1', 'CONTRIBUTING FACTOR VEHICLE 2', 'CONTRIBUTING FACTOR VEHICLE 3', 'CONTRIBUTING FACTOR VEHICLE 4', 'CONTRIBUTING FACTOR VEHICLE 5', 'VEHICLE TYPE CODE 1', 'VEHICLE TYPE CODE 2', 'VEHICLE TYPE CODE 3', 'VEHICLE TYPE CODE 4', 'VEHICLE TYPE CODE 5'], drop_first=True)\n",
        "prediction2.head()"
      ],
      "execution_count": 25,
      "outputs": [
        {
          "output_type": "execute_result",
          "data": {
            "text/html": [
              "<div>\n",
              "<style scoped>\n",
              "    .dataframe tbody tr th:only-of-type {\n",
              "        vertical-align: middle;\n",
              "    }\n",
              "\n",
              "    .dataframe tbody tr th {\n",
              "        vertical-align: top;\n",
              "    }\n",
              "\n",
              "    .dataframe thead th {\n",
              "        text-align: right;\n",
              "    }\n",
              "</style>\n",
              "<table border=\"1\" class=\"dataframe\">\n",
              "  <thead>\n",
              "    <tr style=\"text-align: right;\">\n",
              "      <th></th>\n",
              "      <th>NUMBER OF PERSONS INJURED</th>\n",
              "      <th>BOROUGH_BROOKLYN</th>\n",
              "      <th>BOROUGH_MANHATTAN</th>\n",
              "      <th>BOROUGH_QUEENS</th>\n",
              "      <th>BOROUGH_STATEN ISLAND</th>\n",
              "      <th>CONTRIBUTING FACTOR VEHICLE 1_ACCELERATOR DEFECTIVE</th>\n",
              "      <th>CONTRIBUTING FACTOR VEHICLE 1_AGGRESSIVE DRIVING/ROAD RAGE</th>\n",
              "      <th>CONTRIBUTING FACTOR VEHICLE 1_ALCOHOL INVOLVEMENT</th>\n",
              "      <th>CONTRIBUTING FACTOR VEHICLE 1_ANIMALS ACTION</th>\n",
              "      <th>CONTRIBUTING FACTOR VEHICLE 1_BACKING UNSAFELY</th>\n",
              "      <th>CONTRIBUTING FACTOR VEHICLE 1_BRAKES DEFECTIVE</th>\n",
              "      <th>CONTRIBUTING FACTOR VEHICLE 1_CELL PHONE (HAND-HELD)</th>\n",
              "      <th>CONTRIBUTING FACTOR VEHICLE 1_CELL PHONE (HANDS-FREE)</th>\n",
              "      <th>CONTRIBUTING FACTOR VEHICLE 1_DRIVER INATTENTION/DISTRACTION</th>\n",
              "      <th>CONTRIBUTING FACTOR VEHICLE 1_DRIVER INEXPERIENCE</th>\n",
              "      <th>CONTRIBUTING FACTOR VEHICLE 1_DRIVERLESS/RUNAWAY VEHICLE</th>\n",
              "      <th>CONTRIBUTING FACTOR VEHICLE 1_DRUGS (ILLEGAL)</th>\n",
              "      <th>CONTRIBUTING FACTOR VEHICLE 1_EATING OR DRINKING</th>\n",
              "      <th>CONTRIBUTING FACTOR VEHICLE 1_FAILURE TO KEEP RIGHT</th>\n",
              "      <th>CONTRIBUTING FACTOR VEHICLE 1_FAILURE TO YIELD RIGHT-OF-WAY</th>\n",
              "      <th>CONTRIBUTING FACTOR VEHICLE 1_FATIGUED/DROWSY</th>\n",
              "      <th>CONTRIBUTING FACTOR VEHICLE 1_FELL ASLEEP</th>\n",
              "      <th>CONTRIBUTING FACTOR VEHICLE 1_FOLLOWING TOO CLOSELY</th>\n",
              "      <th>CONTRIBUTING FACTOR VEHICLE 1_GLARE</th>\n",
              "      <th>CONTRIBUTING FACTOR VEHICLE 1_HEADLIGHTS DEFECTIVE</th>\n",
              "      <th>CONTRIBUTING FACTOR VEHICLE 1_ILLNES</th>\n",
              "      <th>CONTRIBUTING FACTOR VEHICLE 1_ILLNESS</th>\n",
              "      <th>CONTRIBUTING FACTOR VEHICLE 1_LANE MARKING IMPROPER/INADEQUATE</th>\n",
              "      <th>CONTRIBUTING FACTOR VEHICLE 1_LISTENING/USING HEADPHONES</th>\n",
              "      <th>CONTRIBUTING FACTOR VEHICLE 1_LOST CONSCIOUSNESS</th>\n",
              "      <th>CONTRIBUTING FACTOR VEHICLE 1_OBSTRUCTION/DEBRIS</th>\n",
              "      <th>CONTRIBUTING FACTOR VEHICLE 1_OTHER ELECTRONIC DEVICE</th>\n",
              "      <th>CONTRIBUTING FACTOR VEHICLE 1_OTHER LIGHTING DEFECTS</th>\n",
              "      <th>CONTRIBUTING FACTOR VEHICLE 1_OTHER VEHICULAR</th>\n",
              "      <th>CONTRIBUTING FACTOR VEHICLE 1_OUTSIDE CAR DISTRACTION</th>\n",
              "      <th>CONTRIBUTING FACTOR VEHICLE 1_OVERSIZED VEHICLE</th>\n",
              "      <th>CONTRIBUTING FACTOR VEHICLE 1_PASSENGER DISTRACTION</th>\n",
              "      <th>CONTRIBUTING FACTOR VEHICLE 1_PASSING OR LANE USAGE IMPROPER</th>\n",
              "      <th>CONTRIBUTING FACTOR VEHICLE 1_PASSING TOO CLOSELY</th>\n",
              "      <th>CONTRIBUTING FACTOR VEHICLE 1_PAVEMENT DEFECTIVE</th>\n",
              "      <th>...</th>\n",
              "      <th>VEHICLE TYPE CODE 4_TOYOT</th>\n",
              "      <th>VEHICLE TYPE CODE 4_TRACTOR TRUCK DIESEL</th>\n",
              "      <th>VEHICLE TYPE CODE 4_TRACTOR TRUCK GASOLINE</th>\n",
              "      <th>VEHICLE TYPE CODE 4_TRAILOR</th>\n",
              "      <th>VEHICLE TYPE CODE 4_UNKNOWN</th>\n",
              "      <th>VEHICLE TYPE CODE 4_VAN</th>\n",
              "      <th>VEHICLE TYPE CODE 5_4 DR SEDAN</th>\n",
              "      <th>VEHICLE TYPE CODE 5_AMBULANCE</th>\n",
              "      <th>VEHICLE TYPE CODE 5_BACK</th>\n",
              "      <th>VEHICLE TYPE CODE 5_BICYCLE</th>\n",
              "      <th>VEHICLE TYPE CODE 5_BIKE</th>\n",
              "      <th>VEHICLE TYPE CODE 5_BOX TRUCK</th>\n",
              "      <th>VEHICLE TYPE CODE 5_BUS</th>\n",
              "      <th>VEHICLE TYPE CODE 5_CARRY ALL</th>\n",
              "      <th>VEHICLE TYPE CODE 5_CHASSIS CAB</th>\n",
              "      <th>VEHICLE TYPE CODE 5_CONVERTIBLE</th>\n",
              "      <th>VEHICLE TYPE CODE 5_DUMP</th>\n",
              "      <th>VEHICLE TYPE CODE 5_E-SCOOTER</th>\n",
              "      <th>VEHICLE TYPE CODE 5_FRONT</th>\n",
              "      <th>VEHICLE TYPE CODE 5_LARGE COM VEH(6 OR MORE TIRES)</th>\n",
              "      <th>VEHICLE TYPE CODE 5_LIVERY VEHICLE</th>\n",
              "      <th>VEHICLE TYPE CODE 5_MOTORCYCLE</th>\n",
              "      <th>VEHICLE TYPE CODE 5_MOTORSCOOTER</th>\n",
              "      <th>VEHICLE TYPE CODE 5_OTHER</th>\n",
              "      <th>VEHICLE TYPE CODE 5_PASSENGER VEHICLE</th>\n",
              "      <th>VEHICLE TYPE CODE 5_PICK-UP TRUCK</th>\n",
              "      <th>VEHICLE TYPE CODE 5_PK</th>\n",
              "      <th>VEHICLE TYPE CODE 5_SCOOTER</th>\n",
              "      <th>VEHICLE TYPE CODE 5_SEDAN</th>\n",
              "      <th>VEHICLE TYPE CODE 5_SMALL COM VEH(4 TIRES)</th>\n",
              "      <th>VEHICLE TYPE CODE 5_SPORT UTILITY / STATION WAGON</th>\n",
              "      <th>VEHICLE TYPE CODE 5_STATION WAGON/SPORT UTILITY VEHICLE</th>\n",
              "      <th>VEHICLE TYPE CODE 5_TAXI</th>\n",
              "      <th>VEHICLE TYPE CODE 5_TRACTOR TRUCK DIESEL</th>\n",
              "      <th>VEHICLE TYPE CODE 5_TRACTOR TRUCK GASOLINE</th>\n",
              "      <th>VEHICLE TYPE CODE 5_TRAILER</th>\n",
              "      <th>VEHICLE TYPE CODE 5_TRK</th>\n",
              "      <th>VEHICLE TYPE CODE 5_UNKNOWN</th>\n",
              "      <th>VEHICLE TYPE CODE 5_VAN</th>\n",
              "      <th>VEHICLE TYPE CODE 5_VAN FORD</th>\n",
              "    </tr>\n",
              "  </thead>\n",
              "  <tbody>\n",
              "    <tr>\n",
              "      <th>0</th>\n",
              "      <td>1</td>\n",
              "      <td>0</td>\n",
              "      <td>0</td>\n",
              "      <td>1</td>\n",
              "      <td>0</td>\n",
              "      <td>0</td>\n",
              "      <td>0</td>\n",
              "      <td>0</td>\n",
              "      <td>0</td>\n",
              "      <td>0</td>\n",
              "      <td>0</td>\n",
              "      <td>0</td>\n",
              "      <td>0</td>\n",
              "      <td>1</td>\n",
              "      <td>0</td>\n",
              "      <td>0</td>\n",
              "      <td>0</td>\n",
              "      <td>0</td>\n",
              "      <td>0</td>\n",
              "      <td>0</td>\n",
              "      <td>0</td>\n",
              "      <td>0</td>\n",
              "      <td>0</td>\n",
              "      <td>0</td>\n",
              "      <td>0</td>\n",
              "      <td>0</td>\n",
              "      <td>0</td>\n",
              "      <td>0</td>\n",
              "      <td>0</td>\n",
              "      <td>0</td>\n",
              "      <td>0</td>\n",
              "      <td>0</td>\n",
              "      <td>0</td>\n",
              "      <td>0</td>\n",
              "      <td>0</td>\n",
              "      <td>0</td>\n",
              "      <td>0</td>\n",
              "      <td>0</td>\n",
              "      <td>0</td>\n",
              "      <td>0</td>\n",
              "      <td>...</td>\n",
              "      <td>0</td>\n",
              "      <td>0</td>\n",
              "      <td>0</td>\n",
              "      <td>0</td>\n",
              "      <td>0</td>\n",
              "      <td>0</td>\n",
              "      <td>0</td>\n",
              "      <td>0</td>\n",
              "      <td>0</td>\n",
              "      <td>0</td>\n",
              "      <td>0</td>\n",
              "      <td>0</td>\n",
              "      <td>0</td>\n",
              "      <td>0</td>\n",
              "      <td>0</td>\n",
              "      <td>0</td>\n",
              "      <td>0</td>\n",
              "      <td>0</td>\n",
              "      <td>0</td>\n",
              "      <td>0</td>\n",
              "      <td>0</td>\n",
              "      <td>0</td>\n",
              "      <td>0</td>\n",
              "      <td>0</td>\n",
              "      <td>0</td>\n",
              "      <td>0</td>\n",
              "      <td>0</td>\n",
              "      <td>0</td>\n",
              "      <td>0</td>\n",
              "      <td>0</td>\n",
              "      <td>0</td>\n",
              "      <td>0</td>\n",
              "      <td>0</td>\n",
              "      <td>0</td>\n",
              "      <td>0</td>\n",
              "      <td>0</td>\n",
              "      <td>0</td>\n",
              "      <td>0</td>\n",
              "      <td>0</td>\n",
              "      <td>0</td>\n",
              "    </tr>\n",
              "    <tr>\n",
              "      <th>3</th>\n",
              "      <td>0</td>\n",
              "      <td>0</td>\n",
              "      <td>0</td>\n",
              "      <td>0</td>\n",
              "      <td>0</td>\n",
              "      <td>0</td>\n",
              "      <td>0</td>\n",
              "      <td>0</td>\n",
              "      <td>0</td>\n",
              "      <td>0</td>\n",
              "      <td>0</td>\n",
              "      <td>0</td>\n",
              "      <td>0</td>\n",
              "      <td>1</td>\n",
              "      <td>0</td>\n",
              "      <td>0</td>\n",
              "      <td>0</td>\n",
              "      <td>0</td>\n",
              "      <td>0</td>\n",
              "      <td>0</td>\n",
              "      <td>0</td>\n",
              "      <td>0</td>\n",
              "      <td>0</td>\n",
              "      <td>0</td>\n",
              "      <td>0</td>\n",
              "      <td>0</td>\n",
              "      <td>0</td>\n",
              "      <td>0</td>\n",
              "      <td>0</td>\n",
              "      <td>0</td>\n",
              "      <td>0</td>\n",
              "      <td>0</td>\n",
              "      <td>0</td>\n",
              "      <td>0</td>\n",
              "      <td>0</td>\n",
              "      <td>0</td>\n",
              "      <td>0</td>\n",
              "      <td>0</td>\n",
              "      <td>0</td>\n",
              "      <td>0</td>\n",
              "      <td>...</td>\n",
              "      <td>0</td>\n",
              "      <td>0</td>\n",
              "      <td>0</td>\n",
              "      <td>0</td>\n",
              "      <td>0</td>\n",
              "      <td>0</td>\n",
              "      <td>0</td>\n",
              "      <td>0</td>\n",
              "      <td>0</td>\n",
              "      <td>0</td>\n",
              "      <td>0</td>\n",
              "      <td>0</td>\n",
              "      <td>0</td>\n",
              "      <td>0</td>\n",
              "      <td>0</td>\n",
              "      <td>0</td>\n",
              "      <td>0</td>\n",
              "      <td>0</td>\n",
              "      <td>0</td>\n",
              "      <td>0</td>\n",
              "      <td>0</td>\n",
              "      <td>0</td>\n",
              "      <td>0</td>\n",
              "      <td>0</td>\n",
              "      <td>0</td>\n",
              "      <td>0</td>\n",
              "      <td>0</td>\n",
              "      <td>0</td>\n",
              "      <td>0</td>\n",
              "      <td>0</td>\n",
              "      <td>0</td>\n",
              "      <td>0</td>\n",
              "      <td>0</td>\n",
              "      <td>0</td>\n",
              "      <td>0</td>\n",
              "      <td>0</td>\n",
              "      <td>0</td>\n",
              "      <td>0</td>\n",
              "      <td>0</td>\n",
              "      <td>0</td>\n",
              "    </tr>\n",
              "    <tr>\n",
              "      <th>7</th>\n",
              "      <td>1</td>\n",
              "      <td>0</td>\n",
              "      <td>0</td>\n",
              "      <td>1</td>\n",
              "      <td>0</td>\n",
              "      <td>0</td>\n",
              "      <td>0</td>\n",
              "      <td>0</td>\n",
              "      <td>0</td>\n",
              "      <td>0</td>\n",
              "      <td>0</td>\n",
              "      <td>0</td>\n",
              "      <td>0</td>\n",
              "      <td>0</td>\n",
              "      <td>0</td>\n",
              "      <td>0</td>\n",
              "      <td>0</td>\n",
              "      <td>0</td>\n",
              "      <td>0</td>\n",
              "      <td>0</td>\n",
              "      <td>0</td>\n",
              "      <td>0</td>\n",
              "      <td>1</td>\n",
              "      <td>0</td>\n",
              "      <td>0</td>\n",
              "      <td>0</td>\n",
              "      <td>0</td>\n",
              "      <td>0</td>\n",
              "      <td>0</td>\n",
              "      <td>0</td>\n",
              "      <td>0</td>\n",
              "      <td>0</td>\n",
              "      <td>0</td>\n",
              "      <td>0</td>\n",
              "      <td>0</td>\n",
              "      <td>0</td>\n",
              "      <td>0</td>\n",
              "      <td>0</td>\n",
              "      <td>0</td>\n",
              "      <td>0</td>\n",
              "      <td>...</td>\n",
              "      <td>0</td>\n",
              "      <td>0</td>\n",
              "      <td>0</td>\n",
              "      <td>0</td>\n",
              "      <td>0</td>\n",
              "      <td>0</td>\n",
              "      <td>0</td>\n",
              "      <td>0</td>\n",
              "      <td>0</td>\n",
              "      <td>0</td>\n",
              "      <td>0</td>\n",
              "      <td>0</td>\n",
              "      <td>0</td>\n",
              "      <td>0</td>\n",
              "      <td>0</td>\n",
              "      <td>0</td>\n",
              "      <td>0</td>\n",
              "      <td>0</td>\n",
              "      <td>0</td>\n",
              "      <td>0</td>\n",
              "      <td>0</td>\n",
              "      <td>0</td>\n",
              "      <td>0</td>\n",
              "      <td>0</td>\n",
              "      <td>0</td>\n",
              "      <td>0</td>\n",
              "      <td>0</td>\n",
              "      <td>0</td>\n",
              "      <td>0</td>\n",
              "      <td>0</td>\n",
              "      <td>0</td>\n",
              "      <td>0</td>\n",
              "      <td>0</td>\n",
              "      <td>0</td>\n",
              "      <td>0</td>\n",
              "      <td>0</td>\n",
              "      <td>0</td>\n",
              "      <td>0</td>\n",
              "      <td>0</td>\n",
              "      <td>0</td>\n",
              "    </tr>\n",
              "    <tr>\n",
              "      <th>10</th>\n",
              "      <td>0</td>\n",
              "      <td>0</td>\n",
              "      <td>0</td>\n",
              "      <td>1</td>\n",
              "      <td>0</td>\n",
              "      <td>0</td>\n",
              "      <td>0</td>\n",
              "      <td>0</td>\n",
              "      <td>0</td>\n",
              "      <td>0</td>\n",
              "      <td>0</td>\n",
              "      <td>0</td>\n",
              "      <td>0</td>\n",
              "      <td>0</td>\n",
              "      <td>0</td>\n",
              "      <td>0</td>\n",
              "      <td>0</td>\n",
              "      <td>0</td>\n",
              "      <td>0</td>\n",
              "      <td>0</td>\n",
              "      <td>0</td>\n",
              "      <td>0</td>\n",
              "      <td>0</td>\n",
              "      <td>0</td>\n",
              "      <td>0</td>\n",
              "      <td>0</td>\n",
              "      <td>0</td>\n",
              "      <td>0</td>\n",
              "      <td>0</td>\n",
              "      <td>0</td>\n",
              "      <td>0</td>\n",
              "      <td>0</td>\n",
              "      <td>0</td>\n",
              "      <td>0</td>\n",
              "      <td>0</td>\n",
              "      <td>0</td>\n",
              "      <td>0</td>\n",
              "      <td>1</td>\n",
              "      <td>0</td>\n",
              "      <td>0</td>\n",
              "      <td>...</td>\n",
              "      <td>0</td>\n",
              "      <td>0</td>\n",
              "      <td>0</td>\n",
              "      <td>0</td>\n",
              "      <td>0</td>\n",
              "      <td>0</td>\n",
              "      <td>0</td>\n",
              "      <td>0</td>\n",
              "      <td>0</td>\n",
              "      <td>0</td>\n",
              "      <td>0</td>\n",
              "      <td>0</td>\n",
              "      <td>0</td>\n",
              "      <td>0</td>\n",
              "      <td>0</td>\n",
              "      <td>0</td>\n",
              "      <td>0</td>\n",
              "      <td>0</td>\n",
              "      <td>0</td>\n",
              "      <td>0</td>\n",
              "      <td>0</td>\n",
              "      <td>0</td>\n",
              "      <td>0</td>\n",
              "      <td>0</td>\n",
              "      <td>0</td>\n",
              "      <td>0</td>\n",
              "      <td>0</td>\n",
              "      <td>0</td>\n",
              "      <td>0</td>\n",
              "      <td>0</td>\n",
              "      <td>0</td>\n",
              "      <td>0</td>\n",
              "      <td>0</td>\n",
              "      <td>0</td>\n",
              "      <td>0</td>\n",
              "      <td>0</td>\n",
              "      <td>0</td>\n",
              "      <td>0</td>\n",
              "      <td>0</td>\n",
              "      <td>0</td>\n",
              "    </tr>\n",
              "    <tr>\n",
              "      <th>12</th>\n",
              "      <td>1</td>\n",
              "      <td>0</td>\n",
              "      <td>0</td>\n",
              "      <td>0</td>\n",
              "      <td>0</td>\n",
              "      <td>0</td>\n",
              "      <td>0</td>\n",
              "      <td>0</td>\n",
              "      <td>0</td>\n",
              "      <td>0</td>\n",
              "      <td>0</td>\n",
              "      <td>0</td>\n",
              "      <td>0</td>\n",
              "      <td>0</td>\n",
              "      <td>0</td>\n",
              "      <td>0</td>\n",
              "      <td>0</td>\n",
              "      <td>0</td>\n",
              "      <td>0</td>\n",
              "      <td>0</td>\n",
              "      <td>0</td>\n",
              "      <td>0</td>\n",
              "      <td>0</td>\n",
              "      <td>0</td>\n",
              "      <td>0</td>\n",
              "      <td>0</td>\n",
              "      <td>0</td>\n",
              "      <td>0</td>\n",
              "      <td>0</td>\n",
              "      <td>0</td>\n",
              "      <td>0</td>\n",
              "      <td>0</td>\n",
              "      <td>0</td>\n",
              "      <td>0</td>\n",
              "      <td>0</td>\n",
              "      <td>0</td>\n",
              "      <td>0</td>\n",
              "      <td>0</td>\n",
              "      <td>0</td>\n",
              "      <td>0</td>\n",
              "      <td>...</td>\n",
              "      <td>0</td>\n",
              "      <td>0</td>\n",
              "      <td>0</td>\n",
              "      <td>0</td>\n",
              "      <td>0</td>\n",
              "      <td>0</td>\n",
              "      <td>0</td>\n",
              "      <td>0</td>\n",
              "      <td>0</td>\n",
              "      <td>0</td>\n",
              "      <td>0</td>\n",
              "      <td>0</td>\n",
              "      <td>0</td>\n",
              "      <td>0</td>\n",
              "      <td>0</td>\n",
              "      <td>0</td>\n",
              "      <td>0</td>\n",
              "      <td>0</td>\n",
              "      <td>0</td>\n",
              "      <td>0</td>\n",
              "      <td>0</td>\n",
              "      <td>0</td>\n",
              "      <td>0</td>\n",
              "      <td>0</td>\n",
              "      <td>0</td>\n",
              "      <td>0</td>\n",
              "      <td>0</td>\n",
              "      <td>0</td>\n",
              "      <td>0</td>\n",
              "      <td>0</td>\n",
              "      <td>0</td>\n",
              "      <td>0</td>\n",
              "      <td>0</td>\n",
              "      <td>0</td>\n",
              "      <td>0</td>\n",
              "      <td>0</td>\n",
              "      <td>0</td>\n",
              "      <td>0</td>\n",
              "      <td>0</td>\n",
              "      <td>0</td>\n",
              "    </tr>\n",
              "  </tbody>\n",
              "</table>\n",
              "<p>5 rows × 1349 columns</p>\n",
              "</div>"
            ],
            "text/plain": [
              "    NUMBER OF PERSONS INJURED  ...  VEHICLE TYPE CODE 5_VAN FORD\n",
              "0                           1  ...                             0\n",
              "3                           0  ...                             0\n",
              "7                           1  ...                             0\n",
              "10                          0  ...                             0\n",
              "12                          1  ...                             0\n",
              "\n",
              "[5 rows x 1349 columns]"
            ]
          },
          "metadata": {
            "tags": []
          },
          "execution_count": 25
        }
      ]
    },
    {
      "cell_type": "code",
      "metadata": {
        "colab": {
          "base_uri": "https://localhost:8080/"
        },
        "id": "CNuf8X7u3Ekn",
        "outputId": "d767f860-07bb-498f-e4d7-76d0c1deb0e3"
      },
      "source": [
        "prediction2.shape"
      ],
      "execution_count": 26,
      "outputs": [
        {
          "output_type": "execute_result",
          "data": {
            "text/plain": [
              "(965276, 1349)"
            ]
          },
          "metadata": {
            "tags": []
          },
          "execution_count": 26
        }
      ]
    },
    {
      "cell_type": "code",
      "metadata": {
        "id": "fVHxKXTA3PBC"
      },
      "source": [
        "# With so many rows and columns, it will take forever or near impossible to compute all of this data\n",
        "# So, we'll predict with a small fraction of the data instead.\n",
        "# But still large enough in the grand scheme of things\n",
        "prediction2 = prediction2.sample(10000)"
      ],
      "execution_count": 27,
      "outputs": []
    },
    {
      "cell_type": "code",
      "metadata": {
        "id": "0qmvN3J1gHh9"
      },
      "source": [
        "# Separate our data into input and output datasets\n",
        "x = prediction2.drop(columns=['NUMBER OF PERSONS INJURED'])\n",
        "y = prediction2['NUMBER OF PERSONS INJURED']"
      ],
      "execution_count": 28,
      "outputs": []
    },
    {
      "cell_type": "code",
      "metadata": {
        "colab": {
          "base_uri": "https://localhost:8080/"
        },
        "id": "Vm787KM3gXeB",
        "outputId": "6ee44043-f2e5-4341-f760-1d5db80ba679"
      },
      "source": [
        "# Split our inputs and outputs into training and testing datasets\n",
        "x_train, x_test, y_train, y_test = train_test_split(x, y, test_size=0.25)\n",
        "\n",
        "# Create a KNN model with a base k-value and fit it to our training data\n",
        "knn = KNeighborsRegressor(n_neighbors=3)\n",
        "knn.fit(x_train, y_train)"
      ],
      "execution_count": 29,
      "outputs": [
        {
          "output_type": "execute_result",
          "data": {
            "text/plain": [
              "KNeighborsRegressor(algorithm='auto', leaf_size=30, metric='minkowski',\n",
              "                    metric_params=None, n_jobs=None, n_neighbors=3, p=2,\n",
              "                    weights='uniform')"
            ]
          },
          "metadata": {
            "tags": []
          },
          "execution_count": 29
        }
      ]
    },
    {
      "cell_type": "code",
      "metadata": {
        "colab": {
          "base_uri": "https://localhost:8080/"
        },
        "id": "w7twDrfUgn_Z",
        "outputId": "f8d3b3a3-d10d-4d76-9376-929a34f705f7"
      },
      "source": [
        "# Use the model to predict on training and testing data\n",
        "# This might take awhile to run\n",
        "y_train_pred = knn.predict(x_train)\n",
        "y_test_pred = knn.predict(x_test)\n",
        "\n",
        "# Calculate the MSE and its difference\n",
        "knn_mse_train = mean_squared_error(y_train_pred, y_train)\n",
        "knn_mse_test = mean_squared_error(y_test_pred, y_test)\n",
        "\n",
        "print(f\"MSE Results\\nTrain: {knn_mse_train}\\nTest: {knn_mse_test}\\nDifference: {abs(knn_mse_test - knn_mse_train)}\")"
      ],
      "execution_count": 30,
      "outputs": [
        {
          "output_type": "stream",
          "text": [
            "MSE Results\n",
            "Train: 0.37374814814814816\n",
            "Test: 0.5930222222222222\n",
            "Difference: 0.21927407407407407\n"
          ],
          "name": "stdout"
        }
      ]
    },
    {
      "cell_type": "markdown",
      "metadata": {
        "id": "xmrOzCK9mqpQ"
      },
      "source": [
        "As we see, our prediction model's MSE is at about 0.6. Comparing it to our training data, we notice that our model might be overfitting the data a little, or more specifically, by 21.9%."
      ]
    },
    {
      "cell_type": "code",
      "metadata": {
        "colab": {
          "base_uri": "https://localhost:8080/",
          "height": 326
        },
        "id": "Gh-WhKHZ8nY9",
        "outputId": "a8b2766f-6330-4ba9-c6db-efbf88b429a0"
      },
      "source": [
        "plt.scatter(y_test, y_test - y_test_pred, alpha=0.3)\n",
        "plt.title(\"Actual Number of Injured vs Residual\")\n",
        "plt.xlabel(\"Actual Number of Injured\")\n",
        "plt.ylabel(\"Error in prediction (residual) for testing data\")"
      ],
      "execution_count": 31,
      "outputs": [
        {
          "output_type": "execute_result",
          "data": {
            "text/plain": [
              "Text(0, 0.5, 'Error in prediction (residual) for testing data')"
            ]
          },
          "metadata": {
            "tags": []
          },
          "execution_count": 31
        },
        {
          "output_type": "display_data",
          "data": {
            "image/png": "[encoded data removed]",
            "text/plain": [
              "<Figure size 432x288 with 1 Axes>"
            ]
          },
          "metadata": {
            "tags": [],
            "needs_background": "light"
          }
        }
      ]
    },
    {
      "cell_type": "markdown",
      "metadata": {
        "id": "dtQa9lnoJOCD"
      },
      "source": [
        "To experiment with this overfitting, we can try our model against various k-values to see the resulting MSE values and their differences."
      ]
    },
    {
      "cell_type": "code",
      "metadata": {
        "colab": {
          "base_uri": "https://localhost:8080/"
        },
        "id": "m9K50LRcVM5-",
        "outputId": "ac00b0c6-d80d-40aa-e20f-dc0d5c7d2345"
      },
      "source": [
        "# Predicting via different values of k\n",
        "# This might take awhile (~25-30m via Google Colab)\n",
        "knn_train_mse_values = []\n",
        "knn_test_mse_values = []\n",
        "\n",
        "for k in [1, 2, 3, 5, 10, 15, 20, 25]:\n",
        "  # Fit data to KNN model and predict\n",
        "  print(f'Computing KNN MSE for k = {k}')\n",
        "  knn_model = KNeighborsRegressor(n_neighbors=k)\n",
        "  knn_model.fit(x_train, y_train)\n",
        "  y_train_pred = knn_model.predict(x_train)\n",
        "  y_test_pred = knn_model.predict(x_test)\n",
        "\n",
        "  # Calculate the MSEs\n",
        "  train_mse = mean_squared_error(y_train_pred, y_train)\n",
        "  test_mse = mean_squared_error(y_test_pred, y_test)\n",
        "  knn_train_mse_values.append(train_mse)\n",
        "  knn_test_mse_values.append(test_mse)"
      ],
      "execution_count": 32,
      "outputs": [
        {
          "output_type": "stream",
          "text": [
            "Computing KNN MSE for k = 1\n",
            "Computing KNN MSE for k = 2\n",
            "Computing KNN MSE for k = 3\n",
            "Computing KNN MSE for k = 5\n",
            "Computing KNN MSE for k = 10\n",
            "Computing KNN MSE for k = 15\n",
            "Computing KNN MSE for k = 20\n",
            "Computing KNN MSE for k = 25\n"
          ],
          "name": "stdout"
        }
      ]
    },
    {
      "cell_type": "markdown",
      "metadata": {
        "id": "_Gm7NR1OJebM"
      },
      "source": [
        "In the given k-values we gave to our model, we can see the MSE drops as the k-value increases. As the MSE drops, its value gets closer to our training data's MSE value. At some point, our testing MSE will meet up with the training MSE."
      ]
    },
    {
      "cell_type": "code",
      "metadata": {
        "colab": {
          "base_uri": "https://localhost:8080/",
          "height": 318
        },
        "id": "pVZVj78WWFxB",
        "outputId": "cdad2e5e-aa73-4ac6-f88e-9cbb37ca797f"
      },
      "source": [
        "plt.plot([1, 2, 3, 5, 10, 15, 20, 25], knn_train_mse_values)\n",
        "plt.plot([1, 2, 3, 5, 10, 15, 20, 25], knn_test_mse_values)\n",
        "plt.xlabel(\"k Value\")\n",
        "plt.ylabel(\"MSE Value\")\n",
        "plt.title(\"KNN MSE Values of Varying k-values\")\n",
        "plt.legend(['Training MSE', 'Testing MSE'])"
      ],
      "execution_count": 40,
      "outputs": [
        {
          "output_type": "execute_result",
          "data": {
            "text/plain": [
              "<matplotlib.legend.Legend at 0x7f364065d990>"
            ]
          },
          "metadata": {
            "tags": []
          },
          "execution_count": 40
        },
        {
          "output_type": "display_data",
          "data": {
            "image/png": "[encoded data removed]",
            "text/plain": [
              "<Figure size 432x288 with 1 Axes>"
            ]
          },
          "metadata": {
            "tags": [],
            "needs_background": "light"
          }
        }
      ]
    },
    {
      "cell_type": "markdown",
      "metadata": {
        "id": "1JsX-v4Ts6e0"
      },
      "source": [
        "## Predicting Number of Injured via Decision Trees"
      ]
    },
    {
      "cell_type": "markdown",
      "metadata": {
        "id": "ESpVGfmdKR1B"
      },
      "source": [
        "Alternatively, we can try predicting with a different model - decision trees."
      ]
    },
    {
      "cell_type": "code",
      "metadata": {
        "colab": {
          "base_uri": "https://localhost:8080/"
        },
        "id": "cNjUi05ltEG3",
        "outputId": "00e1b4f2-78d3-44b0-8b63-f356298a3c15"
      },
      "source": [
        "# We'll be using a default depth of 3 and simply passing the x and y data from earlier\n",
        "tree = DecisionTreeRegressor(max_depth=3)\n",
        "tree.fit(x_train, y_train)"
      ],
      "execution_count": 34,
      "outputs": [
        {
          "output_type": "execute_result",
          "data": {
            "text/plain": [
              "DecisionTreeRegressor(ccp_alpha=0.0, criterion='mse', max_depth=3,\n",
              "                      max_features=None, max_leaf_nodes=None,\n",
              "                      min_impurity_decrease=0.0, min_impurity_split=None,\n",
              "                      min_samples_leaf=1, min_samples_split=2,\n",
              "                      min_weight_fraction_leaf=0.0, presort='deprecated',\n",
              "                      random_state=None, splitter='best')"
            ]
          },
          "metadata": {
            "tags": []
          },
          "execution_count": 34
        }
      ]
    },
    {
      "cell_type": "code",
      "metadata": {
        "id": "D59tTUwBK4FH"
      },
      "source": [
        "# Now we use the model to predict on our training and testing data to get the MSE values\n",
        "train_pred = tree.predict(x_train)\n",
        "test_pred = tree.predict(x_test)"
      ],
      "execution_count": 35,
      "outputs": []
    },
    {
      "cell_type": "code",
      "metadata": {
        "colab": {
          "base_uri": "https://localhost:8080/"
        },
        "id": "tE0zehsuLC7v",
        "outputId": "e184f8a1-2ec2-4817-82f1-8d5039d7cc0e"
      },
      "source": [
        "mse_train = mean_squared_error(train_pred, y_train)\n",
        "mse_test = mean_squared_error(test_pred, y_test)\n",
        "\n",
        "print(f\"MSE Results\\nTrain: {mse_train}\\nTest: {mse_test}\\nDifference: {abs(mse_test - mse_train)}\")"
      ],
      "execution_count": 36,
      "outputs": [
        {
          "output_type": "stream",
          "text": [
            "MSE Results\n",
            "Train: 0.40863012925229475\n",
            "Test: 0.45946413075828313\n",
            "Difference: 0.05083400150598838\n"
          ],
          "name": "stdout"
        }
      ]
    },
    {
      "cell_type": "markdown",
      "metadata": {
        "id": "3nL_N6CSZaqX"
      },
      "source": [
        "Below, we can see our model's generated decision tree for our data."
      ]
    },
    {
      "cell_type": "code",
      "metadata": {
        "colab": {
          "base_uri": "https://localhost:8080/",
          "height": 603
        },
        "id": "0cjqQ0HNZZQ1",
        "outputId": "878e3799-7880-4103-b625-3bc5a2cb652a"
      },
      "source": [
        "# Show the decision tree\n",
        "# I'm honestly not sure why the tree isn't displaying the boxes and arrows\n",
        "# I spent a good amount of time trying to figure it out\n",
        "plt.figure(figsize=(25, 5), dpi=100)\n",
        "plot_tree(tree, feature_names=x.columns, fontsize=8)"
      ],
      "execution_count": 37,
      "outputs": [
        {
          "output_type": "execute_result",
          "data": {
            "text/plain": [
              "[Text(1117.7884615384617, 330.3125, 'CONTRIBUTING FACTOR VEHICLE 3_UNSPECIFIED <= 0.5\\nmse = 0.456\\nsamples = 7500\\nvalue = 0.283'),\n",
              " Text(596.1538461538462, 235.9375, 'CONTRIBUTING FACTOR VEHICLE 2_UNSPECIFIED <= 0.5\\nmse = 0.37\\nsamples = 7115\\nvalue = 0.26'),\n",
              " Text(298.0769230769231, 141.5625, 'BOROUGH_MANHATTAN <= 0.5\\nmse = 0.385\\nsamples = 1940\\nvalue = 0.4'),\n",
              " Text(149.03846153846155, 47.1875, 'mse = 0.438\\nsamples = 1316\\nvalue = 0.47'),\n",
              " Text(447.11538461538464, 47.1875, 'mse = 0.243\\nsamples = 624\\nvalue = 0.252'),\n",
              " Text(894.2307692307693, 141.5625, 'VEHICLE TYPE CODE 2_BICYCLE <= 0.5\\nmse = 0.355\\nsamples = 5175\\nvalue = 0.208'),\n",
              " Text(745.1923076923077, 47.1875, 'mse = 0.351\\nsamples = 5068\\nvalue = 0.195'),\n",
              " Text(1043.269230769231, 47.1875, 'mse = 0.146\\nsamples = 107\\nvalue = 0.822'),\n",
              " Text(1639.4230769230771, 235.9375, 'VEHICLE TYPE CODE 2_LARGE COM VEH(6 OR MORE TIRES) <= 0.5\\nmse = 1.862\\nsamples = 385\\nvalue = 0.699'),\n",
              " Text(1490.3846153846155, 141.5625, 'VEHICLE TYPE CODE 1_LIVERY VEHICLE <= 0.5\\nmse = 1.59\\nsamples = 384\\nvalue = 0.672'),\n",
              " Text(1341.3461538461538, 47.1875, 'mse = 1.199\\nsamples = 382\\nvalue = 0.641'),\n",
              " Text(1639.4230769230771, 47.1875, 'mse = 42.25\\nsamples = 2\\nvalue = 6.5'),\n",
              " Text(1788.4615384615386, 141.5625, 'mse = 0.0\\nsamples = 1\\nvalue = 11.0')]"
            ]
          },
          "metadata": {
            "tags": []
          },
          "execution_count": 37
        },
        {
          "output_type": "display_data",
          "data": {
            "image/png": "[encoded data removed]",
            "text/plain": [
              "<Figure size 2500x500 with 1 Axes>"
            ]
          },
          "metadata": {
            "tags": [],
            "needs_background": "light"
          }
        }
      ]
    },
    {
      "cell_type": "markdown",
      "metadata": {
        "id": "QOt-UW5DXf9B"
      },
      "source": [
        "Using a decision tree, we can see that our model is fitting the data quite nicely although the MSE values are still relatively high. To fix this, we can see what our MSEs can potentially be by using higher or lower max_depths."
      ]
    },
    {
      "cell_type": "code",
      "metadata": {
        "colab": {
          "base_uri": "https://localhost:8080/"
        },
        "id": "0weFJSYoXfkX",
        "outputId": "8a9b6791-2511-4e31-d54e-2d8a4d09c438"
      },
      "source": [
        "# Decision Tree with varying depths\n",
        "tree_train_mse_values = []\n",
        "tree_test_mse_values = []\n",
        "\n",
        "for k in np.arange(1, 11):\n",
        "  # Fit data to Decision Tree model and predict\n",
        "  print(f'Computing Decision Tree MSE for k = {k}')\n",
        "  tree_model = DecisionTreeRegressor(max_depth=k)\n",
        "  tree_model.fit(x_train, y_train)\n",
        "  y_train_pred = tree_model.predict(x_train)\n",
        "  y_test_pred = tree_model.predict(x_test)\n",
        "\n",
        "  # Calculate the MSEs\n",
        "  train_mse = mean_squared_error(y_train_pred, y_train)\n",
        "  test_mse = mean_squared_error(y_test_pred, y_test)\n",
        "  tree_train_mse_values.append(train_mse)\n",
        "  tree_test_mse_values.append(test_mse)"
      ],
      "execution_count": 38,
      "outputs": [
        {
          "output_type": "stream",
          "text": [
            "Computing Decision Tree MSE for k = 1\n",
            "Computing Decision Tree MSE for k = 2\n",
            "Computing Decision Tree MSE for k = 3\n",
            "Computing Decision Tree MSE for k = 4\n",
            "Computing Decision Tree MSE for k = 5\n",
            "Computing Decision Tree MSE for k = 6\n",
            "Computing Decision Tree MSE for k = 7\n",
            "Computing Decision Tree MSE for k = 8\n",
            "Computing Decision Tree MSE for k = 9\n",
            "Computing Decision Tree MSE for k = 10\n"
          ],
          "name": "stdout"
        }
      ]
    },
    {
      "cell_type": "markdown",
      "metadata": {
        "id": "TocI3KWYXFy3"
      },
      "source": [
        "After computing MSE values for our decision tree, we plot the values onto a chart to see their differences. Interestingly enough, our MSE values seem to diverge at higher depths."
      ]
    },
    {
      "cell_type": "code",
      "metadata": {
        "colab": {
          "base_uri": "https://localhost:8080/",
          "height": 318
        },
        "id": "y1bwqIwNYIUi",
        "outputId": "7a95d29d-2ad1-48de-b177-ee33b701ee4c"
      },
      "source": [
        "plt.plot(np.arange(10), tree_train_mse_values)\n",
        "plt.plot(np.arange(10), tree_test_mse_values)\n",
        "plt.xlabel(\"max_depth Value\")\n",
        "plt.ylabel(\"MSE Value\")\n",
        "plt.title(\"Decision Tree MSE Value of Varying max_depths\")\n",
        "plt.legend(['Training MSE', 'Testing MSE'])"
      ],
      "execution_count": 39,
      "outputs": [
        {
          "output_type": "execute_result",
          "data": {
            "text/plain": [
              "<matplotlib.legend.Legend at 0x7f36401fec50>"
            ]
          },
          "metadata": {
            "tags": []
          },
          "execution_count": 39
        },
        {
          "output_type": "display_data",
          "data": {
            "image/png": "[encoded data removed]",
            "text/plain": [
              "<Figure size 432x288 with 1 Axes>"
            ]
          },
          "metadata": {
            "tags": [],
            "needs_background": "light"
          }
        }
      ]
    },
    {
      "cell_type": "markdown",
      "metadata": {
        "id": "lB-cgbI_MwsQ"
      },
      "source": [
        "Using a decision tree for our data doesn't seem to be the best option as higher depths will only increase the difference between the MSE values. However, for our KNN model, it does start out with a high difference but eventually the difference in MSE values is reduced as the model uses higher k-values. Using a KNN model and finding the right k-value is the best approach to predicting the number of injured in a given collision."
      ]
    }
  ]
}