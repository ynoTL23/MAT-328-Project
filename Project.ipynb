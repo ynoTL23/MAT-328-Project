{
  "nbformat": 4,
  "nbformat_minor": 0,
  "metadata": {
    "colab": {
      "name": "Project.ipynb",
      "provenance": [],
      "collapsed_sections": []
    },
    "kernelspec": {
      "name": "python3",
      "display_name": "Python 3"
    }
  },
  "cells": [
    {
      "cell_type": "markdown",
      "metadata": {
        "id": "-9ov3sXMVW4x"
      },
      "source": [
        "# MAT 328 - Final Project\r\n",
        "### Tony Lu\r\n",
        "\r\n",
        "---\r\n",
        "\r\n",
        "This project uses the [Motor Vehicle Collision](https://data.cityofnewyork.us/Public-Safety/Motor-Vehicle-Collisions-Crashes/h9gi-nx95) dataset offered by [NYC Open Data](http://opendata.cityofnewyork.us/).\r\n",
        "\r\n",
        "All data and values are dated March 2021 - the most recent date this notebook was executed. Executing this notebook at a later date may yield different results compared to what is already rendered in this notebook."
      ]
    },
    {
      "cell_type": "markdown",
      "metadata": {
        "id": "NLrWcRbZVe8S"
      },
      "source": [
        "# Project Setup"
      ]
    },
    {
      "cell_type": "markdown",
      "metadata": {
        "id": "r7MORp_yVhlL"
      },
      "source": [
        "### Import the necessary libraries"
      ]
    },
    {
      "cell_type": "code",
      "metadata": {
        "id": "wsPefb0IVf7E"
      },
      "source": [
        "import pandas as pd\r\n",
        "import numpy as np\r\n",
        "import seaborn as sns\r\n",
        "import matplotlib.pyplot as plt\r\n",
        "\r\n",
        "%matplotlib inline\r\n",
        "sns.set_theme(style='darkgrid')"
      ],
      "execution_count": 1,
      "outputs": []
    },
    {
      "cell_type": "markdown",
      "metadata": {
        "id": "9irqsgc6VyPZ"
      },
      "source": [
        "### Download and load the data"
      ]
    },
    {
      "cell_type": "code",
      "metadata": {
        "colab": {
          "base_uri": "https://localhost:8080/"
        },
        "id": "2ZkMxdmHVz7r",
        "outputId": "ca588008-ba59-4daf-a0c8-c96003ca0c9a"
      },
      "source": [
        "# This might take awhile. It has 1.7 million rows after all.\r\n",
        "raw_data = pd.read_csv('https://data.cityofnewyork.us/api/views/h9gi-nx95/rows.csv?accessType=DOWNLOAD')"
      ],
      "execution_count": 2,
      "outputs": [
        {
          "output_type": "stream",
          "text": [
            "/usr/local/lib/python3.7/dist-packages/IPython/core/interactiveshell.py:2718: DtypeWarning: Columns (3) have mixed types.Specify dtype option on import or set low_memory=False.\n",
            "  interactivity=interactivity, compiler=compiler, result=result)\n"
          ],
          "name": "stderr"
        }
      ]
    },
    {
      "cell_type": "code",
      "metadata": {
        "id": "qPOALH3vV5YB"
      },
      "source": [
        "df = raw_data.copy()"
      ],
      "execution_count": 3,
      "outputs": []
    },
    {
      "cell_type": "markdown",
      "metadata": {
        "id": "Nr5wI7AzV_2V"
      },
      "source": [
        "### Show the data"
      ]
    },
    {
      "cell_type": "code",
      "metadata": {
        "colab": {
          "base_uri": "https://localhost:8080/",
          "height": 462
        },
        "id": "PeyHsNyuV8k3",
        "outputId": "ee99569a-de2b-41bb-f9d8-e463f523e408"
      },
      "source": [
        "df.head()"
      ],
      "execution_count": 4,
      "outputs": [
        {
          "output_type": "execute_result",
          "data": {
            "text/html": [
              "<div>\n",
              "<style scoped>\n",
              "    .dataframe tbody tr th:only-of-type {\n",
              "        vertical-align: middle;\n",
              "    }\n",
              "\n",
              "    .dataframe tbody tr th {\n",
              "        vertical-align: top;\n",
              "    }\n",
              "\n",
              "    .dataframe thead th {\n",
              "        text-align: right;\n",
              "    }\n",
              "</style>\n",
              "<table border=\"1\" class=\"dataframe\">\n",
              "  <thead>\n",
              "    <tr style=\"text-align: right;\">\n",
              "      <th></th>\n",
              "      <th>CRASH DATE</th>\n",
              "      <th>CRASH TIME</th>\n",
              "      <th>BOROUGH</th>\n",
              "      <th>ZIP CODE</th>\n",
              "      <th>LATITUDE</th>\n",
              "      <th>LONGITUDE</th>\n",
              "      <th>LOCATION</th>\n",
              "      <th>ON STREET NAME</th>\n",
              "      <th>CROSS STREET NAME</th>\n",
              "      <th>OFF STREET NAME</th>\n",
              "      <th>NUMBER OF PERSONS INJURED</th>\n",
              "      <th>NUMBER OF PERSONS KILLED</th>\n",
              "      <th>NUMBER OF PEDESTRIANS INJURED</th>\n",
              "      <th>NUMBER OF PEDESTRIANS KILLED</th>\n",
              "      <th>NUMBER OF CYCLIST INJURED</th>\n",
              "      <th>NUMBER OF CYCLIST KILLED</th>\n",
              "      <th>NUMBER OF MOTORIST INJURED</th>\n",
              "      <th>NUMBER OF MOTORIST KILLED</th>\n",
              "      <th>CONTRIBUTING FACTOR VEHICLE 1</th>\n",
              "      <th>CONTRIBUTING FACTOR VEHICLE 2</th>\n",
              "      <th>CONTRIBUTING FACTOR VEHICLE 3</th>\n",
              "      <th>CONTRIBUTING FACTOR VEHICLE 4</th>\n",
              "      <th>CONTRIBUTING FACTOR VEHICLE 5</th>\n",
              "      <th>COLLISION_ID</th>\n",
              "      <th>VEHICLE TYPE CODE 1</th>\n",
              "      <th>VEHICLE TYPE CODE 2</th>\n",
              "      <th>VEHICLE TYPE CODE 3</th>\n",
              "      <th>VEHICLE TYPE CODE 4</th>\n",
              "      <th>VEHICLE TYPE CODE 5</th>\n",
              "    </tr>\n",
              "  </thead>\n",
              "  <tbody>\n",
              "    <tr>\n",
              "      <th>0</th>\n",
              "      <td>10/19/2018</td>\n",
              "      <td>0:00</td>\n",
              "      <td>NaN</td>\n",
              "      <td>NaN</td>\n",
              "      <td>40.834060</td>\n",
              "      <td>-73.944885</td>\n",
              "      <td>(40.83406, -73.944885)</td>\n",
              "      <td>BROADWAY</td>\n",
              "      <td>NaN</td>\n",
              "      <td>NaN</td>\n",
              "      <td>0.0</td>\n",
              "      <td>0.0</td>\n",
              "      <td>0</td>\n",
              "      <td>0</td>\n",
              "      <td>0</td>\n",
              "      <td>0</td>\n",
              "      <td>0</td>\n",
              "      <td>0</td>\n",
              "      <td>Oversized Vehicle</td>\n",
              "      <td>Driver Inattention/Distraction</td>\n",
              "      <td>NaN</td>\n",
              "      <td>NaN</td>\n",
              "      <td>NaN</td>\n",
              "      <td>4004397</td>\n",
              "      <td>Sedan</td>\n",
              "      <td>Chassis Cab</td>\n",
              "      <td>NaN</td>\n",
              "      <td>NaN</td>\n",
              "      <td>NaN</td>\n",
              "    </tr>\n",
              "    <tr>\n",
              "      <th>1</th>\n",
              "      <td>10/06/2018</td>\n",
              "      <td>16:39</td>\n",
              "      <td>BRONX</td>\n",
              "      <td>10456</td>\n",
              "      <td>40.828194</td>\n",
              "      <td>-73.903860</td>\n",
              "      <td>(40.828194, -73.90386)</td>\n",
              "      <td>BOSTON ROAD</td>\n",
              "      <td>EAST 167 STREET</td>\n",
              "      <td>NaN</td>\n",
              "      <td>0.0</td>\n",
              "      <td>0.0</td>\n",
              "      <td>0</td>\n",
              "      <td>0</td>\n",
              "      <td>0</td>\n",
              "      <td>0</td>\n",
              "      <td>0</td>\n",
              "      <td>0</td>\n",
              "      <td>Failure to Yield Right-of-Way</td>\n",
              "      <td>Unspecified</td>\n",
              "      <td>NaN</td>\n",
              "      <td>NaN</td>\n",
              "      <td>NaN</td>\n",
              "      <td>3994805</td>\n",
              "      <td>Sedan</td>\n",
              "      <td>Sedan</td>\n",
              "      <td>NaN</td>\n",
              "      <td>NaN</td>\n",
              "      <td>NaN</td>\n",
              "    </tr>\n",
              "    <tr>\n",
              "      <th>2</th>\n",
              "      <td>10/14/2018</td>\n",
              "      <td>12:10</td>\n",
              "      <td>QUEENS</td>\n",
              "      <td>11411</td>\n",
              "      <td>40.692230</td>\n",
              "      <td>-73.727520</td>\n",
              "      <td>(40.69223, -73.72752)</td>\n",
              "      <td>NaN</td>\n",
              "      <td>NaN</td>\n",
              "      <td>116-28    234 STREET</td>\n",
              "      <td>1.0</td>\n",
              "      <td>0.0</td>\n",
              "      <td>0</td>\n",
              "      <td>0</td>\n",
              "      <td>0</td>\n",
              "      <td>0</td>\n",
              "      <td>1</td>\n",
              "      <td>0</td>\n",
              "      <td>Following Too Closely</td>\n",
              "      <td>Unspecified</td>\n",
              "      <td>Unspecified</td>\n",
              "      <td>NaN</td>\n",
              "      <td>NaN</td>\n",
              "      <td>4001451</td>\n",
              "      <td>Sedan</td>\n",
              "      <td>Sedan</td>\n",
              "      <td>Sedan</td>\n",
              "      <td>NaN</td>\n",
              "      <td>NaN</td>\n",
              "    </tr>\n",
              "    <tr>\n",
              "      <th>3</th>\n",
              "      <td>10/20/2018</td>\n",
              "      <td>19:30</td>\n",
              "      <td>NaN</td>\n",
              "      <td>NaN</td>\n",
              "      <td>40.708324</td>\n",
              "      <td>-73.843140</td>\n",
              "      <td>(40.708324, -73.84314)</td>\n",
              "      <td>JACKIE ROBINSON PKWY</td>\n",
              "      <td>NaN</td>\n",
              "      <td>NaN</td>\n",
              "      <td>0.0</td>\n",
              "      <td>0.0</td>\n",
              "      <td>0</td>\n",
              "      <td>0</td>\n",
              "      <td>0</td>\n",
              "      <td>0</td>\n",
              "      <td>0</td>\n",
              "      <td>0</td>\n",
              "      <td>Driver Inattention/Distraction</td>\n",
              "      <td>Unspecified</td>\n",
              "      <td>NaN</td>\n",
              "      <td>NaN</td>\n",
              "      <td>NaN</td>\n",
              "      <td>4004650</td>\n",
              "      <td>Station Wagon/Sport Utility Vehicle</td>\n",
              "      <td>Sedan</td>\n",
              "      <td>NaN</td>\n",
              "      <td>NaN</td>\n",
              "      <td>NaN</td>\n",
              "    </tr>\n",
              "    <tr>\n",
              "      <th>4</th>\n",
              "      <td>10/13/2018</td>\n",
              "      <td>12:30</td>\n",
              "      <td>QUEENS</td>\n",
              "      <td>11355</td>\n",
              "      <td>40.756480</td>\n",
              "      <td>-73.831360</td>\n",
              "      <td>(40.75648, -73.83136)</td>\n",
              "      <td>FRAME PLACE</td>\n",
              "      <td>41 ROAD</td>\n",
              "      <td>NaN</td>\n",
              "      <td>0.0</td>\n",
              "      <td>0.0</td>\n",
              "      <td>0</td>\n",
              "      <td>0</td>\n",
              "      <td>0</td>\n",
              "      <td>0</td>\n",
              "      <td>0</td>\n",
              "      <td>0</td>\n",
              "      <td>Passing Too Closely</td>\n",
              "      <td>Unspecified</td>\n",
              "      <td>NaN</td>\n",
              "      <td>NaN</td>\n",
              "      <td>NaN</td>\n",
              "      <td>3999269</td>\n",
              "      <td>Station Wagon/Sport Utility Vehicle</td>\n",
              "      <td>FLATB</td>\n",
              "      <td>NaN</td>\n",
              "      <td>NaN</td>\n",
              "      <td>NaN</td>\n",
              "    </tr>\n",
              "  </tbody>\n",
              "</table>\n",
              "</div>"
            ],
            "text/plain": [
              "   CRASH DATE CRASH TIME  ... VEHICLE TYPE CODE 4 VEHICLE TYPE CODE 5\n",
              "0  10/19/2018       0:00  ...                 NaN                 NaN\n",
              "1  10/06/2018      16:39  ...                 NaN                 NaN\n",
              "2  10/14/2018      12:10  ...                 NaN                 NaN\n",
              "3  10/20/2018      19:30  ...                 NaN                 NaN\n",
              "4  10/13/2018      12:30  ...                 NaN                 NaN\n",
              "\n",
              "[5 rows x 29 columns]"
            ]
          },
          "metadata": {
            "tags": []
          },
          "execution_count": 4
        }
      ]
    },
    {
      "cell_type": "code",
      "metadata": {
        "colab": {
          "base_uri": "https://localhost:8080/"
        },
        "id": "L-QslvyKWbD-",
        "outputId": "f4f95af4-34d2-4811-9397-914dc8ecd2f8"
      },
      "source": [
        "# Show size of the data\r\n",
        "print(f'Rows: {df.shape[0]} | Columns: {df.shape[1]}')"
      ],
      "execution_count": 5,
      "outputs": [
        {
          "output_type": "stream",
          "text": [
            "Rows: 1759556 | Columns: 29\n"
          ],
          "name": "stdout"
        }
      ]
    },
    {
      "cell_type": "code",
      "metadata": {
        "colab": {
          "base_uri": "https://localhost:8080/",
          "height": 478
        },
        "id": "XCS2znFyWtRT",
        "outputId": "da576cb6-25c3-46bb-84ab-c6cb0f9fdde9"
      },
      "source": [
        "df.describe(include='all')"
      ],
      "execution_count": 6,
      "outputs": [
        {
          "output_type": "execute_result",
          "data": {
            "text/html": [
              "<div>\n",
              "<style scoped>\n",
              "    .dataframe tbody tr th:only-of-type {\n",
              "        vertical-align: middle;\n",
              "    }\n",
              "\n",
              "    .dataframe tbody tr th {\n",
              "        vertical-align: top;\n",
              "    }\n",
              "\n",
              "    .dataframe thead th {\n",
              "        text-align: right;\n",
              "    }\n",
              "</style>\n",
              "<table border=\"1\" class=\"dataframe\">\n",
              "  <thead>\n",
              "    <tr style=\"text-align: right;\">\n",
              "      <th></th>\n",
              "      <th>CRASH DATE</th>\n",
              "      <th>CRASH TIME</th>\n",
              "      <th>BOROUGH</th>\n",
              "      <th>ZIP CODE</th>\n",
              "      <th>LATITUDE</th>\n",
              "      <th>LONGITUDE</th>\n",
              "      <th>LOCATION</th>\n",
              "      <th>ON STREET NAME</th>\n",
              "      <th>CROSS STREET NAME</th>\n",
              "      <th>OFF STREET NAME</th>\n",
              "      <th>NUMBER OF PERSONS INJURED</th>\n",
              "      <th>NUMBER OF PERSONS KILLED</th>\n",
              "      <th>NUMBER OF PEDESTRIANS INJURED</th>\n",
              "      <th>NUMBER OF PEDESTRIANS KILLED</th>\n",
              "      <th>NUMBER OF CYCLIST INJURED</th>\n",
              "      <th>NUMBER OF CYCLIST KILLED</th>\n",
              "      <th>NUMBER OF MOTORIST INJURED</th>\n",
              "      <th>NUMBER OF MOTORIST KILLED</th>\n",
              "      <th>CONTRIBUTING FACTOR VEHICLE 1</th>\n",
              "      <th>CONTRIBUTING FACTOR VEHICLE 2</th>\n",
              "      <th>CONTRIBUTING FACTOR VEHICLE 3</th>\n",
              "      <th>CONTRIBUTING FACTOR VEHICLE 4</th>\n",
              "      <th>CONTRIBUTING FACTOR VEHICLE 5</th>\n",
              "      <th>COLLISION_ID</th>\n",
              "      <th>VEHICLE TYPE CODE 1</th>\n",
              "      <th>VEHICLE TYPE CODE 2</th>\n",
              "      <th>VEHICLE TYPE CODE 3</th>\n",
              "      <th>VEHICLE TYPE CODE 4</th>\n",
              "      <th>VEHICLE TYPE CODE 5</th>\n",
              "    </tr>\n",
              "  </thead>\n",
              "  <tbody>\n",
              "    <tr>\n",
              "      <th>count</th>\n",
              "      <td>1759556</td>\n",
              "      <td>1759556</td>\n",
              "      <td>1219220</td>\n",
              "      <td>1219009.0</td>\n",
              "      <td>1.550996e+06</td>\n",
              "      <td>1.550996e+06</td>\n",
              "      <td>1550996</td>\n",
              "      <td>1405116</td>\n",
              "      <td>1141381</td>\n",
              "      <td>262072</td>\n",
              "      <td>1.759538e+06</td>\n",
              "      <td>1.759525e+06</td>\n",
              "      <td>1.759556e+06</td>\n",
              "      <td>1.759556e+06</td>\n",
              "      <td>1.759556e+06</td>\n",
              "      <td>1.759556e+06</td>\n",
              "      <td>1.759556e+06</td>\n",
              "      <td>1.759556e+06</td>\n",
              "      <td>1754613</td>\n",
              "      <td>1510702</td>\n",
              "      <td>117778</td>\n",
              "      <td>25315</td>\n",
              "      <td>6609</td>\n",
              "      <td>1.759556e+06</td>\n",
              "      <td>1750309</td>\n",
              "      <td>1468911</td>\n",
              "      <td>114591</td>\n",
              "      <td>24603</td>\n",
              "      <td>6435</td>\n",
              "    </tr>\n",
              "    <tr>\n",
              "      <th>unique</th>\n",
              "      <td>3167</td>\n",
              "      <td>1440</td>\n",
              "      <td>5</td>\n",
              "      <td>421.0</td>\n",
              "      <td>NaN</td>\n",
              "      <td>NaN</td>\n",
              "      <td>228157</td>\n",
              "      <td>12095</td>\n",
              "      <td>18866</td>\n",
              "      <td>160483</td>\n",
              "      <td>NaN</td>\n",
              "      <td>NaN</td>\n",
              "      <td>NaN</td>\n",
              "      <td>NaN</td>\n",
              "      <td>NaN</td>\n",
              "      <td>NaN</td>\n",
              "      <td>NaN</td>\n",
              "      <td>NaN</td>\n",
              "      <td>61</td>\n",
              "      <td>61</td>\n",
              "      <td>50</td>\n",
              "      <td>39</td>\n",
              "      <td>29</td>\n",
              "      <td>NaN</td>\n",
              "      <td>1196</td>\n",
              "      <td>1291</td>\n",
              "      <td>182</td>\n",
              "      <td>74</td>\n",
              "      <td>53</td>\n",
              "    </tr>\n",
              "    <tr>\n",
              "      <th>top</th>\n",
              "      <td>01/21/2014</td>\n",
              "      <td>16:00</td>\n",
              "      <td>BROOKLYN</td>\n",
              "      <td>11207.0</td>\n",
              "      <td>NaN</td>\n",
              "      <td>NaN</td>\n",
              "      <td>(0.0, 0.0)</td>\n",
              "      <td>BROADWAY</td>\n",
              "      <td>3 AVENUE</td>\n",
              "      <td>772       EDGEWATER ROAD</td>\n",
              "      <td>NaN</td>\n",
              "      <td>NaN</td>\n",
              "      <td>NaN</td>\n",
              "      <td>NaN</td>\n",
              "      <td>NaN</td>\n",
              "      <td>NaN</td>\n",
              "      <td>NaN</td>\n",
              "      <td>NaN</td>\n",
              "      <td>Unspecified</td>\n",
              "      <td>Unspecified</td>\n",
              "      <td>Unspecified</td>\n",
              "      <td>Unspecified</td>\n",
              "      <td>Unspecified</td>\n",
              "      <td>NaN</td>\n",
              "      <td>Sedan</td>\n",
              "      <td>PASSENGER VEHICLE</td>\n",
              "      <td>Sedan</td>\n",
              "      <td>Sedan</td>\n",
              "      <td>Sedan</td>\n",
              "    </tr>\n",
              "    <tr>\n",
              "      <th>freq</th>\n",
              "      <td>1161</td>\n",
              "      <td>25440</td>\n",
              "      <td>382027</td>\n",
              "      <td>15001.0</td>\n",
              "      <td>NaN</td>\n",
              "      <td>NaN</td>\n",
              "      <td>1280</td>\n",
              "      <td>17196</td>\n",
              "      <td>9843</td>\n",
              "      <td>402</td>\n",
              "      <td>NaN</td>\n",
              "      <td>NaN</td>\n",
              "      <td>NaN</td>\n",
              "      <td>NaN</td>\n",
              "      <td>NaN</td>\n",
              "      <td>NaN</td>\n",
              "      <td>NaN</td>\n",
              "      <td>NaN</td>\n",
              "      <td>630355</td>\n",
              "      <td>1270148</td>\n",
              "      <td>109597</td>\n",
              "      <td>23864</td>\n",
              "      <td>6224</td>\n",
              "      <td>NaN</td>\n",
              "      <td>429376</td>\n",
              "      <td>318607</td>\n",
              "      <td>30538</td>\n",
              "      <td>7028</td>\n",
              "      <td>1899</td>\n",
              "    </tr>\n",
              "    <tr>\n",
              "      <th>mean</th>\n",
              "      <td>NaN</td>\n",
              "      <td>NaN</td>\n",
              "      <td>NaN</td>\n",
              "      <td>NaN</td>\n",
              "      <td>4.069056e+01</td>\n",
              "      <td>-7.386784e+01</td>\n",
              "      <td>NaN</td>\n",
              "      <td>NaN</td>\n",
              "      <td>NaN</td>\n",
              "      <td>NaN</td>\n",
              "      <td>2.726687e-01</td>\n",
              "      <td>1.255452e-03</td>\n",
              "      <td>5.147094e-02</td>\n",
              "      <td>6.603939e-04</td>\n",
              "      <td>2.280973e-02</td>\n",
              "      <td>9.547863e-05</td>\n",
              "      <td>1.982233e-01</td>\n",
              "      <td>4.984212e-04</td>\n",
              "      <td>NaN</td>\n",
              "      <td>NaN</td>\n",
              "      <td>NaN</td>\n",
              "      <td>NaN</td>\n",
              "      <td>NaN</td>\n",
              "      <td>2.909304e+06</td>\n",
              "      <td>NaN</td>\n",
              "      <td>NaN</td>\n",
              "      <td>NaN</td>\n",
              "      <td>NaN</td>\n",
              "      <td>NaN</td>\n",
              "    </tr>\n",
              "    <tr>\n",
              "      <th>std</th>\n",
              "      <td>NaN</td>\n",
              "      <td>NaN</td>\n",
              "      <td>NaN</td>\n",
              "      <td>NaN</td>\n",
              "      <td>1.172107e+00</td>\n",
              "      <td>2.375114e+00</td>\n",
              "      <td>NaN</td>\n",
              "      <td>NaN</td>\n",
              "      <td>NaN</td>\n",
              "      <td>NaN</td>\n",
              "      <td>6.679621e-01</td>\n",
              "      <td>3.746889e-02</td>\n",
              "      <td>2.333875e-01</td>\n",
              "      <td>2.623689e-02</td>\n",
              "      <td>1.508869e-01</td>\n",
              "      <td>9.828846e-03</td>\n",
              "      <td>6.297285e-01</td>\n",
              "      <td>2.441158e-02</td>\n",
              "      <td>NaN</td>\n",
              "      <td>NaN</td>\n",
              "      <td>NaN</td>\n",
              "      <td>NaN</td>\n",
              "      <td>NaN</td>\n",
              "      <td>1.502984e+06</td>\n",
              "      <td>NaN</td>\n",
              "      <td>NaN</td>\n",
              "      <td>NaN</td>\n",
              "      <td>NaN</td>\n",
              "      <td>NaN</td>\n",
              "    </tr>\n",
              "    <tr>\n",
              "      <th>min</th>\n",
              "      <td>NaN</td>\n",
              "      <td>NaN</td>\n",
              "      <td>NaN</td>\n",
              "      <td>NaN</td>\n",
              "      <td>0.000000e+00</td>\n",
              "      <td>-2.013600e+02</td>\n",
              "      <td>NaN</td>\n",
              "      <td>NaN</td>\n",
              "      <td>NaN</td>\n",
              "      <td>NaN</td>\n",
              "      <td>0.000000e+00</td>\n",
              "      <td>0.000000e+00</td>\n",
              "      <td>0.000000e+00</td>\n",
              "      <td>0.000000e+00</td>\n",
              "      <td>0.000000e+00</td>\n",
              "      <td>0.000000e+00</td>\n",
              "      <td>0.000000e+00</td>\n",
              "      <td>0.000000e+00</td>\n",
              "      <td>NaN</td>\n",
              "      <td>NaN</td>\n",
              "      <td>NaN</td>\n",
              "      <td>NaN</td>\n",
              "      <td>NaN</td>\n",
              "      <td>2.200000e+01</td>\n",
              "      <td>NaN</td>\n",
              "      <td>NaN</td>\n",
              "      <td>NaN</td>\n",
              "      <td>NaN</td>\n",
              "      <td>NaN</td>\n",
              "    </tr>\n",
              "    <tr>\n",
              "      <th>25%</th>\n",
              "      <td>NaN</td>\n",
              "      <td>NaN</td>\n",
              "      <td>NaN</td>\n",
              "      <td>NaN</td>\n",
              "      <td>4.066862e+01</td>\n",
              "      <td>-7.397605e+01</td>\n",
              "      <td>NaN</td>\n",
              "      <td>NaN</td>\n",
              "      <td>NaN</td>\n",
              "      <td>NaN</td>\n",
              "      <td>0.000000e+00</td>\n",
              "      <td>0.000000e+00</td>\n",
              "      <td>0.000000e+00</td>\n",
              "      <td>0.000000e+00</td>\n",
              "      <td>0.000000e+00</td>\n",
              "      <td>0.000000e+00</td>\n",
              "      <td>0.000000e+00</td>\n",
              "      <td>0.000000e+00</td>\n",
              "      <td>NaN</td>\n",
              "      <td>NaN</td>\n",
              "      <td>NaN</td>\n",
              "      <td>NaN</td>\n",
              "      <td>NaN</td>\n",
              "      <td>2.865733e+06</td>\n",
              "      <td>NaN</td>\n",
              "      <td>NaN</td>\n",
              "      <td>NaN</td>\n",
              "      <td>NaN</td>\n",
              "      <td>NaN</td>\n",
              "    </tr>\n",
              "    <tr>\n",
              "      <th>50%</th>\n",
              "      <td>NaN</td>\n",
              "      <td>NaN</td>\n",
              "      <td>NaN</td>\n",
              "      <td>NaN</td>\n",
              "      <td>4.072218e+01</td>\n",
              "      <td>-7.392844e+01</td>\n",
              "      <td>NaN</td>\n",
              "      <td>NaN</td>\n",
              "      <td>NaN</td>\n",
              "      <td>NaN</td>\n",
              "      <td>0.000000e+00</td>\n",
              "      <td>0.000000e+00</td>\n",
              "      <td>0.000000e+00</td>\n",
              "      <td>0.000000e+00</td>\n",
              "      <td>0.000000e+00</td>\n",
              "      <td>0.000000e+00</td>\n",
              "      <td>0.000000e+00</td>\n",
              "      <td>0.000000e+00</td>\n",
              "      <td>NaN</td>\n",
              "      <td>NaN</td>\n",
              "      <td>NaN</td>\n",
              "      <td>NaN</td>\n",
              "      <td>NaN</td>\n",
              "      <td>3.515936e+06</td>\n",
              "      <td>NaN</td>\n",
              "      <td>NaN</td>\n",
              "      <td>NaN</td>\n",
              "      <td>NaN</td>\n",
              "      <td>NaN</td>\n",
              "    </tr>\n",
              "    <tr>\n",
              "      <th>75%</th>\n",
              "      <td>NaN</td>\n",
              "      <td>NaN</td>\n",
              "      <td>NaN</td>\n",
              "      <td>NaN</td>\n",
              "      <td>4.076881e+01</td>\n",
              "      <td>-7.386667e+01</td>\n",
              "      <td>NaN</td>\n",
              "      <td>NaN</td>\n",
              "      <td>NaN</td>\n",
              "      <td>NaN</td>\n",
              "      <td>0.000000e+00</td>\n",
              "      <td>0.000000e+00</td>\n",
              "      <td>0.000000e+00</td>\n",
              "      <td>0.000000e+00</td>\n",
              "      <td>0.000000e+00</td>\n",
              "      <td>0.000000e+00</td>\n",
              "      <td>0.000000e+00</td>\n",
              "      <td>0.000000e+00</td>\n",
              "      <td>NaN</td>\n",
              "      <td>NaN</td>\n",
              "      <td>NaN</td>\n",
              "      <td>NaN</td>\n",
              "      <td>NaN</td>\n",
              "      <td>3.956062e+06</td>\n",
              "      <td>NaN</td>\n",
              "      <td>NaN</td>\n",
              "      <td>NaN</td>\n",
              "      <td>NaN</td>\n",
              "      <td>NaN</td>\n",
              "    </tr>\n",
              "    <tr>\n",
              "      <th>max</th>\n",
              "      <td>NaN</td>\n",
              "      <td>NaN</td>\n",
              "      <td>NaN</td>\n",
              "      <td>NaN</td>\n",
              "      <td>4.334444e+01</td>\n",
              "      <td>0.000000e+00</td>\n",
              "      <td>NaN</td>\n",
              "      <td>NaN</td>\n",
              "      <td>NaN</td>\n",
              "      <td>NaN</td>\n",
              "      <td>4.300000e+01</td>\n",
              "      <td>8.000000e+00</td>\n",
              "      <td>2.700000e+01</td>\n",
              "      <td>6.000000e+00</td>\n",
              "      <td>4.000000e+00</td>\n",
              "      <td>2.000000e+00</td>\n",
              "      <td>4.300000e+01</td>\n",
              "      <td>5.000000e+00</td>\n",
              "      <td>NaN</td>\n",
              "      <td>NaN</td>\n",
              "      <td>NaN</td>\n",
              "      <td>NaN</td>\n",
              "      <td>NaN</td>\n",
              "      <td>4.396358e+06</td>\n",
              "      <td>NaN</td>\n",
              "      <td>NaN</td>\n",
              "      <td>NaN</td>\n",
              "      <td>NaN</td>\n",
              "      <td>NaN</td>\n",
              "    </tr>\n",
              "  </tbody>\n",
              "</table>\n",
              "</div>"
            ],
            "text/plain": [
              "        CRASH DATE CRASH TIME  ... VEHICLE TYPE CODE 4  VEHICLE TYPE CODE 5\n",
              "count      1759556    1759556  ...               24603                 6435\n",
              "unique        3167       1440  ...                  74                   53\n",
              "top     01/21/2014      16:00  ...               Sedan                Sedan\n",
              "freq          1161      25440  ...                7028                 1899\n",
              "mean           NaN        NaN  ...                 NaN                  NaN\n",
              "std            NaN        NaN  ...                 NaN                  NaN\n",
              "min            NaN        NaN  ...                 NaN                  NaN\n",
              "25%            NaN        NaN  ...                 NaN                  NaN\n",
              "50%            NaN        NaN  ...                 NaN                  NaN\n",
              "75%            NaN        NaN  ...                 NaN                  NaN\n",
              "max            NaN        NaN  ...                 NaN                  NaN\n",
              "\n",
              "[11 rows x 29 columns]"
            ]
          },
          "metadata": {
            "tags": []
          },
          "execution_count": 6
        }
      ]
    },
    {
      "cell_type": "markdown",
      "metadata": {
        "id": "cjmXeJXnkEL3"
      },
      "source": [
        "### Data Handling\r\n",
        "- Clean up unneeded data\r\n",
        "- Make sure the correct dtypes are being used\r\n",
        "- Handle missing data"
      ]
    },
    {
      "cell_type": "markdown",
      "metadata": {
        "id": "dVZfSzcDlqxZ"
      },
      "source": [
        "#### Unneeded data"
      ]
    },
    {
      "cell_type": "code",
      "metadata": {
        "id": "ZENlInJkkFrX"
      },
      "source": [
        "# We don't need COLLISION_ID as its more of a unique identifier for internal use\r\n",
        "# LOCATION is just a combination of LONGITUDE and LATITUDE, having either is fine\r\n",
        "df.drop(['COLLISION_ID', 'LOCATION'], axis=1, inplace=True)"
      ],
      "execution_count": 7,
      "outputs": []
    },
    {
      "cell_type": "markdown",
      "metadata": {
        "id": "WZDGxKLllsUJ"
      },
      "source": [
        "#### Check and handle missing values"
      ]
    },
    {
      "cell_type": "code",
      "metadata": {
        "colab": {
          "base_uri": "https://localhost:8080/"
        },
        "id": "m280eI0fliT-",
        "outputId": "ed380a01-2c97-455b-cfd8-7357cefd66cd"
      },
      "source": [
        "# Check which columns have missing values\r\n",
        "nulls = df.isnull().sum()\r\n",
        "nulls[nulls > 0]"
      ],
      "execution_count": 8,
      "outputs": [
        {
          "output_type": "execute_result",
          "data": {
            "text/plain": [
              "BOROUGH                           540336\n",
              "ZIP CODE                          540547\n",
              "LATITUDE                          208560\n",
              "LONGITUDE                         208560\n",
              "ON STREET NAME                    354440\n",
              "CROSS STREET NAME                 618175\n",
              "OFF STREET NAME                  1497484\n",
              "NUMBER OF PERSONS INJURED             18\n",
              "NUMBER OF PERSONS KILLED              31\n",
              "CONTRIBUTING FACTOR VEHICLE 1       4943\n",
              "CONTRIBUTING FACTOR VEHICLE 2     248854\n",
              "CONTRIBUTING FACTOR VEHICLE 3    1641778\n",
              "CONTRIBUTING FACTOR VEHICLE 4    1734241\n",
              "CONTRIBUTING FACTOR VEHICLE 5    1752947\n",
              "VEHICLE TYPE CODE 1                 9247\n",
              "VEHICLE TYPE CODE 2               290645\n",
              "VEHICLE TYPE CODE 3              1644965\n",
              "VEHICLE TYPE CODE 4              1734953\n",
              "VEHICLE TYPE CODE 5              1753121\n",
              "dtype: int64"
            ]
          },
          "metadata": {
            "tags": []
          },
          "execution_count": 8
        }
      ]
    },
    {
      "cell_type": "markdown",
      "metadata": {
        "id": "UE6Psj53lvVm"
      },
      "source": [
        "`CONTRIBUTING FACTOR VEHICLE` and `VEHICLE TYPE CODE` are used to identify the vehicle involved in the collision as well as the vehicle's role in the collision. \r\n",
        "\r\n",
        "`CONTRIBUTING FACTOR VEHICLE` and `VEHICLE TYPE CODE` can be kept as null. For a particular collision with 2 vehicles, The data should include information for these two vehicles but vehicles 3, 4, and 5 should be empty - it would make sense that values are missing from these columns."
      ]
    },
    {
      "cell_type": "code",
      "metadata": {
        "id": "tYS6CcFTlnea"
      },
      "source": [
        "# Drop missing values\r\n",
        "# OFF STREET NAME has too many missing values for us to take care of.\r\n",
        "# With over 1.4 million missing values, it's over 80% of the data.\r\n",
        "df.drop('OFF STREET NAME', axis=1, inplace=True)\r\n",
        "\r\n",
        "# The data serves us no purpose if the geo-coordinates are missing.\r\n",
        "# The coords can be used to retrieve info about borough, street, ZIP code\r\n",
        "df.dropna(how='any', subset=['LATITUDE', 'LONGITUDE'], inplace=True)"
      ],
      "execution_count": 9,
      "outputs": []
    },
    {
      "cell_type": "code",
      "metadata": {
        "id": "MteJ8OMglyt0"
      },
      "source": [
        "# Impute missing values\r\n",
        "\r\n",
        "# For \"NUMBER OF PERSONS INJURED\" and \"NUMBER OF PERSONS KILLED\",\r\n",
        "# There is only a small amount of values missing which makes it easy for us to impute it\r\n",
        "\r\n",
        "# Impute \"NUMBER OF PERSONS INJURED\" via mean\r\n",
        "injured_mean = df['NUMBER OF PERSONS INJURED'].mean()\r\n",
        "df['NUMBER OF PERSONS INJURED'].replace(np.nan, injured_mean, inplace=True)\r\n",
        "\r\n",
        "# Impute \"NUMBER OF PERSONS KILLED\" via mean\r\n",
        "killed_mean = df['NUMBER OF PERSONS KILLED'].mean()\r\n",
        "df['NUMBER OF PERSONS KILLED'].replace(np.nan, killed_mean, inplace=True)"
      ],
      "execution_count": 10,
      "outputs": []
    },
    {
      "cell_type": "markdown",
      "metadata": {
        "id": "tgl7O933mNLD"
      },
      "source": [
        "The next few columns to worry about are `ZIP CODE`, `BOROUGH`, and `ON STREET NAME`. If we check the number of records with values missing in any of the 3 columns, we will see that there is about 600,000 values missing in total. Or about 35% of the total data - which is a big chunk of the total data but not enough to leave a huge impact if we drop them. By dropping them, we'll still have about 1 million left."
      ]
    },
    {
      "cell_type": "code",
      "metadata": {
        "colab": {
          "base_uri": "https://localhost:8080/"
        },
        "id": "JPCJO4YpIC1e",
        "outputId": "f52b1aea-217a-4be6-bb4b-7f44bb85b174"
      },
      "source": [
        "filter = df[['ZIP CODE', 'BOROUGH', 'ON STREET NAME']].isnull().any(1)\r\n",
        "df[filter].shape"
      ],
      "execution_count": 11,
      "outputs": [
        {
          "output_type": "execute_result",
          "data": {
            "text/plain": [
              "(589558, 26)"
            ]
          },
          "metadata": {
            "tags": []
          },
          "execution_count": 11
        }
      ]
    },
    {
      "cell_type": "code",
      "metadata": {
        "colab": {
          "base_uri": "https://localhost:8080/"
        },
        "id": "Md8lPFKemOEU",
        "outputId": "b62ed4d6-be53-424c-92c3-7b2450b116ac"
      },
      "source": [
        "df.dropna(how='any', subset=['ZIP CODE', 'BOROUGH', 'ON STREET NAME'], inplace=True)\r\n",
        "df.shape"
      ],
      "execution_count": 12,
      "outputs": [
        {
          "output_type": "execute_result",
          "data": {
            "text/plain": [
              "(961438, 26)"
            ]
          },
          "metadata": {
            "tags": []
          },
          "execution_count": 12
        }
      ]
    },
    {
      "cell_type": "markdown",
      "metadata": {
        "id": "moy2A6VBiIu7"
      },
      "source": [
        "#### Check dtypes"
      ]
    },
    {
      "cell_type": "code",
      "metadata": {
        "colab": {
          "base_uri": "https://localhost:8080/"
        },
        "id": "zcxzzArQiMfS",
        "outputId": "0f05fe69-3eb6-45c9-d291-bcaca5a2cc16"
      },
      "source": [
        "df.dtypes"
      ],
      "execution_count": 13,
      "outputs": [
        {
          "output_type": "execute_result",
          "data": {
            "text/plain": [
              "CRASH DATE                        object\n",
              "CRASH TIME                        object\n",
              "BOROUGH                           object\n",
              "ZIP CODE                          object\n",
              "LATITUDE                         float64\n",
              "LONGITUDE                        float64\n",
              "ON STREET NAME                    object\n",
              "CROSS STREET NAME                 object\n",
              "NUMBER OF PERSONS INJURED        float64\n",
              "NUMBER OF PERSONS KILLED         float64\n",
              "NUMBER OF PEDESTRIANS INJURED      int64\n",
              "NUMBER OF PEDESTRIANS KILLED       int64\n",
              "NUMBER OF CYCLIST INJURED          int64\n",
              "NUMBER OF CYCLIST KILLED           int64\n",
              "NUMBER OF MOTORIST INJURED         int64\n",
              "NUMBER OF MOTORIST KILLED          int64\n",
              "CONTRIBUTING FACTOR VEHICLE 1     object\n",
              "CONTRIBUTING FACTOR VEHICLE 2     object\n",
              "CONTRIBUTING FACTOR VEHICLE 3     object\n",
              "CONTRIBUTING FACTOR VEHICLE 4     object\n",
              "CONTRIBUTING FACTOR VEHICLE 5     object\n",
              "VEHICLE TYPE CODE 1               object\n",
              "VEHICLE TYPE CODE 2               object\n",
              "VEHICLE TYPE CODE 3               object\n",
              "VEHICLE TYPE CODE 4               object\n",
              "VEHICLE TYPE CODE 5               object\n",
              "dtype: object"
            ]
          },
          "metadata": {
            "tags": []
          },
          "execution_count": 13
        }
      ]
    },
    {
      "cell_type": "code",
      "metadata": {
        "id": "KECRApJGRYu4"
      },
      "source": [
        "# Fix the dtypes\r\n",
        "\r\n",
        "df['CRASH DATE'] = pd.to_datetime(df['CRASH DATE'])\r\n",
        "df['CRASH TIME'] = pd.to_datetime(df['CRASH TIME'])\r\n",
        "\r\n",
        "# These should be ints, not floats - can't have half a person dead\r\n",
        "df['NUMBER OF PERSONS INJURED'] = df['NUMBER OF PERSONS INJURED'].astype(int)\r\n",
        "df['NUMBER OF PERSONS KILLED'] = df['NUMBER OF PERSONS KILLED'].astype(int)"
      ],
      "execution_count": 14,
      "outputs": []
    },
    {
      "cell_type": "markdown",
      "metadata": {
        "id": "N_mC9r6KrHB7"
      },
      "source": [
        "#### Miscellaneous Cleanup"
      ]
    },
    {
      "cell_type": "code",
      "metadata": {
        "colab": {
          "base_uri": "https://localhost:8080/",
          "height": 513
        },
        "id": "zlodg4cgq8TX",
        "outputId": "86845c6c-2f39-4c1b-e2ec-bc1e5ef3dd67"
      },
      "source": [
        "# Convert everything to uppercase to be consistent\r\n",
        "# This might take a few seconds or minutes depending on system\r\n",
        "# Took about ~10 seconds via Google Colab\r\n",
        "df = df.applymap(lambda s:s.upper() if type(s) == str else s)\r\n",
        "df.head()"
      ],
      "execution_count": 15,
      "outputs": [
        {
          "output_type": "execute_result",
          "data": {
            "text/html": [
              "<div>\n",
              "<style scoped>\n",
              "    .dataframe tbody tr th:only-of-type {\n",
              "        vertical-align: middle;\n",
              "    }\n",
              "\n",
              "    .dataframe tbody tr th {\n",
              "        vertical-align: top;\n",
              "    }\n",
              "\n",
              "    .dataframe thead th {\n",
              "        text-align: right;\n",
              "    }\n",
              "</style>\n",
              "<table border=\"1\" class=\"dataframe\">\n",
              "  <thead>\n",
              "    <tr style=\"text-align: right;\">\n",
              "      <th></th>\n",
              "      <th>CRASH DATE</th>\n",
              "      <th>CRASH TIME</th>\n",
              "      <th>BOROUGH</th>\n",
              "      <th>ZIP CODE</th>\n",
              "      <th>LATITUDE</th>\n",
              "      <th>LONGITUDE</th>\n",
              "      <th>ON STREET NAME</th>\n",
              "      <th>CROSS STREET NAME</th>\n",
              "      <th>NUMBER OF PERSONS INJURED</th>\n",
              "      <th>NUMBER OF PERSONS KILLED</th>\n",
              "      <th>NUMBER OF PEDESTRIANS INJURED</th>\n",
              "      <th>NUMBER OF PEDESTRIANS KILLED</th>\n",
              "      <th>NUMBER OF CYCLIST INJURED</th>\n",
              "      <th>NUMBER OF CYCLIST KILLED</th>\n",
              "      <th>NUMBER OF MOTORIST INJURED</th>\n",
              "      <th>NUMBER OF MOTORIST KILLED</th>\n",
              "      <th>CONTRIBUTING FACTOR VEHICLE 1</th>\n",
              "      <th>CONTRIBUTING FACTOR VEHICLE 2</th>\n",
              "      <th>CONTRIBUTING FACTOR VEHICLE 3</th>\n",
              "      <th>CONTRIBUTING FACTOR VEHICLE 4</th>\n",
              "      <th>CONTRIBUTING FACTOR VEHICLE 5</th>\n",
              "      <th>VEHICLE TYPE CODE 1</th>\n",
              "      <th>VEHICLE TYPE CODE 2</th>\n",
              "      <th>VEHICLE TYPE CODE 3</th>\n",
              "      <th>VEHICLE TYPE CODE 4</th>\n",
              "      <th>VEHICLE TYPE CODE 5</th>\n",
              "    </tr>\n",
              "  </thead>\n",
              "  <tbody>\n",
              "    <tr>\n",
              "      <th>1</th>\n",
              "      <td>2018-10-06</td>\n",
              "      <td>2021-03-08 16:39:00</td>\n",
              "      <td>BRONX</td>\n",
              "      <td>10456</td>\n",
              "      <td>40.828194</td>\n",
              "      <td>-73.903860</td>\n",
              "      <td>BOSTON ROAD</td>\n",
              "      <td>EAST 167 STREET</td>\n",
              "      <td>0</td>\n",
              "      <td>0</td>\n",
              "      <td>0</td>\n",
              "      <td>0</td>\n",
              "      <td>0</td>\n",
              "      <td>0</td>\n",
              "      <td>0</td>\n",
              "      <td>0</td>\n",
              "      <td>FAILURE TO YIELD RIGHT-OF-WAY</td>\n",
              "      <td>UNSPECIFIED</td>\n",
              "      <td>NaN</td>\n",
              "      <td>NaN</td>\n",
              "      <td>NaN</td>\n",
              "      <td>SEDAN</td>\n",
              "      <td>SEDAN</td>\n",
              "      <td>NaN</td>\n",
              "      <td>NaN</td>\n",
              "      <td>NaN</td>\n",
              "    </tr>\n",
              "    <tr>\n",
              "      <th>4</th>\n",
              "      <td>2018-10-13</td>\n",
              "      <td>2021-03-08 12:30:00</td>\n",
              "      <td>QUEENS</td>\n",
              "      <td>11355</td>\n",
              "      <td>40.756480</td>\n",
              "      <td>-73.831360</td>\n",
              "      <td>FRAME PLACE</td>\n",
              "      <td>41 ROAD</td>\n",
              "      <td>0</td>\n",
              "      <td>0</td>\n",
              "      <td>0</td>\n",
              "      <td>0</td>\n",
              "      <td>0</td>\n",
              "      <td>0</td>\n",
              "      <td>0</td>\n",
              "      <td>0</td>\n",
              "      <td>PASSING TOO CLOSELY</td>\n",
              "      <td>UNSPECIFIED</td>\n",
              "      <td>NaN</td>\n",
              "      <td>NaN</td>\n",
              "      <td>NaN</td>\n",
              "      <td>STATION WAGON/SPORT UTILITY VEHICLE</td>\n",
              "      <td>FLATB</td>\n",
              "      <td>NaN</td>\n",
              "      <td>NaN</td>\n",
              "      <td>NaN</td>\n",
              "    </tr>\n",
              "    <tr>\n",
              "      <th>5</th>\n",
              "      <td>2018-10-06</td>\n",
              "      <td>2021-03-08 21:45:00</td>\n",
              "      <td>QUEENS</td>\n",
              "      <td>11372</td>\n",
              "      <td>40.746810</td>\n",
              "      <td>-73.891760</td>\n",
              "      <td>BROADWAY</td>\n",
              "      <td>ROOSEVELT AVENUE</td>\n",
              "      <td>0</td>\n",
              "      <td>0</td>\n",
              "      <td>0</td>\n",
              "      <td>0</td>\n",
              "      <td>0</td>\n",
              "      <td>0</td>\n",
              "      <td>0</td>\n",
              "      <td>0</td>\n",
              "      <td>DRIVER INATTENTION/DISTRACTION</td>\n",
              "      <td>UNSPECIFIED</td>\n",
              "      <td>NaN</td>\n",
              "      <td>NaN</td>\n",
              "      <td>NaN</td>\n",
              "      <td>STATION WAGON/SPORT UTILITY VEHICLE</td>\n",
              "      <td>SEDAN</td>\n",
              "      <td>NaN</td>\n",
              "      <td>NaN</td>\n",
              "      <td>NaN</td>\n",
              "    </tr>\n",
              "    <tr>\n",
              "      <th>13</th>\n",
              "      <td>2018-10-16</td>\n",
              "      <td>2021-03-08 14:30:00</td>\n",
              "      <td>MANHATTAN</td>\n",
              "      <td>10001</td>\n",
              "      <td>40.754616</td>\n",
              "      <td>-73.997116</td>\n",
              "      <td>WEST 35 STREET</td>\n",
              "      <td>DYER AVENUE</td>\n",
              "      <td>0</td>\n",
              "      <td>0</td>\n",
              "      <td>0</td>\n",
              "      <td>0</td>\n",
              "      <td>0</td>\n",
              "      <td>0</td>\n",
              "      <td>0</td>\n",
              "      <td>0</td>\n",
              "      <td>TRAFFIC CONTROL DISREGARDED</td>\n",
              "      <td>TRAFFIC CONTROL DISREGARDED</td>\n",
              "      <td>NaN</td>\n",
              "      <td>NaN</td>\n",
              "      <td>NaN</td>\n",
              "      <td>STATION WAGON/SPORT UTILITY VEHICLE</td>\n",
              "      <td>STATION WAGON/SPORT UTILITY VEHICLE</td>\n",
              "      <td>NaN</td>\n",
              "      <td>NaN</td>\n",
              "      <td>NaN</td>\n",
              "    </tr>\n",
              "    <tr>\n",
              "      <th>16</th>\n",
              "      <td>2018-10-18</td>\n",
              "      <td>2021-03-08 22:30:00</td>\n",
              "      <td>QUEENS</td>\n",
              "      <td>11364</td>\n",
              "      <td>40.745790</td>\n",
              "      <td>-73.768776</td>\n",
              "      <td>HORACE HARDING EXPRESSWAY</td>\n",
              "      <td>208 STREET</td>\n",
              "      <td>0</td>\n",
              "      <td>0</td>\n",
              "      <td>0</td>\n",
              "      <td>0</td>\n",
              "      <td>0</td>\n",
              "      <td>0</td>\n",
              "      <td>0</td>\n",
              "      <td>0</td>\n",
              "      <td>FAILURE TO YIELD RIGHT-OF-WAY</td>\n",
              "      <td>UNSPECIFIED</td>\n",
              "      <td>NaN</td>\n",
              "      <td>NaN</td>\n",
              "      <td>NaN</td>\n",
              "      <td>SEDAN</td>\n",
              "      <td>STATION WAGON/SPORT UTILITY VEHICLE</td>\n",
              "      <td>NaN</td>\n",
              "      <td>NaN</td>\n",
              "      <td>NaN</td>\n",
              "    </tr>\n",
              "  </tbody>\n",
              "</table>\n",
              "</div>"
            ],
            "text/plain": [
              "   CRASH DATE          CRASH TIME  ... VEHICLE TYPE CODE 4 VEHICLE TYPE CODE 5\n",
              "1  2018-10-06 2021-03-08 16:39:00  ...                 NaN                 NaN\n",
              "4  2018-10-13 2021-03-08 12:30:00  ...                 NaN                 NaN\n",
              "5  2018-10-06 2021-03-08 21:45:00  ...                 NaN                 NaN\n",
              "13 2018-10-16 2021-03-08 14:30:00  ...                 NaN                 NaN\n",
              "16 2018-10-18 2021-03-08 22:30:00  ...                 NaN                 NaN\n",
              "\n",
              "[5 rows x 26 columns]"
            ]
          },
          "metadata": {
            "tags": []
          },
          "execution_count": 15
        }
      ]
    },
    {
      "cell_type": "code",
      "metadata": {
        "id": "ZkEFBbDIK_We"
      },
      "source": [
        ""
      ],
      "execution_count": 15,
      "outputs": []
    }
  ]
}