{
  "nbformat": 4,
  "nbformat_minor": 0,
  "metadata": {
    "colab": {
      "name": "Project.ipynb",
      "provenance": [],
      "collapsed_sections": [
        "NLrWcRbZVe8S"
      ]
    },
    "kernelspec": {
      "name": "python3",
      "display_name": "Python 3"
    }
  },
  "cells": [
    {
      "cell_type": "markdown",
      "metadata": {
        "id": "-9ov3sXMVW4x"
      },
      "source": [
        "# MAT 328 - Final Project\r\n",
        "### Tony Lu\r\n",
        "\r\n",
        "---\r\n",
        "\r\n",
        "This project uses the [Motor Vehicle Collision](https://data.cityofnewyork.us/Public-Safety/Motor-Vehicle-Collisions-Crashes/h9gi-nx95) dataset offered by [NYC Open Data](http://opendata.cityofnewyork.us/).\r\n",
        "\r\n",
        "All data and values are dated March 2021 - the most recent date this notebook was executed. Executing this notebook at a later date may yield different results compared to what is already rendered in this notebook."
      ]
    },
    {
      "cell_type": "markdown",
      "metadata": {
        "id": "NLrWcRbZVe8S"
      },
      "source": [
        "# Project Setup"
      ]
    },
    {
      "cell_type": "markdown",
      "metadata": {
        "id": "r7MORp_yVhlL"
      },
      "source": [
        "### Import the necessary libraries"
      ]
    },
    {
      "cell_type": "code",
      "metadata": {
        "id": "wsPefb0IVf7E"
      },
      "source": [
        "import pandas as pd\r\n",
        "import numpy as np\r\n",
        "import seaborn as sns\r\n",
        "import matplotlib.pyplot as plt\r\n",
        "\r\n",
        "%matplotlib inline\r\n",
        "sns.set_theme(style='darkgrid')"
      ],
      "execution_count": null,
      "outputs": []
    },
    {
      "cell_type": "markdown",
      "metadata": {
        "id": "9irqsgc6VyPZ"
      },
      "source": [
        "### Download and load the data"
      ]
    },
    {
      "cell_type": "code",
      "metadata": {
        "colab": {
          "base_uri": "https://localhost:8080/"
        },
        "id": "2ZkMxdmHVz7r",
        "outputId": "ca588008-ba59-4daf-a0c8-c96003ca0c9a"
      },
      "source": [
        "# This might take awhile. It has 1.7 million rows after all.\r\n",
        "raw_data = pd.read_csv('https://data.cityofnewyork.us/api/views/h9gi-nx95/rows.csv?accessType=DOWNLOAD')"
      ],
      "execution_count": null,
      "outputs": [
        {
          "output_type": "stream",
          "text": [
            "/usr/local/lib/python3.7/dist-packages/IPython/core/interactiveshell.py:2718: DtypeWarning: Columns (3) have mixed types.Specify dtype option on import or set low_memory=False.\n",
            "  interactivity=interactivity, compiler=compiler, result=result)\n"
          ],
          "name": "stderr"
        }
      ]
    },
    {
      "cell_type": "code",
      "metadata": {
        "id": "qPOALH3vV5YB"
      },
      "source": [
        "df = raw_data.copy()"
      ],
      "execution_count": null,
      "outputs": []
    },
    {
      "cell_type": "markdown",
      "metadata": {
        "id": "Nr5wI7AzV_2V"
      },
      "source": [
        "### Show the data"
      ]
    },
    {
      "cell_type": "code",
      "metadata": {
        "colab": {
          "base_uri": "https://localhost:8080/",
          "height": 462
        },
        "id": "PeyHsNyuV8k3",
        "outputId": "dea40899-3ed9-4aa5-eaad-0f4fe51f4427"
      },
      "source": [
        "df.head()"
      ],
      "execution_count": null,
      "outputs": [
        {
          "output_type": "execute_result",
          "data": {
            "text/html": [
              "<div>\n",
              "<style scoped>\n",
              "    .dataframe tbody tr th:only-of-type {\n",
              "        vertical-align: middle;\n",
              "    }\n",
              "\n",
              "    .dataframe tbody tr th {\n",
              "        vertical-align: top;\n",
              "    }\n",
              "\n",
              "    .dataframe thead th {\n",
              "        text-align: right;\n",
              "    }\n",
              "</style>\n",
              "<table border=\"1\" class=\"dataframe\">\n",
              "  <thead>\n",
              "    <tr style=\"text-align: right;\">\n",
              "      <th></th>\n",
              "      <th>CRASH DATE</th>\n",
              "      <th>CRASH TIME</th>\n",
              "      <th>BOROUGH</th>\n",
              "      <th>ZIP CODE</th>\n",
              "      <th>LATITUDE</th>\n",
              "      <th>LONGITUDE</th>\n",
              "      <th>LOCATION</th>\n",
              "      <th>ON STREET NAME</th>\n",
              "      <th>CROSS STREET NAME</th>\n",
              "      <th>OFF STREET NAME</th>\n",
              "      <th>NUMBER OF PERSONS INJURED</th>\n",
              "      <th>NUMBER OF PERSONS KILLED</th>\n",
              "      <th>NUMBER OF PEDESTRIANS INJURED</th>\n",
              "      <th>NUMBER OF PEDESTRIANS KILLED</th>\n",
              "      <th>NUMBER OF CYCLIST INJURED</th>\n",
              "      <th>NUMBER OF CYCLIST KILLED</th>\n",
              "      <th>NUMBER OF MOTORIST INJURED</th>\n",
              "      <th>NUMBER OF MOTORIST KILLED</th>\n",
              "      <th>CONTRIBUTING FACTOR VEHICLE 1</th>\n",
              "      <th>CONTRIBUTING FACTOR VEHICLE 2</th>\n",
              "      <th>CONTRIBUTING FACTOR VEHICLE 3</th>\n",
              "      <th>CONTRIBUTING FACTOR VEHICLE 4</th>\n",
              "      <th>CONTRIBUTING FACTOR VEHICLE 5</th>\n",
              "      <th>COLLISION_ID</th>\n",
              "      <th>VEHICLE TYPE CODE 1</th>\n",
              "      <th>VEHICLE TYPE CODE 2</th>\n",
              "      <th>VEHICLE TYPE CODE 3</th>\n",
              "      <th>VEHICLE TYPE CODE 4</th>\n",
              "      <th>VEHICLE TYPE CODE 5</th>\n",
              "    </tr>\n",
              "  </thead>\n",
              "  <tbody>\n",
              "    <tr>\n",
              "      <th>0</th>\n",
              "      <td>10/19/2018</td>\n",
              "      <td>0:00</td>\n",
              "      <td>NaN</td>\n",
              "      <td>NaN</td>\n",
              "      <td>40.834060</td>\n",
              "      <td>-73.944885</td>\n",
              "      <td>(40.83406, -73.944885)</td>\n",
              "      <td>BROADWAY</td>\n",
              "      <td>NaN</td>\n",
              "      <td>NaN</td>\n",
              "      <td>0.0</td>\n",
              "      <td>0.0</td>\n",
              "      <td>0</td>\n",
              "      <td>0</td>\n",
              "      <td>0</td>\n",
              "      <td>0</td>\n",
              "      <td>0</td>\n",
              "      <td>0</td>\n",
              "      <td>Oversized Vehicle</td>\n",
              "      <td>Driver Inattention/Distraction</td>\n",
              "      <td>NaN</td>\n",
              "      <td>NaN</td>\n",
              "      <td>NaN</td>\n",
              "      <td>4004397</td>\n",
              "      <td>Sedan</td>\n",
              "      <td>Chassis Cab</td>\n",
              "      <td>NaN</td>\n",
              "      <td>NaN</td>\n",
              "      <td>NaN</td>\n",
              "    </tr>\n",
              "    <tr>\n",
              "      <th>1</th>\n",
              "      <td>10/06/2018</td>\n",
              "      <td>16:39</td>\n",
              "      <td>BRONX</td>\n",
              "      <td>10456</td>\n",
              "      <td>40.828194</td>\n",
              "      <td>-73.903860</td>\n",
              "      <td>(40.828194, -73.90386)</td>\n",
              "      <td>BOSTON ROAD</td>\n",
              "      <td>EAST 167 STREET</td>\n",
              "      <td>NaN</td>\n",
              "      <td>0.0</td>\n",
              "      <td>0.0</td>\n",
              "      <td>0</td>\n",
              "      <td>0</td>\n",
              "      <td>0</td>\n",
              "      <td>0</td>\n",
              "      <td>0</td>\n",
              "      <td>0</td>\n",
              "      <td>Failure to Yield Right-of-Way</td>\n",
              "      <td>Unspecified</td>\n",
              "      <td>NaN</td>\n",
              "      <td>NaN</td>\n",
              "      <td>NaN</td>\n",
              "      <td>3994805</td>\n",
              "      <td>Sedan</td>\n",
              "      <td>Sedan</td>\n",
              "      <td>NaN</td>\n",
              "      <td>NaN</td>\n",
              "      <td>NaN</td>\n",
              "    </tr>\n",
              "    <tr>\n",
              "      <th>2</th>\n",
              "      <td>10/14/2018</td>\n",
              "      <td>12:10</td>\n",
              "      <td>QUEENS</td>\n",
              "      <td>11411</td>\n",
              "      <td>40.692230</td>\n",
              "      <td>-73.727520</td>\n",
              "      <td>(40.69223, -73.72752)</td>\n",
              "      <td>NaN</td>\n",
              "      <td>NaN</td>\n",
              "      <td>116-28    234 STREET</td>\n",
              "      <td>1.0</td>\n",
              "      <td>0.0</td>\n",
              "      <td>0</td>\n",
              "      <td>0</td>\n",
              "      <td>0</td>\n",
              "      <td>0</td>\n",
              "      <td>1</td>\n",
              "      <td>0</td>\n",
              "      <td>Following Too Closely</td>\n",
              "      <td>Unspecified</td>\n",
              "      <td>Unspecified</td>\n",
              "      <td>NaN</td>\n",
              "      <td>NaN</td>\n",
              "      <td>4001451</td>\n",
              "      <td>Sedan</td>\n",
              "      <td>Sedan</td>\n",
              "      <td>Sedan</td>\n",
              "      <td>NaN</td>\n",
              "      <td>NaN</td>\n",
              "    </tr>\n",
              "    <tr>\n",
              "      <th>3</th>\n",
              "      <td>10/20/2018</td>\n",
              "      <td>19:30</td>\n",
              "      <td>NaN</td>\n",
              "      <td>NaN</td>\n",
              "      <td>40.708324</td>\n",
              "      <td>-73.843140</td>\n",
              "      <td>(40.708324, -73.84314)</td>\n",
              "      <td>JACKIE ROBINSON PKWY</td>\n",
              "      <td>NaN</td>\n",
              "      <td>NaN</td>\n",
              "      <td>0.0</td>\n",
              "      <td>0.0</td>\n",
              "      <td>0</td>\n",
              "      <td>0</td>\n",
              "      <td>0</td>\n",
              "      <td>0</td>\n",
              "      <td>0</td>\n",
              "      <td>0</td>\n",
              "      <td>Driver Inattention/Distraction</td>\n",
              "      <td>Unspecified</td>\n",
              "      <td>NaN</td>\n",
              "      <td>NaN</td>\n",
              "      <td>NaN</td>\n",
              "      <td>4004650</td>\n",
              "      <td>Station Wagon/Sport Utility Vehicle</td>\n",
              "      <td>Sedan</td>\n",
              "      <td>NaN</td>\n",
              "      <td>NaN</td>\n",
              "      <td>NaN</td>\n",
              "    </tr>\n",
              "    <tr>\n",
              "      <th>4</th>\n",
              "      <td>10/13/2018</td>\n",
              "      <td>12:30</td>\n",
              "      <td>QUEENS</td>\n",
              "      <td>11355</td>\n",
              "      <td>40.756480</td>\n",
              "      <td>-73.831360</td>\n",
              "      <td>(40.75648, -73.83136)</td>\n",
              "      <td>FRAME PLACE</td>\n",
              "      <td>41 ROAD</td>\n",
              "      <td>NaN</td>\n",
              "      <td>0.0</td>\n",
              "      <td>0.0</td>\n",
              "      <td>0</td>\n",
              "      <td>0</td>\n",
              "      <td>0</td>\n",
              "      <td>0</td>\n",
              "      <td>0</td>\n",
              "      <td>0</td>\n",
              "      <td>Passing Too Closely</td>\n",
              "      <td>Unspecified</td>\n",
              "      <td>NaN</td>\n",
              "      <td>NaN</td>\n",
              "      <td>NaN</td>\n",
              "      <td>3999269</td>\n",
              "      <td>Station Wagon/Sport Utility Vehicle</td>\n",
              "      <td>FLATB</td>\n",
              "      <td>NaN</td>\n",
              "      <td>NaN</td>\n",
              "      <td>NaN</td>\n",
              "    </tr>\n",
              "  </tbody>\n",
              "</table>\n",
              "</div>"
            ],
            "text/plain": [
              "   CRASH DATE CRASH TIME  ... VEHICLE TYPE CODE 4 VEHICLE TYPE CODE 5\n",
              "0  10/19/2018       0:00  ...                 NaN                 NaN\n",
              "1  10/06/2018      16:39  ...                 NaN                 NaN\n",
              "2  10/14/2018      12:10  ...                 NaN                 NaN\n",
              "3  10/20/2018      19:30  ...                 NaN                 NaN\n",
              "4  10/13/2018      12:30  ...                 NaN                 NaN\n",
              "\n",
              "[5 rows x 29 columns]"
            ]
          },
          "metadata": {
            "tags": []
          },
          "execution_count": 48
        }
      ]
    },
    {
      "cell_type": "code",
      "metadata": {
        "colab": {
          "base_uri": "https://localhost:8080/"
        },
        "id": "L-QslvyKWbD-",
        "outputId": "ee19200a-c645-4295-d3e2-1b48ddf47bda"
      },
      "source": [
        "# Show size of the data\r\n",
        "print(f'Rows: {df.shape[0]} | Columns: {df.shape[1]}')"
      ],
      "execution_count": null,
      "outputs": [
        {
          "output_type": "stream",
          "text": [
            "Rows: 1759556 | Columns: 29\n"
          ],
          "name": "stdout"
        }
      ]
    },
    {
      "cell_type": "code",
      "metadata": {
        "colab": {
          "base_uri": "https://localhost:8080/",
          "height": 478
        },
        "id": "XCS2znFyWtRT",
        "outputId": "329a6427-01e6-47fd-dbb7-e22aa965f75f"
      },
      "source": [
        "df.describe(include='all')"
      ],
      "execution_count": null,
      "outputs": [
        {
          "output_type": "execute_result",
          "data": {
            "text/html": [
              "<div>\n",
              "<style scoped>\n",
              "    .dataframe tbody tr th:only-of-type {\n",
              "        vertical-align: middle;\n",
              "    }\n",
              "\n",
              "    .dataframe tbody tr th {\n",
              "        vertical-align: top;\n",
              "    }\n",
              "\n",
              "    .dataframe thead th {\n",
              "        text-align: right;\n",
              "    }\n",
              "</style>\n",
              "<table border=\"1\" class=\"dataframe\">\n",
              "  <thead>\n",
              "    <tr style=\"text-align: right;\">\n",
              "      <th></th>\n",
              "      <th>CRASH DATE</th>\n",
              "      <th>CRASH TIME</th>\n",
              "      <th>BOROUGH</th>\n",
              "      <th>ZIP CODE</th>\n",
              "      <th>LATITUDE</th>\n",
              "      <th>LONGITUDE</th>\n",
              "      <th>LOCATION</th>\n",
              "      <th>ON STREET NAME</th>\n",
              "      <th>CROSS STREET NAME</th>\n",
              "      <th>OFF STREET NAME</th>\n",
              "      <th>NUMBER OF PERSONS INJURED</th>\n",
              "      <th>NUMBER OF PERSONS KILLED</th>\n",
              "      <th>NUMBER OF PEDESTRIANS INJURED</th>\n",
              "      <th>NUMBER OF PEDESTRIANS KILLED</th>\n",
              "      <th>NUMBER OF CYCLIST INJURED</th>\n",
              "      <th>NUMBER OF CYCLIST KILLED</th>\n",
              "      <th>NUMBER OF MOTORIST INJURED</th>\n",
              "      <th>NUMBER OF MOTORIST KILLED</th>\n",
              "      <th>CONTRIBUTING FACTOR VEHICLE 1</th>\n",
              "      <th>CONTRIBUTING FACTOR VEHICLE 2</th>\n",
              "      <th>CONTRIBUTING FACTOR VEHICLE 3</th>\n",
              "      <th>CONTRIBUTING FACTOR VEHICLE 4</th>\n",
              "      <th>CONTRIBUTING FACTOR VEHICLE 5</th>\n",
              "      <th>COLLISION_ID</th>\n",
              "      <th>VEHICLE TYPE CODE 1</th>\n",
              "      <th>VEHICLE TYPE CODE 2</th>\n",
              "      <th>VEHICLE TYPE CODE 3</th>\n",
              "      <th>VEHICLE TYPE CODE 4</th>\n",
              "      <th>VEHICLE TYPE CODE 5</th>\n",
              "    </tr>\n",
              "  </thead>\n",
              "  <tbody>\n",
              "    <tr>\n",
              "      <th>count</th>\n",
              "      <td>1759556</td>\n",
              "      <td>1759556</td>\n",
              "      <td>1219220</td>\n",
              "      <td>1219009.0</td>\n",
              "      <td>1.550996e+06</td>\n",
              "      <td>1.550996e+06</td>\n",
              "      <td>1550996</td>\n",
              "      <td>1405116</td>\n",
              "      <td>1141381</td>\n",
              "      <td>262072</td>\n",
              "      <td>1.759538e+06</td>\n",
              "      <td>1.759525e+06</td>\n",
              "      <td>1.759556e+06</td>\n",
              "      <td>1.759556e+06</td>\n",
              "      <td>1.759556e+06</td>\n",
              "      <td>1.759556e+06</td>\n",
              "      <td>1.759556e+06</td>\n",
              "      <td>1.759556e+06</td>\n",
              "      <td>1754613</td>\n",
              "      <td>1510702</td>\n",
              "      <td>117778</td>\n",
              "      <td>25315</td>\n",
              "      <td>6609</td>\n",
              "      <td>1.759556e+06</td>\n",
              "      <td>1750309</td>\n",
              "      <td>1468911</td>\n",
              "      <td>114591</td>\n",
              "      <td>24603</td>\n",
              "      <td>6435</td>\n",
              "    </tr>\n",
              "    <tr>\n",
              "      <th>unique</th>\n",
              "      <td>3167</td>\n",
              "      <td>1440</td>\n",
              "      <td>5</td>\n",
              "      <td>421.0</td>\n",
              "      <td>NaN</td>\n",
              "      <td>NaN</td>\n",
              "      <td>228157</td>\n",
              "      <td>12095</td>\n",
              "      <td>18866</td>\n",
              "      <td>160483</td>\n",
              "      <td>NaN</td>\n",
              "      <td>NaN</td>\n",
              "      <td>NaN</td>\n",
              "      <td>NaN</td>\n",
              "      <td>NaN</td>\n",
              "      <td>NaN</td>\n",
              "      <td>NaN</td>\n",
              "      <td>NaN</td>\n",
              "      <td>61</td>\n",
              "      <td>61</td>\n",
              "      <td>50</td>\n",
              "      <td>39</td>\n",
              "      <td>29</td>\n",
              "      <td>NaN</td>\n",
              "      <td>1196</td>\n",
              "      <td>1291</td>\n",
              "      <td>182</td>\n",
              "      <td>74</td>\n",
              "      <td>53</td>\n",
              "    </tr>\n",
              "    <tr>\n",
              "      <th>top</th>\n",
              "      <td>01/21/2014</td>\n",
              "      <td>16:00</td>\n",
              "      <td>BROOKLYN</td>\n",
              "      <td>11207.0</td>\n",
              "      <td>NaN</td>\n",
              "      <td>NaN</td>\n",
              "      <td>(0.0, 0.0)</td>\n",
              "      <td>BROADWAY</td>\n",
              "      <td>3 AVENUE</td>\n",
              "      <td>772       EDGEWATER ROAD</td>\n",
              "      <td>NaN</td>\n",
              "      <td>NaN</td>\n",
              "      <td>NaN</td>\n",
              "      <td>NaN</td>\n",
              "      <td>NaN</td>\n",
              "      <td>NaN</td>\n",
              "      <td>NaN</td>\n",
              "      <td>NaN</td>\n",
              "      <td>Unspecified</td>\n",
              "      <td>Unspecified</td>\n",
              "      <td>Unspecified</td>\n",
              "      <td>Unspecified</td>\n",
              "      <td>Unspecified</td>\n",
              "      <td>NaN</td>\n",
              "      <td>Sedan</td>\n",
              "      <td>PASSENGER VEHICLE</td>\n",
              "      <td>Sedan</td>\n",
              "      <td>Sedan</td>\n",
              "      <td>Sedan</td>\n",
              "    </tr>\n",
              "    <tr>\n",
              "      <th>freq</th>\n",
              "      <td>1161</td>\n",
              "      <td>25440</td>\n",
              "      <td>382027</td>\n",
              "      <td>15001.0</td>\n",
              "      <td>NaN</td>\n",
              "      <td>NaN</td>\n",
              "      <td>1280</td>\n",
              "      <td>17196</td>\n",
              "      <td>9843</td>\n",
              "      <td>402</td>\n",
              "      <td>NaN</td>\n",
              "      <td>NaN</td>\n",
              "      <td>NaN</td>\n",
              "      <td>NaN</td>\n",
              "      <td>NaN</td>\n",
              "      <td>NaN</td>\n",
              "      <td>NaN</td>\n",
              "      <td>NaN</td>\n",
              "      <td>630355</td>\n",
              "      <td>1270148</td>\n",
              "      <td>109597</td>\n",
              "      <td>23864</td>\n",
              "      <td>6224</td>\n",
              "      <td>NaN</td>\n",
              "      <td>429376</td>\n",
              "      <td>318607</td>\n",
              "      <td>30538</td>\n",
              "      <td>7028</td>\n",
              "      <td>1899</td>\n",
              "    </tr>\n",
              "    <tr>\n",
              "      <th>mean</th>\n",
              "      <td>NaN</td>\n",
              "      <td>NaN</td>\n",
              "      <td>NaN</td>\n",
              "      <td>NaN</td>\n",
              "      <td>4.069056e+01</td>\n",
              "      <td>-7.386784e+01</td>\n",
              "      <td>NaN</td>\n",
              "      <td>NaN</td>\n",
              "      <td>NaN</td>\n",
              "      <td>NaN</td>\n",
              "      <td>2.726687e-01</td>\n",
              "      <td>1.255452e-03</td>\n",
              "      <td>5.147094e-02</td>\n",
              "      <td>6.603939e-04</td>\n",
              "      <td>2.280973e-02</td>\n",
              "      <td>9.547863e-05</td>\n",
              "      <td>1.982233e-01</td>\n",
              "      <td>4.984212e-04</td>\n",
              "      <td>NaN</td>\n",
              "      <td>NaN</td>\n",
              "      <td>NaN</td>\n",
              "      <td>NaN</td>\n",
              "      <td>NaN</td>\n",
              "      <td>2.909304e+06</td>\n",
              "      <td>NaN</td>\n",
              "      <td>NaN</td>\n",
              "      <td>NaN</td>\n",
              "      <td>NaN</td>\n",
              "      <td>NaN</td>\n",
              "    </tr>\n",
              "    <tr>\n",
              "      <th>std</th>\n",
              "      <td>NaN</td>\n",
              "      <td>NaN</td>\n",
              "      <td>NaN</td>\n",
              "      <td>NaN</td>\n",
              "      <td>1.172107e+00</td>\n",
              "      <td>2.375114e+00</td>\n",
              "      <td>NaN</td>\n",
              "      <td>NaN</td>\n",
              "      <td>NaN</td>\n",
              "      <td>NaN</td>\n",
              "      <td>6.679621e-01</td>\n",
              "      <td>3.746889e-02</td>\n",
              "      <td>2.333875e-01</td>\n",
              "      <td>2.623689e-02</td>\n",
              "      <td>1.508869e-01</td>\n",
              "      <td>9.828846e-03</td>\n",
              "      <td>6.297285e-01</td>\n",
              "      <td>2.441158e-02</td>\n",
              "      <td>NaN</td>\n",
              "      <td>NaN</td>\n",
              "      <td>NaN</td>\n",
              "      <td>NaN</td>\n",
              "      <td>NaN</td>\n",
              "      <td>1.502984e+06</td>\n",
              "      <td>NaN</td>\n",
              "      <td>NaN</td>\n",
              "      <td>NaN</td>\n",
              "      <td>NaN</td>\n",
              "      <td>NaN</td>\n",
              "    </tr>\n",
              "    <tr>\n",
              "      <th>min</th>\n",
              "      <td>NaN</td>\n",
              "      <td>NaN</td>\n",
              "      <td>NaN</td>\n",
              "      <td>NaN</td>\n",
              "      <td>0.000000e+00</td>\n",
              "      <td>-2.013600e+02</td>\n",
              "      <td>NaN</td>\n",
              "      <td>NaN</td>\n",
              "      <td>NaN</td>\n",
              "      <td>NaN</td>\n",
              "      <td>0.000000e+00</td>\n",
              "      <td>0.000000e+00</td>\n",
              "      <td>0.000000e+00</td>\n",
              "      <td>0.000000e+00</td>\n",
              "      <td>0.000000e+00</td>\n",
              "      <td>0.000000e+00</td>\n",
              "      <td>0.000000e+00</td>\n",
              "      <td>0.000000e+00</td>\n",
              "      <td>NaN</td>\n",
              "      <td>NaN</td>\n",
              "      <td>NaN</td>\n",
              "      <td>NaN</td>\n",
              "      <td>NaN</td>\n",
              "      <td>2.200000e+01</td>\n",
              "      <td>NaN</td>\n",
              "      <td>NaN</td>\n",
              "      <td>NaN</td>\n",
              "      <td>NaN</td>\n",
              "      <td>NaN</td>\n",
              "    </tr>\n",
              "    <tr>\n",
              "      <th>25%</th>\n",
              "      <td>NaN</td>\n",
              "      <td>NaN</td>\n",
              "      <td>NaN</td>\n",
              "      <td>NaN</td>\n",
              "      <td>4.066862e+01</td>\n",
              "      <td>-7.397605e+01</td>\n",
              "      <td>NaN</td>\n",
              "      <td>NaN</td>\n",
              "      <td>NaN</td>\n",
              "      <td>NaN</td>\n",
              "      <td>0.000000e+00</td>\n",
              "      <td>0.000000e+00</td>\n",
              "      <td>0.000000e+00</td>\n",
              "      <td>0.000000e+00</td>\n",
              "      <td>0.000000e+00</td>\n",
              "      <td>0.000000e+00</td>\n",
              "      <td>0.000000e+00</td>\n",
              "      <td>0.000000e+00</td>\n",
              "      <td>NaN</td>\n",
              "      <td>NaN</td>\n",
              "      <td>NaN</td>\n",
              "      <td>NaN</td>\n",
              "      <td>NaN</td>\n",
              "      <td>2.865733e+06</td>\n",
              "      <td>NaN</td>\n",
              "      <td>NaN</td>\n",
              "      <td>NaN</td>\n",
              "      <td>NaN</td>\n",
              "      <td>NaN</td>\n",
              "    </tr>\n",
              "    <tr>\n",
              "      <th>50%</th>\n",
              "      <td>NaN</td>\n",
              "      <td>NaN</td>\n",
              "      <td>NaN</td>\n",
              "      <td>NaN</td>\n",
              "      <td>4.072218e+01</td>\n",
              "      <td>-7.392844e+01</td>\n",
              "      <td>NaN</td>\n",
              "      <td>NaN</td>\n",
              "      <td>NaN</td>\n",
              "      <td>NaN</td>\n",
              "      <td>0.000000e+00</td>\n",
              "      <td>0.000000e+00</td>\n",
              "      <td>0.000000e+00</td>\n",
              "      <td>0.000000e+00</td>\n",
              "      <td>0.000000e+00</td>\n",
              "      <td>0.000000e+00</td>\n",
              "      <td>0.000000e+00</td>\n",
              "      <td>0.000000e+00</td>\n",
              "      <td>NaN</td>\n",
              "      <td>NaN</td>\n",
              "      <td>NaN</td>\n",
              "      <td>NaN</td>\n",
              "      <td>NaN</td>\n",
              "      <td>3.515936e+06</td>\n",
              "      <td>NaN</td>\n",
              "      <td>NaN</td>\n",
              "      <td>NaN</td>\n",
              "      <td>NaN</td>\n",
              "      <td>NaN</td>\n",
              "    </tr>\n",
              "    <tr>\n",
              "      <th>75%</th>\n",
              "      <td>NaN</td>\n",
              "      <td>NaN</td>\n",
              "      <td>NaN</td>\n",
              "      <td>NaN</td>\n",
              "      <td>4.076881e+01</td>\n",
              "      <td>-7.386667e+01</td>\n",
              "      <td>NaN</td>\n",
              "      <td>NaN</td>\n",
              "      <td>NaN</td>\n",
              "      <td>NaN</td>\n",
              "      <td>0.000000e+00</td>\n",
              "      <td>0.000000e+00</td>\n",
              "      <td>0.000000e+00</td>\n",
              "      <td>0.000000e+00</td>\n",
              "      <td>0.000000e+00</td>\n",
              "      <td>0.000000e+00</td>\n",
              "      <td>0.000000e+00</td>\n",
              "      <td>0.000000e+00</td>\n",
              "      <td>NaN</td>\n",
              "      <td>NaN</td>\n",
              "      <td>NaN</td>\n",
              "      <td>NaN</td>\n",
              "      <td>NaN</td>\n",
              "      <td>3.956062e+06</td>\n",
              "      <td>NaN</td>\n",
              "      <td>NaN</td>\n",
              "      <td>NaN</td>\n",
              "      <td>NaN</td>\n",
              "      <td>NaN</td>\n",
              "    </tr>\n",
              "    <tr>\n",
              "      <th>max</th>\n",
              "      <td>NaN</td>\n",
              "      <td>NaN</td>\n",
              "      <td>NaN</td>\n",
              "      <td>NaN</td>\n",
              "      <td>4.334444e+01</td>\n",
              "      <td>0.000000e+00</td>\n",
              "      <td>NaN</td>\n",
              "      <td>NaN</td>\n",
              "      <td>NaN</td>\n",
              "      <td>NaN</td>\n",
              "      <td>4.300000e+01</td>\n",
              "      <td>8.000000e+00</td>\n",
              "      <td>2.700000e+01</td>\n",
              "      <td>6.000000e+00</td>\n",
              "      <td>4.000000e+00</td>\n",
              "      <td>2.000000e+00</td>\n",
              "      <td>4.300000e+01</td>\n",
              "      <td>5.000000e+00</td>\n",
              "      <td>NaN</td>\n",
              "      <td>NaN</td>\n",
              "      <td>NaN</td>\n",
              "      <td>NaN</td>\n",
              "      <td>NaN</td>\n",
              "      <td>4.396358e+06</td>\n",
              "      <td>NaN</td>\n",
              "      <td>NaN</td>\n",
              "      <td>NaN</td>\n",
              "      <td>NaN</td>\n",
              "      <td>NaN</td>\n",
              "    </tr>\n",
              "  </tbody>\n",
              "</table>\n",
              "</div>"
            ],
            "text/plain": [
              "        CRASH DATE CRASH TIME  ... VEHICLE TYPE CODE 4  VEHICLE TYPE CODE 5\n",
              "count      1759556    1759556  ...               24603                 6435\n",
              "unique        3167       1440  ...                  74                   53\n",
              "top     01/21/2014      16:00  ...               Sedan                Sedan\n",
              "freq          1161      25440  ...                7028                 1899\n",
              "mean           NaN        NaN  ...                 NaN                  NaN\n",
              "std            NaN        NaN  ...                 NaN                  NaN\n",
              "min            NaN        NaN  ...                 NaN                  NaN\n",
              "25%            NaN        NaN  ...                 NaN                  NaN\n",
              "50%            NaN        NaN  ...                 NaN                  NaN\n",
              "75%            NaN        NaN  ...                 NaN                  NaN\n",
              "max            NaN        NaN  ...                 NaN                  NaN\n",
              "\n",
              "[11 rows x 29 columns]"
            ]
          },
          "metadata": {
            "tags": []
          },
          "execution_count": 50
        }
      ]
    },
    {
      "cell_type": "markdown",
      "metadata": {
        "id": "cjmXeJXnkEL3"
      },
      "source": [
        "### Data Handling\r\n",
        "- Clean up unneeded data\r\n",
        "- Make sure the correct dtypes are being used\r\n",
        "- Handle missing data"
      ]
    },
    {
      "cell_type": "markdown",
      "metadata": {
        "id": "dVZfSzcDlqxZ"
      },
      "source": [
        "#### Unneeded data"
      ]
    },
    {
      "cell_type": "code",
      "metadata": {
        "id": "ZENlInJkkFrX"
      },
      "source": [
        "# We don't need COLLISION_ID as its more of a unique identifier for internal use\r\n",
        "# LOCATION is just a combination of LONGITUDE and LATITUDE, having either is fine\r\n",
        "df.drop(['COLLISION_ID', 'LOCATION'], axis=1, inplace=True)"
      ],
      "execution_count": null,
      "outputs": []
    },
    {
      "cell_type": "markdown",
      "metadata": {
        "id": "WZDGxKLllsUJ"
      },
      "source": [
        "#### Check and handle missing values"
      ]
    },
    {
      "cell_type": "code",
      "metadata": {
        "colab": {
          "base_uri": "https://localhost:8080/"
        },
        "id": "m280eI0fliT-",
        "outputId": "b8ab04e7-9e02-4fc1-9107-46580ba2be5c"
      },
      "source": [
        "# Check which columns have missing values\r\n",
        "nulls = df.isnull().sum()\r\n",
        "nulls[nulls > 0]"
      ],
      "execution_count": null,
      "outputs": [
        {
          "output_type": "execute_result",
          "data": {
            "text/plain": [
              "BOROUGH                           540336\n",
              "ZIP CODE                          540547\n",
              "LATITUDE                          208560\n",
              "LONGITUDE                         208560\n",
              "ON STREET NAME                    354440\n",
              "CROSS STREET NAME                 618175\n",
              "OFF STREET NAME                  1497484\n",
              "NUMBER OF PERSONS INJURED             18\n",
              "NUMBER OF PERSONS KILLED              31\n",
              "CONTRIBUTING FACTOR VEHICLE 1       4943\n",
              "CONTRIBUTING FACTOR VEHICLE 2     248854\n",
              "CONTRIBUTING FACTOR VEHICLE 3    1641778\n",
              "CONTRIBUTING FACTOR VEHICLE 4    1734241\n",
              "CONTRIBUTING FACTOR VEHICLE 5    1752947\n",
              "VEHICLE TYPE CODE 1                 9247\n",
              "VEHICLE TYPE CODE 2               290645\n",
              "VEHICLE TYPE CODE 3              1644965\n",
              "VEHICLE TYPE CODE 4              1734953\n",
              "VEHICLE TYPE CODE 5              1753121\n",
              "dtype: int64"
            ]
          },
          "metadata": {
            "tags": []
          },
          "execution_count": 52
        }
      ]
    },
    {
      "cell_type": "markdown",
      "metadata": {
        "id": "UE6Psj53lvVm"
      },
      "source": [
        "`CONTRIBUTING FACTOR VEHICLE` and `VEHICLE TYPE CODE` are used to identify the vehicle involved in the collision as well as the vehicle's role in the collision. \r\n",
        "\r\n",
        "`CONTRIBUTING FACTOR VEHICLE` and `VEHICLE TYPE CODE` can be kept as null. For a particular collision with 2 vehicles, The data should include information for these two vehicles but vehicles 3, 4, and 5 should be empty - it would make sense that values are missing from these columns."
      ]
    },
    {
      "cell_type": "code",
      "metadata": {
        "id": "tYS6CcFTlnea"
      },
      "source": [
        "# Drop missing values\r\n",
        "# OFF STREET NAME has too many missing values for us to take care of.\r\n",
        "# With over 1.4 million missing values, it's over 80% of the data.\r\n",
        "df.drop('OFF STREET NAME', axis=1, inplace=True)\r\n",
        "\r\n",
        "# The data serves us no purpose if the geo-coordinates are missing.\r\n",
        "# The coords can be used to retrieve info about borough, street, ZIP code\r\n",
        "df.dropna(how='any', subset=['LATITUDE', 'LONGITUDE'], inplace=True)"
      ],
      "execution_count": null,
      "outputs": []
    },
    {
      "cell_type": "code",
      "metadata": {
        "id": "MteJ8OMglyt0"
      },
      "source": [
        "# Impute missing values\r\n",
        "\r\n",
        "# For \"NUMBER OF PERSONS INJURED\" and \"NUMBER OF PERSONS KILLED\",\r\n",
        "# There is only a small amount of values missing which makes it easy for us to impute it\r\n",
        "\r\n",
        "# Impute \"NUMBER OF PERSONS INJURED\" via mean\r\n",
        "injured_mean = df['NUMBER OF PERSONS INJURED'].mean()\r\n",
        "df['NUMBER OF PERSONS INJURED'].replace(np.nan, injured_mean, inplace=True)\r\n",
        "\r\n",
        "# Impute \"NUMBER OF PERSONS KILLED\" via mean\r\n",
        "killed_mean = df['NUMBER OF PERSONS KILLED'].mean()\r\n",
        "df['NUMBER OF PERSONS KILLED'].replace(np.nan, killed_mean, inplace=True)"
      ],
      "execution_count": null,
      "outputs": []
    },
    {
      "cell_type": "markdown",
      "metadata": {
        "id": "tgl7O933mNLD"
      },
      "source": [
        "The next few columns to worry about are `ZIP CODE`, `BOROUGH`, and `ON STREET NAME`. If we check the number of records with values missing in any of the 3 columns, we will see that there is about 600,000 values missing in total. Or about 35% of the total data - which is a big chunk of the total data but not enough to leave a huge impact if we drop them. By dropping them, we'll still have about 1 million left."
      ]
    },
    {
      "cell_type": "code",
      "metadata": {
        "colab": {
          "base_uri": "https://localhost:8080/"
        },
        "id": "JPCJO4YpIC1e",
        "outputId": "562e5012-4e9a-44d1-a3eb-d46aa40f9b14"
      },
      "source": [
        "filter = df[['ZIP CODE', 'BOROUGH', 'ON STREET NAME']].isnull().any(1)\r\n",
        "df[filter].shape"
      ],
      "execution_count": null,
      "outputs": [
        {
          "output_type": "execute_result",
          "data": {
            "text/plain": [
              "(589558, 26)"
            ]
          },
          "metadata": {
            "tags": []
          },
          "execution_count": 55
        }
      ]
    },
    {
      "cell_type": "code",
      "metadata": {
        "colab": {
          "base_uri": "https://localhost:8080/"
        },
        "id": "Md8lPFKemOEU",
        "outputId": "439b6f26-89e3-44b5-b0d6-c6e301316536"
      },
      "source": [
        "df.dropna(how='any', subset=['ZIP CODE', 'BOROUGH', 'ON STREET NAME'], inplace=True)\r\n",
        "df.shape"
      ],
      "execution_count": null,
      "outputs": [
        {
          "output_type": "execute_result",
          "data": {
            "text/plain": [
              "(961438, 26)"
            ]
          },
          "metadata": {
            "tags": []
          },
          "execution_count": 56
        }
      ]
    },
    {
      "cell_type": "markdown",
      "metadata": {
        "id": "moy2A6VBiIu7"
      },
      "source": [
        "#### Check dtypes"
      ]
    },
    {
      "cell_type": "code",
      "metadata": {
        "colab": {
          "base_uri": "https://localhost:8080/"
        },
        "id": "zcxzzArQiMfS",
        "outputId": "72f7414a-4bd0-4718-cf21-02a0050208bf"
      },
      "source": [
        "df.dtypes"
      ],
      "execution_count": null,
      "outputs": [
        {
          "output_type": "execute_result",
          "data": {
            "text/plain": [
              "CRASH DATE                        object\n",
              "CRASH TIME                        object\n",
              "BOROUGH                           object\n",
              "ZIP CODE                          object\n",
              "LATITUDE                         float64\n",
              "LONGITUDE                        float64\n",
              "ON STREET NAME                    object\n",
              "CROSS STREET NAME                 object\n",
              "NUMBER OF PERSONS INJURED        float64\n",
              "NUMBER OF PERSONS KILLED         float64\n",
              "NUMBER OF PEDESTRIANS INJURED      int64\n",
              "NUMBER OF PEDESTRIANS KILLED       int64\n",
              "NUMBER OF CYCLIST INJURED          int64\n",
              "NUMBER OF CYCLIST KILLED           int64\n",
              "NUMBER OF MOTORIST INJURED         int64\n",
              "NUMBER OF MOTORIST KILLED          int64\n",
              "CONTRIBUTING FACTOR VEHICLE 1     object\n",
              "CONTRIBUTING FACTOR VEHICLE 2     object\n",
              "CONTRIBUTING FACTOR VEHICLE 3     object\n",
              "CONTRIBUTING FACTOR VEHICLE 4     object\n",
              "CONTRIBUTING FACTOR VEHICLE 5     object\n",
              "VEHICLE TYPE CODE 1               object\n",
              "VEHICLE TYPE CODE 2               object\n",
              "VEHICLE TYPE CODE 3               object\n",
              "VEHICLE TYPE CODE 4               object\n",
              "VEHICLE TYPE CODE 5               object\n",
              "dtype: object"
            ]
          },
          "metadata": {
            "tags": []
          },
          "execution_count": 57
        }
      ]
    },
    {
      "cell_type": "code",
      "metadata": {
        "id": "KECRApJGRYu4"
      },
      "source": [
        "# Fix the dtypes\r\n",
        "\r\n",
        "df['CRASH DATE'] = pd.to_datetime(df['CRASH DATE'])\r\n",
        "df['CRASH TIME'] = pd.to_datetime(df['CRASH TIME'])\r\n",
        "\r\n",
        "# These should be ints, not floats - can't have half a person dead\r\n",
        "df['NUMBER OF PERSONS INJURED'] = df['NUMBER OF PERSONS INJURED'].astype(int)\r\n",
        "df['NUMBER OF PERSONS KILLED'] = df['NUMBER OF PERSONS KILLED'].astype(int)"
      ],
      "execution_count": null,
      "outputs": []
    },
    {
      "cell_type": "markdown",
      "metadata": {
        "id": "N_mC9r6KrHB7"
      },
      "source": [
        "#### Miscellaneous Cleanup"
      ]
    },
    {
      "cell_type": "code",
      "metadata": {
        "colab": {
          "base_uri": "https://localhost:8080/",
          "height": 513
        },
        "id": "zlodg4cgq8TX",
        "outputId": "f15ed20e-4e09-4de3-954e-be499a39221a"
      },
      "source": [
        "# Convert everything to uppercase to be consistent\r\n",
        "# This might take a few seconds or minutes depending on system\r\n",
        "# Took about ~10 seconds via Google Colab\r\n",
        "df = df.applymap(lambda s:s.upper() if type(s) == str else s)\r\n",
        "df.head()"
      ],
      "execution_count": null,
      "outputs": [
        {
          "output_type": "execute_result",
          "data": {
            "text/html": [
              "<div>\n",
              "<style scoped>\n",
              "    .dataframe tbody tr th:only-of-type {\n",
              "        vertical-align: middle;\n",
              "    }\n",
              "\n",
              "    .dataframe tbody tr th {\n",
              "        vertical-align: top;\n",
              "    }\n",
              "\n",
              "    .dataframe thead th {\n",
              "        text-align: right;\n",
              "    }\n",
              "</style>\n",
              "<table border=\"1\" class=\"dataframe\">\n",
              "  <thead>\n",
              "    <tr style=\"text-align: right;\">\n",
              "      <th></th>\n",
              "      <th>CRASH DATE</th>\n",
              "      <th>CRASH TIME</th>\n",
              "      <th>BOROUGH</th>\n",
              "      <th>ZIP CODE</th>\n",
              "      <th>LATITUDE</th>\n",
              "      <th>LONGITUDE</th>\n",
              "      <th>ON STREET NAME</th>\n",
              "      <th>CROSS STREET NAME</th>\n",
              "      <th>NUMBER OF PERSONS INJURED</th>\n",
              "      <th>NUMBER OF PERSONS KILLED</th>\n",
              "      <th>NUMBER OF PEDESTRIANS INJURED</th>\n",
              "      <th>NUMBER OF PEDESTRIANS KILLED</th>\n",
              "      <th>NUMBER OF CYCLIST INJURED</th>\n",
              "      <th>NUMBER OF CYCLIST KILLED</th>\n",
              "      <th>NUMBER OF MOTORIST INJURED</th>\n",
              "      <th>NUMBER OF MOTORIST KILLED</th>\n",
              "      <th>CONTRIBUTING FACTOR VEHICLE 1</th>\n",
              "      <th>CONTRIBUTING FACTOR VEHICLE 2</th>\n",
              "      <th>CONTRIBUTING FACTOR VEHICLE 3</th>\n",
              "      <th>CONTRIBUTING FACTOR VEHICLE 4</th>\n",
              "      <th>CONTRIBUTING FACTOR VEHICLE 5</th>\n",
              "      <th>VEHICLE TYPE CODE 1</th>\n",
              "      <th>VEHICLE TYPE CODE 2</th>\n",
              "      <th>VEHICLE TYPE CODE 3</th>\n",
              "      <th>VEHICLE TYPE CODE 4</th>\n",
              "      <th>VEHICLE TYPE CODE 5</th>\n",
              "    </tr>\n",
              "  </thead>\n",
              "  <tbody>\n",
              "    <tr>\n",
              "      <th>1</th>\n",
              "      <td>2018-10-06</td>\n",
              "      <td>2021-03-08 16:39:00</td>\n",
              "      <td>BRONX</td>\n",
              "      <td>10456</td>\n",
              "      <td>40.828194</td>\n",
              "      <td>-73.903860</td>\n",
              "      <td>BOSTON ROAD</td>\n",
              "      <td>EAST 167 STREET</td>\n",
              "      <td>0</td>\n",
              "      <td>0</td>\n",
              "      <td>0</td>\n",
              "      <td>0</td>\n",
              "      <td>0</td>\n",
              "      <td>0</td>\n",
              "      <td>0</td>\n",
              "      <td>0</td>\n",
              "      <td>FAILURE TO YIELD RIGHT-OF-WAY</td>\n",
              "      <td>UNSPECIFIED</td>\n",
              "      <td>NaN</td>\n",
              "      <td>NaN</td>\n",
              "      <td>NaN</td>\n",
              "      <td>SEDAN</td>\n",
              "      <td>SEDAN</td>\n",
              "      <td>NaN</td>\n",
              "      <td>NaN</td>\n",
              "      <td>NaN</td>\n",
              "    </tr>\n",
              "    <tr>\n",
              "      <th>4</th>\n",
              "      <td>2018-10-13</td>\n",
              "      <td>2021-03-08 12:30:00</td>\n",
              "      <td>QUEENS</td>\n",
              "      <td>11355</td>\n",
              "      <td>40.756480</td>\n",
              "      <td>-73.831360</td>\n",
              "      <td>FRAME PLACE</td>\n",
              "      <td>41 ROAD</td>\n",
              "      <td>0</td>\n",
              "      <td>0</td>\n",
              "      <td>0</td>\n",
              "      <td>0</td>\n",
              "      <td>0</td>\n",
              "      <td>0</td>\n",
              "      <td>0</td>\n",
              "      <td>0</td>\n",
              "      <td>PASSING TOO CLOSELY</td>\n",
              "      <td>UNSPECIFIED</td>\n",
              "      <td>NaN</td>\n",
              "      <td>NaN</td>\n",
              "      <td>NaN</td>\n",
              "      <td>STATION WAGON/SPORT UTILITY VEHICLE</td>\n",
              "      <td>FLATB</td>\n",
              "      <td>NaN</td>\n",
              "      <td>NaN</td>\n",
              "      <td>NaN</td>\n",
              "    </tr>\n",
              "    <tr>\n",
              "      <th>5</th>\n",
              "      <td>2018-10-06</td>\n",
              "      <td>2021-03-08 21:45:00</td>\n",
              "      <td>QUEENS</td>\n",
              "      <td>11372</td>\n",
              "      <td>40.746810</td>\n",
              "      <td>-73.891760</td>\n",
              "      <td>BROADWAY</td>\n",
              "      <td>ROOSEVELT AVENUE</td>\n",
              "      <td>0</td>\n",
              "      <td>0</td>\n",
              "      <td>0</td>\n",
              "      <td>0</td>\n",
              "      <td>0</td>\n",
              "      <td>0</td>\n",
              "      <td>0</td>\n",
              "      <td>0</td>\n",
              "      <td>DRIVER INATTENTION/DISTRACTION</td>\n",
              "      <td>UNSPECIFIED</td>\n",
              "      <td>NaN</td>\n",
              "      <td>NaN</td>\n",
              "      <td>NaN</td>\n",
              "      <td>STATION WAGON/SPORT UTILITY VEHICLE</td>\n",
              "      <td>SEDAN</td>\n",
              "      <td>NaN</td>\n",
              "      <td>NaN</td>\n",
              "      <td>NaN</td>\n",
              "    </tr>\n",
              "    <tr>\n",
              "      <th>13</th>\n",
              "      <td>2018-10-16</td>\n",
              "      <td>2021-03-08 14:30:00</td>\n",
              "      <td>MANHATTAN</td>\n",
              "      <td>10001</td>\n",
              "      <td>40.754616</td>\n",
              "      <td>-73.997116</td>\n",
              "      <td>WEST 35 STREET</td>\n",
              "      <td>DYER AVENUE</td>\n",
              "      <td>0</td>\n",
              "      <td>0</td>\n",
              "      <td>0</td>\n",
              "      <td>0</td>\n",
              "      <td>0</td>\n",
              "      <td>0</td>\n",
              "      <td>0</td>\n",
              "      <td>0</td>\n",
              "      <td>TRAFFIC CONTROL DISREGARDED</td>\n",
              "      <td>TRAFFIC CONTROL DISREGARDED</td>\n",
              "      <td>NaN</td>\n",
              "      <td>NaN</td>\n",
              "      <td>NaN</td>\n",
              "      <td>STATION WAGON/SPORT UTILITY VEHICLE</td>\n",
              "      <td>STATION WAGON/SPORT UTILITY VEHICLE</td>\n",
              "      <td>NaN</td>\n",
              "      <td>NaN</td>\n",
              "      <td>NaN</td>\n",
              "    </tr>\n",
              "    <tr>\n",
              "      <th>16</th>\n",
              "      <td>2018-10-18</td>\n",
              "      <td>2021-03-08 22:30:00</td>\n",
              "      <td>QUEENS</td>\n",
              "      <td>11364</td>\n",
              "      <td>40.745790</td>\n",
              "      <td>-73.768776</td>\n",
              "      <td>HORACE HARDING EXPRESSWAY</td>\n",
              "      <td>208 STREET</td>\n",
              "      <td>0</td>\n",
              "      <td>0</td>\n",
              "      <td>0</td>\n",
              "      <td>0</td>\n",
              "      <td>0</td>\n",
              "      <td>0</td>\n",
              "      <td>0</td>\n",
              "      <td>0</td>\n",
              "      <td>FAILURE TO YIELD RIGHT-OF-WAY</td>\n",
              "      <td>UNSPECIFIED</td>\n",
              "      <td>NaN</td>\n",
              "      <td>NaN</td>\n",
              "      <td>NaN</td>\n",
              "      <td>SEDAN</td>\n",
              "      <td>STATION WAGON/SPORT UTILITY VEHICLE</td>\n",
              "      <td>NaN</td>\n",
              "      <td>NaN</td>\n",
              "      <td>NaN</td>\n",
              "    </tr>\n",
              "  </tbody>\n",
              "</table>\n",
              "</div>"
            ],
            "text/plain": [
              "   CRASH DATE          CRASH TIME  ... VEHICLE TYPE CODE 4 VEHICLE TYPE CODE 5\n",
              "1  2018-10-06 2021-03-08 16:39:00  ...                 NaN                 NaN\n",
              "4  2018-10-13 2021-03-08 12:30:00  ...                 NaN                 NaN\n",
              "5  2018-10-06 2021-03-08 21:45:00  ...                 NaN                 NaN\n",
              "13 2018-10-16 2021-03-08 14:30:00  ...                 NaN                 NaN\n",
              "16 2018-10-18 2021-03-08 22:30:00  ...                 NaN                 NaN\n",
              "\n",
              "[5 rows x 26 columns]"
            ]
          },
          "metadata": {
            "tags": []
          },
          "execution_count": 59
        }
      ]
    },
    {
      "cell_type": "markdown",
      "metadata": {
        "id": "ykhIDnxjXqxt"
      },
      "source": [
        "# Explore the Data"
      ]
    },
    {
      "cell_type": "markdown",
      "metadata": {
        "id": "jPKo7bGLXutv"
      },
      "source": [
        "Now that our data is formatted and a bit cleaned up, let's see what it can tell us.\r\n",
        "\r\n",
        "Here we have a few questions the data might help answer:\r\n",
        "- When and where do collisions occur?\r\n",
        "- Who's involved?\r\n",
        "- What's the most common reason behind a collision?\r\n",
        "- Could a particular vehicle be the cause of most collisions?\r\n",
        "- Are there hotspots that may cause more collisions/deaths?"
      ]
    },
    {
      "cell_type": "markdown",
      "metadata": {
        "id": "DD9EKVUfYEfG"
      },
      "source": [
        "#### Collisions by Region"
      ]
    },
    {
      "cell_type": "markdown",
      "metadata": {
        "id": "N_6uY2dWYKv7"
      },
      "source": [
        "With Manhattan being such a hotspot for NYC residents and tourists, one might believe Manhattan would have the most collisions. But in the following chart, we can see that isn't true. Brooklyn leads the all-time collision count at about 300,000 and Queens follows closely at a little over 250,000."
      ]
    },
    {
      "cell_type": "code",
      "metadata": {
        "id": "ZkEFBbDIK_We",
        "colab": {
          "base_uri": "https://localhost:8080/",
          "height": 372
        },
        "outputId": "1cd934df-4a6a-43a3-dd14-891729cb3542"
      },
      "source": [
        "fig, ax = plt.subplots(figsize=(10, 5))\r\n",
        "\r\n",
        "sns.countplot(data=df, x='BOROUGH')\r\n",
        "plt.title('Total Collisions by Borough')\r\n",
        "plt.xlabel('Borough')\r\n",
        "plt.ylabel('Total Collisions')"
      ],
      "execution_count": null,
      "outputs": [
        {
          "output_type": "execute_result",
          "data": {
            "text/plain": [
              "Text(0, 0.5, 'Total Collisions')"
            ]
          },
          "metadata": {
            "tags": []
          },
          "execution_count": 60
        },
        {
          "output_type": "display_data",
          "data": {
            "image/png": "[encoded data removed]",
            "text/plain": [
              "<Figure size 720x360 with 1 Axes>"
            ]
          },
          "metadata": {
            "tags": [],
            "needs_background": "light"
          }
        }
      ]
    },
    {
      "cell_type": "markdown",
      "metadata": {
        "id": "2DItyWXpkcDs"
      },
      "source": [
        "#### Collisions Over Time\r\n",
        "\r\n",
        "Another good metric to explore is time. In the following graph, we can see the total collision reports per month, spanning from the data's inception of 2012."
      ]
    },
    {
      "cell_type": "markdown",
      "metadata": {
        "id": "ABfy2Fv50nmF"
      },
      "source": [
        "Now that we're looking at the monthly collisions, we'll notice that all the years collectively have a relatively low amount of collision reports in the first half of the year, especially the month of April. However, interestingly, as the summer begins to approach, the number of collisions start to drastically increase and plateau until the year ends."
      ]
    },
    {
      "cell_type": "code",
      "metadata": {
        "colab": {
          "base_uri": "https://localhost:8080/",
          "height": 372
        },
        "id": "zJV_gQzIqCvR",
        "outputId": "216da295-4a58-4914-f5ad-396fb8e71951"
      },
      "source": [
        "fig, ax = plt.subplots(figsize=(15, 5))\r\n",
        "\r\n",
        "# Extract the month from all collisions\r\n",
        "df_monthly = df['CRASH DATE'].dt.month_name().value_counts().to_frame('total')\r\n",
        "\r\n",
        "# Re-order the rows by month\r\n",
        "months_inorder = ['January', 'February', 'March', 'April', 'May', 'June', 'July', 'August', 'September', 'October', 'November', 'December']\r\n",
        "df_monthly = df_monthly.reindex(months_inorder, axis=0)\r\n",
        "\r\n",
        "# Display it\r\n",
        "sns.lineplot(data=df_monthly, x=df_monthly.index, y='total')\r\n",
        "plt.title('Total Collisions per Month')\r\n",
        "plt.xlabel('Month')\r\n",
        "plt.ylabel('Total Collisions')"
      ],
      "execution_count": null,
      "outputs": [
        {
          "output_type": "execute_result",
          "data": {
            "text/plain": [
              "Text(0, 0.5, 'Total Collisions')"
            ]
          },
          "metadata": {
            "tags": []
          },
          "execution_count": 130
        },
        {
          "output_type": "display_data",
          "data": {
            "image/png": "[encoded data removed]",
            "text/plain": [
              "<Figure size 1080x360 with 1 Axes>"
            ]
          },
          "metadata": {
            "tags": [],
            "needs_background": "light"
          }
        }
      ]
    },
    {
      "cell_type": "markdown",
      "metadata": {
        "id": "MNG1VRQl0c3i"
      },
      "source": [
        "#### Persons Involved\r\n",
        "\r\n",
        "Paying attention to the road is likely the most important aspect to master for anyone piloting a vehicle as lack of experience here can cause fatal consequences - like the victims reported in these collisions. But that skill doesn't apply only to the drivers but the pedestrians as well."
      ]
    },
    {
      "cell_type": "markdown",
      "metadata": {
        "id": "VD6vvppP1liO"
      },
      "source": [
        "In the following, we will be looking at the people involved during collisions. How many are injured? How many suffered a lethal consequence?"
      ]
    },
    {
      "cell_type": "code",
      "metadata": {
        "colab": {
          "base_uri": "https://localhost:8080/",
          "height": 481
        },
        "id": "FeqYUxOi0ha8",
        "outputId": "55fd6d92-70bc-46ac-fd4b-9939f8e9668b"
      },
      "source": [
        "fig, ax = plt.subplots(figsize=(7, 7))\r\n",
        "\r\n",
        "sns.countplot(data=df, x='NUMBER OF PERSONS INJURED')\r\n",
        "plt.title('Number of Persons Injured per Collision')\r\n",
        "plt.xlabel('Number of Persons Injured')\r\n",
        "plt.ylabel('Count')"
      ],
      "execution_count": null,
      "outputs": [
        {
          "output_type": "execute_result",
          "data": {
            "text/plain": [
              "Text(0, 0.5, 'Count')"
            ]
          },
          "metadata": {
            "tags": []
          },
          "execution_count": 315
        },
        {
          "output_type": "display_data",
          "data": {
            "image/png": "[encoded data removed]",
            "text/plain": [
              "<Figure size 504x504 with 1 Axes>"
            ]
          },
          "metadata": {
            "tags": [],
            "needs_background": "light"
          }
        }
      ]
    },
    {
      "cell_type": "code",
      "metadata": {
        "colab": {
          "base_uri": "https://localhost:8080/",
          "height": 481
        },
        "id": "MZeH8wtL2-JE",
        "outputId": "407a7e09-5d06-4e29-8e87-55fa2b00e88a"
      },
      "source": [
        "fig, ax = plt.subplots(figsize=(7, 7))\r\n",
        "\r\n",
        "sns.countplot(data=df, x='NUMBER OF PERSONS KILLED')\r\n",
        "\r\n",
        "plt.title('Number of Persons Killed per Collision')\r\n",
        "plt.xlabel('Number of Persons Killed')\r\n",
        "plt.ylabel('Count')"
      ],
      "execution_count": null,
      "outputs": [
        {
          "output_type": "execute_result",
          "data": {
            "text/plain": [
              "Text(0, 0.5, 'Count')"
            ]
          },
          "metadata": {
            "tags": []
          },
          "execution_count": 316
        },
        {
          "output_type": "display_data",
          "data": {
            "image/png": "[encoded data removed]",
            "text/plain": [
              "<Figure size 504x504 with 1 Axes>"
            ]
          },
          "metadata": {
            "tags": [],
            "needs_background": "light"
          }
        }
      ]
    },
    {
      "cell_type": "markdown",
      "metadata": {
        "id": "_TTeTflkIXTS"
      },
      "source": [
        "The above plots give us information on how many people are involved in the collisions and whether or not they suffered injuries and/or deaths. As it's noticeable, both plots have a large bar at zero which thankfully means a large portion of collisions involve no one being injured or dead. However, that doesn't mean it doesn't happen. In the plot representing individuals who were injured, we can see a couple hundred-thousand instances where one or more people are injured. As for the plot representing individuals who suffered fatality, the bars are not even visible due to \"zero\" being so large, almost reaching one million instances."
      ]
    }
  ]
}